{
  "cells": [
    {
      "cell_type": "markdown",
      "metadata": {
        "id": "BLgRD5hhuuoU"
      },
      "source": [
        "# NLP Assignment #2\n",
        "### by Prodromos Kampouridis "
      ]
    },
    {
      "cell_type": "markdown",
      "metadata": {
        "id": "9EmKXX5huwoc"
      },
      "source": [
        "## B. Traditional Text Classification\n"
      ]
    },
    {
      "cell_type": "markdown",
      "metadata": {
        "id": "7m_9oRHGuy0T"
      },
      "source": [
        "### Import Libraries | Data\n"
      ]
    },
    {
      "cell_type": "code",
      "execution_count": 1,
      "metadata": {
        "id": "-yNTYpuNu2Qi"
      },
      "outputs": [],
      "source": [
        "import pandas as pd\n",
        "import numpy as np\n",
        "from sklearn.feature_extraction.text import TfidfVectorizer\n",
        "from sklearn.naive_bayes import MultinomialNB\n",
        "from sklearn.svm import LinearSVC\n",
        "from sklearn.pipeline import Pipeline\n",
        "from sklearn.metrics import classification_report\n",
        "from sklearn.metrics import accuracy_score\n",
        "from time import time\n",
        "\n",
        "# Load the data\n",
        "train = pd.read_csv('train.csv')\n",
        "test = pd.read_csv('test.csv')"
      ]
    },
    {
      "cell_type": "markdown",
      "metadata": {
        "id": "RVeyfehAvouf"
      },
      "source": [
        "### Answers"
      ]
    },
    {
      "cell_type": "markdown",
      "metadata": {
        "id": "pMBpd-kMwXyY"
      },
      "source": [
        "### 1 + 2."
      ]
    },
    {
      "cell_type": "markdown",
      "metadata": {
        "id": "YF-2HjmMx3dj"
      },
      "source": [
        "#### Convert title and description to lowercase"
      ]
    },
    {
      "cell_type": "code",
      "execution_count": 2,
      "metadata": {
        "id": "9dNv00pDx5kC"
      },
      "outputs": [],
      "source": [
        "train['Title'] = train['Title'].str.lower()\n",
        "train['Description'] = train['Description'].str.lower()\n",
        "test['Title'] = test['Title'].str.lower()\n",
        "test['Description'] = test['Description'].str.lower()"
      ]
    },
    {
      "cell_type": "markdown",
      "metadata": {
        "id": "Tw1jKyxlx80c"
      },
      "source": [
        "#### Combine title and description into a single text column"
      ]
    },
    {
      "cell_type": "code",
      "execution_count": 3,
      "metadata": {
        "id": "FWZYT6CHyBw5"
      },
      "outputs": [],
      "source": [
        "train['text'] = train['Title'] +' '+ train['Description']\n",
        "test['text'] = test['Title'] +' '+ test['Description']"
      ]
    },
    {
      "cell_type": "markdown",
      "metadata": {
        "id": "_sGnaOD7yFcJ"
      },
      "source": [
        "#### Define the pipelines"
      ]
    },
    {
      "cell_type": "code",
      "execution_count": 4,
      "metadata": {
        "id": "vJrb0-LAzROs"
      },
      "outputs": [],
      "source": [
        "mnb_unigram_pipeline = Pipeline([\n",
        "    ('tfidf', TfidfVectorizer(analyzer='word', ngram_range=(1, 1))),\n",
        "    ('clf', MultinomialNB())\n",
        "])\n",
        "mnb_trigram_pipeline = Pipeline([\n",
        "    ('tfidf', TfidfVectorizer(analyzer='char', ngram_range=(3, 3))),\n",
        "    ('clf', MultinomialNB())\n",
        "])\n",
        "svm_unigram_pipeline = Pipeline([\n",
        "    ('tfidf', TfidfVectorizer(analyzer='word', ngram_range=(1, 1))),\n",
        "    ('clf', LinearSVC(C=1))\n",
        "])\n",
        "svm_trigram_pipeline = Pipeline([\n",
        "    ('tfidf', TfidfVectorizer(analyzer='char', ngram_range=(3, 3))),\n",
        "    ('clf', LinearSVC(C=1))\n",
        "])\n",
        "\n",
        "pipelines = [mnb_unigram_pipeline, mnb_trigram_pipeline, svm_unigram_pipeline, svm_trigram_pipeline]\n",
        "pipeline_names = ['NB (word 1-grams)', 'NB (char 3-grams)', 'SVM (word 1-grams)', 'SVM (char 3-grams)']"
      ]
    },
    {
      "cell_type": "markdown",
      "metadata": {
        "id": "Yv8_XyGvz8rD"
      },
      "source": [
        "#### Evaluating Accuracy, Dimensionality, and Time Cost of the Text Classification Models"
      ]
    },
    {
      "cell_type": "code",
      "execution_count": 5,
      "metadata": {
        "id": "wwTW8Y4yu4bs"
      },
      "outputs": [],
      "source": [
        "results = {'Accuracy': [], 'Dimensionality': [], 'Time Cost': []}\n",
        "\n",
        "for pipeline, name in zip(pipelines, pipeline_names):\n",
        "    # Train the model and record the time cost\n",
        "    start_time = time()\n",
        "    pipeline.fit(train['text'], train['Class Index'])\n",
        "    end_time = time()\n",
        "    # Make predictions on the test set\n",
        "    preds = pipeline.predict(test['text'])\n",
        "    if name == 'NB (word 1-grams)':\n",
        "        mnb_unigram_preds = preds\n",
        "    elif name == 'NB (char 3-grams)':\n",
        "        mnb_trigram_preds = preds\n",
        "    elif name == 'SVM (word 1-grams)':\n",
        "        svm_unigram_preds = preds\n",
        "    elif name == 'SVM (char 3-grams)':\n",
        "        svm_trigram_preds = preds\n",
        "    # Calculate accuracy\n",
        "    accuracy = accuracy_score(test['Class Index'], preds)\n",
        "    # Get dimensionality\n",
        "    dimensionality = pipeline.named_steps['tfidf'].vocabulary_.__len__()\n",
        "    # Get time cost\n",
        "    time_cost = end_time - start_time\n",
        "    # Store results\n",
        "    results['Accuracy'].append(accuracy)\n",
        "    results['Dimensionality'].append(dimensionality)\n",
        "    results['Time Cost'].append(time_cost)"
      ]
    },
    {
      "cell_type": "markdown",
      "metadata": {
        "id": "YU-ZPgfGzhlB"
      },
      "source": [
        "#### Create the DataFrame with the results and display it"
      ]
    },
    {
      "cell_type": "code",
      "execution_count": 6,
      "metadata": {
        "colab": {
          "base_uri": "https://localhost:8080/",
          "height": 205
        },
        "id": "4DjNJsdkzlUJ",
        "outputId": "44cf18a7-e246-4b72-a798-5b66ad1a9403"
      },
      "outputs": [
        {
          "data": {
            "text/html": [
              "\n",
              "  <div id=\"df-0af9eb69-403a-4a1a-bf22-ec86b70ad4a3\">\n",
              "    <div class=\"colab-df-container\">\n",
              "      <div>\n",
              "<style scoped>\n",
              "    .dataframe tbody tr th:only-of-type {\n",
              "        vertical-align: middle;\n",
              "    }\n",
              "\n",
              "    .dataframe tbody tr th {\n",
              "        vertical-align: top;\n",
              "    }\n",
              "\n",
              "    .dataframe thead th {\n",
              "        text-align: right;\n",
              "    }\n",
              "</style>\n",
              "<table border=\"1\" class=\"dataframe\">\n",
              "  <thead>\n",
              "    <tr style=\"text-align: right;\">\n",
              "      <th></th>\n",
              "      <th>NB (word 1-grams)</th>\n",
              "      <th>NB (char 3-grams)</th>\n",
              "      <th>SVM (word 1-grams)</th>\n",
              "      <th>SVM (char 3-grams)</th>\n",
              "    </tr>\n",
              "  </thead>\n",
              "  <tbody>\n",
              "    <tr>\n",
              "      <th>Accuracy</th>\n",
              "      <td>0.902237</td>\n",
              "      <td>0.868684</td>\n",
              "      <td>0.919605</td>\n",
              "      <td>0.912105</td>\n",
              "    </tr>\n",
              "    <tr>\n",
              "      <th>Dimensionality</th>\n",
              "      <td>64999.000000</td>\n",
              "      <td>31074.000000</td>\n",
              "      <td>64999.000000</td>\n",
              "      <td>31074.000000</td>\n",
              "    </tr>\n",
              "    <tr>\n",
              "      <th>Time Cost</th>\n",
              "      <td>4.826115</td>\n",
              "      <td>26.547196</td>\n",
              "      <td>15.030112</td>\n",
              "      <td>35.974033</td>\n",
              "    </tr>\n",
              "  </tbody>\n",
              "</table>\n",
              "</div>\n",
              "      <button class=\"colab-df-convert\" onclick=\"convertToInteractive('df-0af9eb69-403a-4a1a-bf22-ec86b70ad4a3')\"\n",
              "              title=\"Convert this dataframe to an interactive table.\"\n",
              "              style=\"display:none;\">\n",
              "        \n",
              "  <svg xmlns=\"http://www.w3.org/2000/svg\" height=\"24px\"viewBox=\"0 0 24 24\"\n",
              "       width=\"24px\">\n",
              "    <path d=\"M0 0h24v24H0V0z\" fill=\"none\"/>\n",
              "    <path d=\"M18.56 5.44l.94 2.06.94-2.06 2.06-.94-2.06-.94-.94-2.06-.94 2.06-2.06.94zm-11 1L8.5 8.5l.94-2.06 2.06-.94-2.06-.94L8.5 2.5l-.94 2.06-2.06.94zm10 10l.94 2.06.94-2.06 2.06-.94-2.06-.94-.94-2.06-.94 2.06-2.06.94z\"/><path d=\"M17.41 7.96l-1.37-1.37c-.4-.4-.92-.59-1.43-.59-.52 0-1.04.2-1.43.59L10.3 9.45l-7.72 7.72c-.78.78-.78 2.05 0 2.83L4 21.41c.39.39.9.59 1.41.59.51 0 1.02-.2 1.41-.59l7.78-7.78 2.81-2.81c.8-.78.8-2.07 0-2.86zM5.41 20L4 18.59l7.72-7.72 1.47 1.35L5.41 20z\"/>\n",
              "  </svg>\n",
              "      </button>\n",
              "      \n",
              "  <style>\n",
              "    .colab-df-container {\n",
              "      display:flex;\n",
              "      flex-wrap:wrap;\n",
              "      gap: 12px;\n",
              "    }\n",
              "\n",
              "    .colab-df-convert {\n",
              "      background-color: #E8F0FE;\n",
              "      border: none;\n",
              "      border-radius: 50%;\n",
              "      cursor: pointer;\n",
              "      display: none;\n",
              "      fill: #1967D2;\n",
              "      height: 32px;\n",
              "      padding: 0 0 0 0;\n",
              "      width: 32px;\n",
              "    }\n",
              "\n",
              "    .colab-df-convert:hover {\n",
              "      background-color: #E2EBFA;\n",
              "      box-shadow: 0px 1px 2px rgba(60, 64, 67, 0.3), 0px 1px 3px 1px rgba(60, 64, 67, 0.15);\n",
              "      fill: #174EA6;\n",
              "    }\n",
              "\n",
              "    [theme=dark] .colab-df-convert {\n",
              "      background-color: #3B4455;\n",
              "      fill: #D2E3FC;\n",
              "    }\n",
              "\n",
              "    [theme=dark] .colab-df-convert:hover {\n",
              "      background-color: #434B5C;\n",
              "      box-shadow: 0px 1px 3px 1px rgba(0, 0, 0, 0.15);\n",
              "      filter: drop-shadow(0px 1px 2px rgba(0, 0, 0, 0.3));\n",
              "      fill: #FFFFFF;\n",
              "    }\n",
              "  </style>\n",
              "\n",
              "      <script>\n",
              "        const buttonEl =\n",
              "          document.querySelector('#df-0af9eb69-403a-4a1a-bf22-ec86b70ad4a3 button.colab-df-convert');\n",
              "        buttonEl.style.display =\n",
              "          google.colab.kernel.accessAllowed ? 'block' : 'none';\n",
              "\n",
              "        async function convertToInteractive(key) {\n",
              "          const element = document.querySelector('#df-0af9eb69-403a-4a1a-bf22-ec86b70ad4a3');\n",
              "          const dataTable =\n",
              "            await google.colab.kernel.invokeFunction('convertToInteractive',\n",
              "                                                     [key], {});\n",
              "          if (!dataTable) return;\n",
              "\n",
              "          const docLinkHtml = 'Like what you see? Visit the ' +\n",
              "            '<a target=\"_blank\" href=https://colab.research.google.com/notebooks/data_table.ipynb>data table notebook</a>'\n",
              "            + ' to learn more about interactive tables.';\n",
              "          element.innerHTML = '';\n",
              "          dataTable['output_type'] = 'display_data';\n",
              "          await google.colab.output.renderOutput(dataTable, element);\n",
              "          const docLink = document.createElement('div');\n",
              "          docLink.innerHTML = docLinkHtml;\n",
              "          element.appendChild(docLink);\n",
              "        }\n",
              "      </script>\n",
              "    </div>\n",
              "  </div>\n",
              "  "
            ],
            "text/plain": [
              "                NB (word 1-grams)  NB (char 3-grams)  SVM (word 1-grams)  \\\n",
              "Accuracy                 0.902237           0.868684            0.919605   \n",
              "Dimensionality       64999.000000       31074.000000        64999.000000   \n",
              "Time Cost                4.826115          26.547196           15.030112   \n",
              "\n",
              "                SVM (char 3-grams)  \n",
              "Accuracy                  0.912105  \n",
              "Dimensionality        31074.000000  \n",
              "Time Cost                35.974033  "
            ]
          },
          "metadata": {},
          "output_type": "display_data"
        }
      ],
      "source": [
        "results_df = pd.DataFrame(results, index=pipeline_names)\n",
        "display(results_df.T)"
      ]
    },
    {
      "cell_type": "markdown",
      "metadata": {
        "id": "ncGb8zDRwZ6I"
      },
      "source": [
        "## 3."
      ]
    },
    {
      "cell_type": "markdown",
      "metadata": {
        "id": "m3lmnzyf0n-Q"
      },
      "source": [
        "#### Find the indices of the texts that all four models misclassify"
      ]
    },
    {
      "cell_type": "code",
      "execution_count": 7,
      "metadata": {
        "id": "0V2Hjc3G0qZf"
      },
      "outputs": [],
      "source": [
        "misclassified_indices = [i for i in range(len(test['Class Index'])) if all([\n",
        "    mnb_unigram_preds[i] != test['Class Index'][i],\n",
        "    mnb_trigram_preds[i] != test['Class Index'][i],\n",
        "    svm_unigram_preds[i] != test['Class Index'][i],\n",
        "    svm_trigram_preds[i] != test['Class Index'][i]\n",
        "])]"
      ]
    },
    {
      "cell_type": "markdown",
      "metadata": {
        "id": "1GtRbArNqMJK"
      },
      "source": [
        "#### Show the total number of misclassified texts"
      ]
    },
    {
      "cell_type": "code",
      "execution_count": 8,
      "metadata": {
        "colab": {
          "base_uri": "https://localhost:8080/"
        },
        "id": "ftykquaSqJ9o",
        "outputId": "356c191c-fde1-41c0-ba7f-a0aed97af08a"
      },
      "outputs": [
        {
          "name": "stdout",
          "output_type": "stream",
          "text": [
            "Total number of misclassified texts: 341\n"
          ]
        }
      ],
      "source": [
        "print('Total number of misclassified texts:', len(misclassified_indices))"
      ]
    },
    {
      "cell_type": "markdown",
      "metadata": {
        "id": "dpvoI-_e0soQ"
      },
      "source": [
        "#### Show a text that was misclassified by all four models"
      ]
    },
    {
      "cell_type": "code",
      "execution_count": 10,
      "metadata": {
        "colab": {
          "base_uri": "https://localhost:8080/"
        },
        "id": "2JjeCHqE0vIH",
        "outputId": "83d7114b-ab4a-4581-9409-3a86b671a64e"
      },
      "outputs": [
        {
          "name": "stdout",
          "output_type": "stream",
          "text": [
            "Example of misclassified text:\n",
            "rivals try to turn tables on charles schwab by michael liedtke     san francisco (ap) -- with its low prices and iconoclastic attitude, discount stock broker charles schwab corp. (sch) represented an annoying stone in wall street's wing-tipped shoes for decades...\n"
          ]
        }
      ],
      "source": [
        "if len(misclassified_indices) > 0:\n",
        "    print('Example of misclassified text:')\n",
        "    print(test.iloc[misclassified_indices[0]]['text'])\n",
        "else:\n",
        "    print('No texts were misclassified by all four models.')"
      ]
    },
    {
      "cell_type": "markdown",
      "metadata": {
        "id": "AY_kzcML1Lo4"
      },
      "source": [
        "#### Count the number of misclassified texts per category"
      ]
    },
    {
      "cell_type": "code",
      "execution_count": 11,
      "metadata": {
        "colab": {
          "base_uri": "https://localhost:8080/"
        },
        "id": "dafu2y5I1OoE",
        "outputId": "63f523df-0c69-4a26-e89f-b5731a257422"
      },
      "outputs": [
        {
          "name": "stdout",
          "output_type": "stream",
          "text": [
            "Number of misclassified texts per category:\n",
            "World       112\n",
            "Sports        9\n",
            "Business    135\n",
            "Sci/Tech     85\n",
            "Name: Class Index, dtype: int64\n"
          ]
        }
      ],
      "source": [
        "category_counts = test.iloc[misclassified_indices]['Class Index'].value_counts().sort_index()\n",
        "category_counts.index = category_counts.index.map({1: 'World', 2: 'Sports', 3: 'Business', 4: 'Sci/Tech'})\n",
        "print('Number of misclassified texts per category:')\n",
        "print(category_counts)"
      ]
    },
    {
      "cell_type": "markdown",
      "metadata": {
        "id": "E5DuR-aR1P9L"
      },
      "source": [
        "#### Find the most common pair of correct category - wrong prediction"
      ]
    },
    {
      "cell_type": "code",
      "execution_count": 12,
      "metadata": {
        "colab": {
          "base_uri": "https://localhost:8080/"
        },
        "id": "EN2AQHUau8Ya",
        "outputId": "64c0da17-3fc1-43e6-d3e8-94574b32d22b"
      },
      "outputs": [
        {
          "name": "stdout",
          "output_type": "stream",
          "text": [
            "The most common pair of correct category - wrong prediction and the number of times found: ([Business, Sci/Tech], 381)\n"
          ]
        }
      ],
      "source": [
        "pairs = []\n",
        "for i in misclassified_indices:\n",
        "    true_label = test.iloc[i]['Class Index']\n",
        "    predicted_labels = [mnb_unigram_preds[i], mnb_trigram_preds[i], svm_unigram_preds[i], svm_trigram_preds[i]]\n",
        "    for predicted_label in predicted_labels:\n",
        "        pairs.append((true_label, predicted_label))\n",
        "\n",
        "pairs_counts = pd.Series(pairs).value_counts()\n",
        "most_common_pair = pairs_counts.index[0]\n",
        "most_common_category = {1: 'World', 2: 'Sports', 3: 'Business', 4: 'Sci/Tech'}[most_common_pair[0]]\n",
        "most_common_wrong_prediction = {1: 'World', 2: 'Sports', 3: 'Business', 4: 'Sci/Tech'}[most_common_pair[1]]\n",
        "num_times_found = pairs_counts.iloc[0]\n",
        "print(f\"The most common pair of correct category - wrong prediction and the number of times found: ([{most_common_category}, {most_common_wrong_prediction}], {num_times_found})\")"
      ]
    }
  ],
  "metadata": {
    "colab": {
      "provenance": []
    },
    "kernelspec": {
      "display_name": "Python 3 (ipykernel)",
      "language": "python",
      "name": "python3"
    },
    "language_info": {
      "codemirror_mode": {
        "name": "ipython",
        "version": 3
      },
      "file_extension": ".py",
      "mimetype": "text/x-python",
      "name": "python",
      "nbconvert_exporter": "python",
      "pygments_lexer": "ipython3",
      "version": "3.9.13"
    }
  },
  "nbformat": 4,
  "nbformat_minor": 0
}
