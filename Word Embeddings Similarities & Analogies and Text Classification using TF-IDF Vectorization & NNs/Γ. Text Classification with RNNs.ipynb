{
 "cells": [
  {
   "cell_type": "markdown",
   "metadata": {
    "id": "4XMw8CsBv-7g"
   },
   "source": [
    "# NLP Assignment #2\n",
    "### by Prodromos Kampouridis "
   ]
  },
  {
   "cell_type": "markdown",
   "metadata": {
    "id": "LqOiDQg3wDb-"
   },
   "source": [
    "### Γ. Text Classification with RNNs"
   ]
  },
  {
   "cell_type": "markdown",
   "metadata": {},
   "source": [
    "#### IMPORTANT NOTE\n",
    "##### *Due to the large length of code, the answers to task Γ can also be found as markdowns in the cells below.*\n",
    "\n",
    "\n",
    "##### *For more detailed information, please refer to the report entitled PRODROMOS KAMPOURIDIS REPORT*"
   ]
  },
  {
   "cell_type": "markdown",
   "metadata": {
    "id": "MEHvKQqY_RiT"
   },
   "source": [
    "Firstly, we modify the given code in order to create some reusable functions for each subquestion.The following cell containes the modified data preprocessing, model training and model evaluation code. Furthermore, we move the functionality of data preprocessing under a function named \"preprocess_data\" that receives the max_words variable as a parameter, so that we can later reuse the same code to produce data loaders and vocabulary based for different max_words value for task 3. Moreover, we alter the TrainModel function to calculate the average epoch time cost in seconds and return it."
   ]
  },
  {
   "cell_type": "code",
   "execution_count": null,
   "metadata": {
    "id": "2lD7mGisa1SS"
   },
   "outputs": [],
   "source": [
    "\"\"\"\n",
    "\n",
    "A RNN classifier applied to AG_NEWS dataset\n",
    "\n",
    "Download dataset:\n",
    "https://www.kaggle.com/datasets/amananandrai/ag-news-classification-dataset\n",
    "\n",
    "\"\"\"\n",
    "import time\n",
    "import random\n",
    "\n",
    "import torch\n",
    "import numpy as np\n",
    "\n",
    "from torch.utils.data import DataLoader\n",
    "from torchtext.data import get_tokenizer\n",
    "from torchtext.vocab import build_vocab_from_iterator\n",
    "from torch.utils.data.dataset import random_split\n",
    "from torch import nn\n",
    "from torch.nn import functional as F\n",
    "import pandas as pd\n",
    "from tqdm import tqdm\n",
    "from sklearn.metrics import accuracy_score, classification_report, confusion_matrix\n",
    "\n",
    "device = torch.device(\"cuda\" if torch.cuda.is_available() else \"cpu\")\n",
    "\n",
    "# HYPER-PARAMETERS\n",
    "MAX_WORDS = 25\n",
    "EPOCHS = 15\n",
    "LEARNING_RATE = 1e-3\n",
    "BATCH_SIZE = 1024\n",
    "EMBEDDING_DIM = 100\n",
    "HIDDEN_DIM = 64\n",
    "\n",
    "######################################################################\n",
    "# Read dataset files \n",
    "# ------------------\n",
    "\n",
    "\n",
    "train_data = pd.read_csv('train.csv')\n",
    "test_data = pd.read_csv('test.csv')\n",
    "\n",
    "######################################################################\n",
    "# Data processing \n",
    "# -----------------------------\n",
    "\n",
    "\n",
    "tokenizer = get_tokenizer(\"basic_english\")\n",
    "\n",
    "def preprocess_data(max_words, vocab=None):\n",
    "\n",
    "    # All texts are truncated and padded to max_words tokens\n",
    "    def collate_batch(batch):\n",
    "        Y, X = list(zip(*batch))\n",
    "        Y = torch.tensor(Y) - 1 # Target names in range [0,1,2,3] instead of [1,2,3,4]\n",
    "        X = [vocab(tokenizer(text)) for text in X]\n",
    "        # Bringing all samples to max_words length. Shorter texts are padded with <PAD> sequences, longer texts are truncated.\n",
    "        X = [tokens+([vocab['<PAD>']]* (max_words-len(tokens))) if len(tokens)<max_words else tokens[:max_words] for tokens in X]\n",
    "        return torch.tensor(X, dtype=torch.int32).to(device), Y.to(device) \n",
    "\n",
    "    train_dataset = [(label,train_data['Title'][i] + ' ' + train_data['Description'][i]) for i,label in enumerate(train_data['Class Index'])]\n",
    "    test_dataset = [(label,test_data['Title'][i] + ' ' + test_data['Description'][i]) for i,label in enumerate(test_data['Class Index'])]\n",
    "\n",
    "    train_loader = DataLoader(train_dataset, batch_size=BATCH_SIZE,\n",
    "                                  shuffle=True, collate_fn=collate_batch)\n",
    "    test_loader = DataLoader(test_dataset, batch_size=BATCH_SIZE,\n",
    "                                  shuffle=False, collate_fn=collate_batch)\n",
    "    \n",
    "    def build_vocabulary(datasets):\n",
    "        for dataset in datasets:\n",
    "            for _, text in dataset:\n",
    "                yield tokenizer(text)\n",
    "\n",
    "    if vocab is None:\n",
    "        # Vocabulary includes all tokens with at least 10 occurrences in the texts\n",
    "        # Special tokens <PAD> and <UNK> are used for padding sequences and unknown words respectively\n",
    "        vocab = build_vocab_from_iterator(build_vocabulary([train_dataset, test_dataset]), min_freq=10, specials=[\"<PAD>\",\"<UNK>\"])\n",
    "        vocab.set_default_index(vocab[\"<UNK>\"])\n",
    "\n",
    "    return train_dataset, test_dataset, train_loader, test_loader, vocab\n",
    "\n",
    "train_dataset, test_dataset, train_loader, test_loader, vocab = preprocess_data(MAX_WORDS)\n",
    "\n",
    "target_classes = [\"World\", \"Sports\", \"Business\", \"Sci/Tech\"]\n",
    "\n",
    "\n",
    "######################################################################\n",
    "# Define functions to train and evaluate the model\n",
    "# ------------------------------------------------\n",
    "\n",
    "# Count model parameters\n",
    "def count_parameters(model):\n",
    "    return sum(p.numel() for p in model.parameters() if p.requires_grad)\n",
    "\n",
    "def EvaluateModel(model, loss_fn, val_loader):\n",
    "    model.eval()\n",
    "    with torch.no_grad():\n",
    "        Y_actual, Y_preds, losses = [],[],[]\n",
    "        for X, Y in val_loader:\n",
    "            preds = model(X)\n",
    "            loss = loss_fn(preds, Y)\n",
    "            losses.append(loss.item())\n",
    "\n",
    "            Y_actual.append(Y)\n",
    "            Y_preds.append(preds.argmax(dim=-1))\n",
    "\n",
    "        Y_actual = torch.cat(Y_actual)\n",
    "        Y_preds = torch.cat(Y_preds)\n",
    "    \n",
    "    # Returns mean loss, actual labels, predicted labels \n",
    "    return torch.tensor(losses).mean(), Y_actual.detach().cpu().numpy(), Y_preds.detach().cpu().numpy()\n",
    "\n",
    "\n",
    "def TrainModel(model, loss_fn, optimizer, train_loader, epochs):\n",
    "    epoch_times_list = []\n",
    "    for i in range(1, epochs+1):\n",
    "        start = time.time()\n",
    "        model.train()\n",
    "        print('Epoch:',i)\n",
    "        losses = []\n",
    "        for X, Y in tqdm(train_loader):\n",
    "            Y_preds = model(X)\n",
    "\n",
    "            loss = loss_fn(Y_preds, Y)\n",
    "            losses.append(loss.item())\n",
    "\n",
    "            optimizer.zero_grad()\n",
    "            loss.backward()\n",
    "            optimizer.step()\n",
    "\n",
    "        epoch_time = (time.time() - start)\n",
    "        epoch_times_list.append(epoch_time)\n",
    "        print(\"Train Loss : {:.3f}\".format(torch.tensor(losses).mean()))\n",
    "    \n",
    "    # return the average epoch duration in seconds.\n",
    "    return sum(epoch_times_list) / len(epoch_times_list)\n"
   ]
  },
  {
   "cell_type": "markdown",
   "metadata": {
    "id": "Llo0jHU4BzEX"
   },
   "source": [
    "Thereafter, we alter the Model class to make it customizable. This allows us to use this class to create all alternative models of the first task, by adjusting the rnn_type, rnn_layers and bidirectional parameters, and also load pre-trained embeddings and choose to keep them freezed or not (pretrained_embeddings and freeze_embeddings parameters), for questions 4 and 5."
   ]
  },
  {
   "cell_type": "code",
   "execution_count": null,
   "metadata": {
    "id": "tz8tZLUebNS5"
   },
   "outputs": [],
   "source": [
    "######################################################################\n",
    "# Define the model\n",
    "# ----------------\n",
    "class Model(nn.Module):\n",
    "    def __init__(self, input_dim, embedding_dim, hidden_dim, output_dim, rnn_type, rnn_layers, bidirectional, pretrained_embeddings=None, freeze_embeddings=False):\n",
    "        super(Model, self).__init__()\n",
    "        \n",
    "        # Setting seed to ensure reproducibility\n",
    "        SEED = 1\n",
    "        random.seed(SEED)\n",
    "        np.random.seed(SEED)\n",
    "        torch.manual_seed(SEED)\n",
    "        torch.cuda.manual_seed_all(SEED)\n",
    "\n",
    "        if pretrained_embeddings is None:\n",
    "            self.embedding_layer = nn.Embedding(num_embeddings=input_dim, embedding_dim=embedding_dim)\n",
    "        else:\n",
    "            # Create embedding layer with shape that matches the pretrained embeddings matrix. Setting padding index to 0, to avoid training the <PAD> embedding when embedding layer is not frezed.\n",
    "            self.embedding_layer = nn.Embedding(num_embeddings=pretrained_embeddings.shape[0], embedding_dim=pretrained_embeddings.shape[1], padding_idx=0)\n",
    "            self.embedding_layer.weight.data.copy_(pretrained_embeddings)\n",
    "            self.embedding_layer.weight.requires_grad = not freeze_embeddings\n",
    "        \n",
    "        if rnn_type == \"rnn\":\n",
    "          self.rnn = nn.RNN(input_size=embedding_dim, hidden_size=hidden_dim, batch_first=True, num_layers=rnn_layers, bidirectional=bidirectional)\n",
    "        elif rnn_type == \"lstm\":\n",
    "          self.rnn = nn.LSTM(input_size=embedding_dim, hidden_size=hidden_dim, batch_first=True, num_layers=rnn_layers, bidirectional=bidirectional)\n",
    "        else:\n",
    "          raise ValueError(f\"Unsupported rnn type: {rnn_type}\")\n",
    "\n",
    "        if bidirectional:\n",
    "            # In the case of bidirectional RNN, its output dimension will be 2 times the hidden size, \n",
    "            # since the hidden states of the forward and the backward RNN are concatenated. \n",
    "            # Thus, we change the input dimension of the linear layer to be 2 times the hidden dimension of the RNN, to match the output of the RNN.\n",
    "            self.linear = nn.Linear(2*hidden_dim, output_dim)\n",
    "        else:\n",
    "            self.linear = nn.Linear(hidden_dim, output_dim)\n",
    "\n",
    "    def forward(self, X_batch):\n",
    "        embeddings = self.embedding_layer(X_batch)\n",
    "        output, hidden = self.rnn(embeddings)\n",
    "        logits = self.linear(output[:,-1])  # The last output of RNN is used for sequence classification\n",
    "        probs = F.softmax(logits, dim=1)\n",
    "        return probs"
   ]
  },
  {
   "cell_type": "markdown",
   "metadata": {
    "id": "No4OJIuHDazG"
   },
   "source": [
    "In addition, we define the run_expirements method which trains and evaluates all models in an experimental_configs list and we will use it for the first question. It also supports loading of pre-trained embeddings (freezed or not), thus, we will also use it for questions 4 and 5 too."
   ]
  },
  {
   "cell_type": "code",
   "execution_count": null,
   "metadata": {
    "id": "Eo5VmW1-etKx"
   },
   "outputs": [],
   "source": [
    "def run_experiments(experimental_configs, pretrained_embeddings=None, freeze_embeddings=False):\n",
    "    results = []\n",
    "    for config in experimental_configs:\n",
    "        print(f\"Experimental configuration: {config}\")\n",
    "        classifier = Model(\n",
    "            input_dim=len(vocab), \n",
    "            embedding_dim=EMBEDDING_DIM, \n",
    "            hidden_dim=HIDDEN_DIM, \n",
    "            output_dim=len(target_classes),\n",
    "            rnn_type=config[\"rnn_type\"],\n",
    "            rnn_layers=config[\"rnn_layers\"],\n",
    "            bidirectional=config[\"bidirectional\"],\n",
    "            pretrained_embeddings=pretrained_embeddings,\n",
    "            freeze_embeddings=freeze_embeddings\n",
    "        ).to(device)\n",
    "        loss_fn = nn.CrossEntropyLoss()\n",
    "        optimizer = torch.optim.Adam([param for param in classifier.parameters() if param.requires_grad == True],lr=LEARNING_RATE)\n",
    "        num_of_parameters = count_parameters(classifier)\n",
    "\n",
    "        print('\\nModel:')\n",
    "        print(classifier)\n",
    "        print('Total parameters: ', num_of_parameters)\n",
    "        print('\\n\\n')\n",
    "\n",
    "        average_epoch_time = TrainModel(classifier, loss_fn, optimizer, train_loader, EPOCHS)\n",
    "        _, Y_actual, Y_preds = EvaluateModel(classifier, loss_fn, test_loader)\n",
    "\n",
    "        accuracy = accuracy_score(Y_actual, Y_preds)\n",
    "\n",
    "\n",
    "        print(f\"Average epoch duration: {average_epoch_time:.2f} seconds.\")\n",
    "        print(\"\\nTest Accuracy : {:.3f}\".format(accuracy))\n",
    "        print(\"\\nClassification Report : \")\n",
    "        print(classification_report(Y_actual, Y_preds, target_names=target_classes))\n",
    "        print(\"\\nConfusion Matrix : \")\n",
    "        print(confusion_matrix(Y_actual, Y_preds))\n",
    "        print(\"-\" * 80 + \"\\n\")\n",
    "\n",
    "        results.append(\n",
    "            {\n",
    "                \"Experiment name\": config[\"experiment_name\"],\n",
    "                \"Accuracy\": accuracy,\n",
    "                \"Parameters\": num_of_parameters,\n",
    "                \"Time cost\": average_epoch_time,\n",
    "                \"Y_preds\": Y_preds,\n",
    "                \"Y_actual\": Y_actual\n",
    "            }\n",
    "        )\n",
    "    return results"
   ]
  },
  {
   "cell_type": "markdown",
   "metadata": {
    "id": "S3-5nIwlEopg"
   },
   "source": [
    "As a final point, we define the print_eval_table function that prints a table showcasing the results of all models, as described in the first task."
   ]
  },
  {
   "cell_type": "code",
   "execution_count": null,
   "metadata": {
    "id": "xXJXGpE3lUNs"
   },
   "outputs": [],
   "source": [
    "from tabulate import tabulate\n",
    "\n",
    "\n",
    "def print_eval_table(results):\n",
    "    table = [\n",
    "        [\"\"] + [x[\"Experiment name\"] for x in results],\n",
    "        [\"Accuracy\"] + [x[\"Accuracy\"] for x in results],\n",
    "        [\"Parameters\"] + [x[\"Parameters\"] for x in results],\n",
    "        [\"Time cost\"] + [x[\"Time cost\"] for x in results],\n",
    "    ]\n",
    "    print(tabulate(table, headers=\"firstrow\", tablefmt=\"grid\"))\n",
    "\n"
   ]
  },
  {
   "cell_type": "markdown",
   "metadata": {
    "id": "jyTdgz1BwYTo"
   },
   "source": [
    "## Answers"
   ]
  },
  {
   "cell_type": "markdown",
   "metadata": {
    "id": "t3J6ILneWD5C"
   },
   "source": [
    "### 1."
   ]
  },
  {
   "cell_type": "markdown",
   "metadata": {
    "id": "obZh6zdiDCCo"
   },
   "source": [
    "Initially, we create a list of the experimental configurations that describe the 6 requested models. "
   ]
  },
  {
   "cell_type": "code",
   "execution_count": null,
   "metadata": {
    "id": "iBgjzKGyfY7u"
   },
   "outputs": [],
   "source": [
    "experimental_configs = [\n",
    "    {\n",
    "        \"experiment_name\": \"1RNN\",\n",
    "        \"rnn_type\": \"rnn\",\n",
    "        \"bidirectional\": False,\n",
    "        \"rnn_layers\": 1\n",
    "    },\n",
    "    {\n",
    "        \"experiment_name\": \"1Bi-RNN\",\n",
    "        \"rnn_type\": \"rnn\",\n",
    "        \"bidirectional\": True,\n",
    "        \"rnn_layers\": 1\n",
    "    },\n",
    "    {\n",
    "        \"experiment_name\": \"2Bi-RNN\",\n",
    "        \"rnn_type\": \"rnn\",\n",
    "        \"bidirectional\": True,\n",
    "        \"rnn_layers\": 2\n",
    "    },\n",
    "    {\n",
    "        \"experiment_name\": \"1LSTM\",\n",
    "        \"rnn_type\": \"lstm\",\n",
    "        \"bidirectional\": False,\n",
    "        \"rnn_layers\": 1\n",
    "    },\n",
    "    {\n",
    "        \"experiment_name\": \"1Bi-LSTM\",\n",
    "        \"rnn_type\": \"lstm\",\n",
    "        \"bidirectional\": True,\n",
    "        \"rnn_layers\": 1\n",
    "    },\n",
    "    {\n",
    "        \"experiment_name\": \"2Bi-LSTM\",\n",
    "        \"rnn_type\": \"lstm\",\n",
    "        \"bidirectional\": True,\n",
    "        \"rnn_layers\": 2\n",
    "    }\n",
    "]"
   ]
  },
  {
   "cell_type": "markdown",
   "metadata": {
    "id": "sYuZigWuFR6h"
   },
   "source": [
    "Additionally, we create, train, and evaluate these models by using the run_experiments method giving the experimental_configs as input."
   ]
  },
  {
   "cell_type": "code",
   "execution_count": null,
   "metadata": {
    "colab": {
     "base_uri": "https://localhost:8080/"
    },
    "id": "jLBpDb5wfU5v",
    "outputId": "a12d5faf-b31b-4e36-d864-d2b87112b5b9"
   },
   "outputs": [
    {
     "name": "stdout",
     "output_type": "stream",
     "text": [
      "Experimental configuration: {'experiment_name': '1RNN', 'rnn_type': 'rnn', 'bidirectional': False, 'rnn_layers': 1}\n",
      "\n",
      "Model:\n",
      "Model(\n",
      "  (embedding_layer): Embedding(21254, 100)\n",
      "  (rnn): RNN(100, 64, batch_first=True)\n",
      "  (linear): Linear(in_features=64, out_features=4, bias=True)\n",
      ")\n",
      "Total parameters:  2136284\n",
      "\n",
      "\n",
      "\n",
      "Epoch: 1\n"
     ]
    },
    {
     "name": "stderr",
     "output_type": "stream",
     "text": [
      "100%|██████████| 118/118 [00:06<00:00, 18.53it/s]\n"
     ]
    },
    {
     "name": "stdout",
     "output_type": "stream",
     "text": [
      "Train Loss : 1.292\n",
      "Epoch: 2\n"
     ]
    },
    {
     "name": "stderr",
     "output_type": "stream",
     "text": [
      "100%|██████████| 118/118 [00:04<00:00, 27.66it/s]\n"
     ]
    },
    {
     "name": "stdout",
     "output_type": "stream",
     "text": [
      "Train Loss : 1.051\n",
      "Epoch: 3\n"
     ]
    },
    {
     "name": "stderr",
     "output_type": "stream",
     "text": [
      "100%|██████████| 118/118 [00:04<00:00, 28.20it/s]\n"
     ]
    },
    {
     "name": "stdout",
     "output_type": "stream",
     "text": [
      "Train Loss : 0.963\n",
      "Epoch: 4\n"
     ]
    },
    {
     "name": "stderr",
     "output_type": "stream",
     "text": [
      "100%|██████████| 118/118 [00:05<00:00, 22.25it/s]\n"
     ]
    },
    {
     "name": "stdout",
     "output_type": "stream",
     "text": [
      "Train Loss : 0.923\n",
      "Epoch: 5\n"
     ]
    },
    {
     "name": "stderr",
     "output_type": "stream",
     "text": [
      "100%|██████████| 118/118 [00:04<00:00, 27.61it/s]\n"
     ]
    },
    {
     "name": "stdout",
     "output_type": "stream",
     "text": [
      "Train Loss : 0.903\n",
      "Epoch: 6\n"
     ]
    },
    {
     "name": "stderr",
     "output_type": "stream",
     "text": [
      "100%|██████████| 118/118 [00:04<00:00, 26.45it/s]\n"
     ]
    },
    {
     "name": "stdout",
     "output_type": "stream",
     "text": [
      "Train Loss : 0.887\n",
      "Epoch: 7\n"
     ]
    },
    {
     "name": "stderr",
     "output_type": "stream",
     "text": [
      "100%|██████████| 118/118 [00:05<00:00, 22.46it/s]\n"
     ]
    },
    {
     "name": "stdout",
     "output_type": "stream",
     "text": [
      "Train Loss : 0.876\n",
      "Epoch: 8\n"
     ]
    },
    {
     "name": "stderr",
     "output_type": "stream",
     "text": [
      "100%|██████████| 118/118 [00:04<00:00, 28.27it/s]\n"
     ]
    },
    {
     "name": "stdout",
     "output_type": "stream",
     "text": [
      "Train Loss : 0.866\n",
      "Epoch: 9\n"
     ]
    },
    {
     "name": "stderr",
     "output_type": "stream",
     "text": [
      "100%|██████████| 118/118 [00:05<00:00, 23.60it/s]\n"
     ]
    },
    {
     "name": "stdout",
     "output_type": "stream",
     "text": [
      "Train Loss : 0.859\n",
      "Epoch: 10\n"
     ]
    },
    {
     "name": "stderr",
     "output_type": "stream",
     "text": [
      "100%|██████████| 118/118 [00:04<00:00, 26.79it/s]\n"
     ]
    },
    {
     "name": "stdout",
     "output_type": "stream",
     "text": [
      "Train Loss : 0.855\n",
      "Epoch: 11\n"
     ]
    },
    {
     "name": "stderr",
     "output_type": "stream",
     "text": [
      "100%|██████████| 118/118 [00:04<00:00, 28.23it/s]\n"
     ]
    },
    {
     "name": "stdout",
     "output_type": "stream",
     "text": [
      "Train Loss : 0.848\n",
      "Epoch: 12\n"
     ]
    },
    {
     "name": "stderr",
     "output_type": "stream",
     "text": [
      "100%|██████████| 118/118 [00:05<00:00, 22.40it/s]\n"
     ]
    },
    {
     "name": "stdout",
     "output_type": "stream",
     "text": [
      "Train Loss : 0.843\n",
      "Epoch: 13\n"
     ]
    },
    {
     "name": "stderr",
     "output_type": "stream",
     "text": [
      "100%|██████████| 118/118 [00:04<00:00, 27.41it/s]\n"
     ]
    },
    {
     "name": "stdout",
     "output_type": "stream",
     "text": [
      "Train Loss : 0.839\n",
      "Epoch: 14\n"
     ]
    },
    {
     "name": "stderr",
     "output_type": "stream",
     "text": [
      "100%|██████████| 118/118 [00:04<00:00, 26.87it/s]\n"
     ]
    },
    {
     "name": "stdout",
     "output_type": "stream",
     "text": [
      "Train Loss : 0.836\n",
      "Epoch: 15\n"
     ]
    },
    {
     "name": "stderr",
     "output_type": "stream",
     "text": [
      "100%|██████████| 118/118 [00:05<00:00, 22.69it/s]\n"
     ]
    },
    {
     "name": "stdout",
     "output_type": "stream",
     "text": [
      "Train Loss : 0.834\n",
      "Average epoch duration: 4.74 seconds.\n",
      "\n",
      "Test Accuracy : 0.872\n",
      "\n",
      "Classification Report : \n",
      "              precision    recall  f1-score   support\n",
      "\n",
      "       World       0.90      0.86      0.88      1900\n",
      "      Sports       0.92      0.95      0.93      1900\n",
      "    Business       0.84      0.83      0.84      1900\n",
      "    Sci/Tech       0.82      0.85      0.84      1900\n",
      "\n",
      "    accuracy                           0.87      7600\n",
      "   macro avg       0.87      0.87      0.87      7600\n",
      "weighted avg       0.87      0.87      0.87      7600\n",
      "\n",
      "\n",
      "Confusion Matrix : \n",
      "[[1635   80  108   77]\n",
      " [  33 1798   22   47]\n",
      " [  62   38 1577  223]\n",
      " [  79   42  162 1617]]\n",
      "--------------------------------------------------------------------------------\n",
      "\n",
      "Experimental configuration: {'experiment_name': '1Bi-RNN', 'rnn_type': 'rnn', 'bidirectional': True, 'rnn_layers': 1}\n",
      "\n",
      "Model:\n",
      "Model(\n",
      "  (embedding_layer): Embedding(21254, 100)\n",
      "  (rnn): RNN(100, 64, batch_first=True, bidirectional=True)\n",
      "  (linear): Linear(in_features=128, out_features=4, bias=True)\n",
      ")\n",
      "Total parameters:  2147164\n",
      "\n",
      "\n",
      "\n",
      "Epoch: 1\n"
     ]
    },
    {
     "name": "stderr",
     "output_type": "stream",
     "text": [
      "100%|██████████| 118/118 [00:04<00:00, 26.40it/s]\n"
     ]
    },
    {
     "name": "stdout",
     "output_type": "stream",
     "text": [
      "Train Loss : 1.296\n",
      "Epoch: 2\n"
     ]
    },
    {
     "name": "stderr",
     "output_type": "stream",
     "text": [
      "100%|██████████| 118/118 [00:05<00:00, 21.13it/s]\n"
     ]
    },
    {
     "name": "stdout",
     "output_type": "stream",
     "text": [
      "Train Loss : 1.054\n",
      "Epoch: 3\n"
     ]
    },
    {
     "name": "stderr",
     "output_type": "stream",
     "text": [
      "100%|██████████| 118/118 [00:04<00:00, 26.37it/s]\n"
     ]
    },
    {
     "name": "stdout",
     "output_type": "stream",
     "text": [
      "Train Loss : 0.962\n",
      "Epoch: 4\n"
     ]
    },
    {
     "name": "stderr",
     "output_type": "stream",
     "text": [
      "100%|██████████| 118/118 [00:04<00:00, 26.04it/s]\n"
     ]
    },
    {
     "name": "stdout",
     "output_type": "stream",
     "text": [
      "Train Loss : 0.922\n",
      "Epoch: 5\n"
     ]
    },
    {
     "name": "stderr",
     "output_type": "stream",
     "text": [
      "100%|██████████| 118/118 [00:05<00:00, 19.95it/s]\n"
     ]
    },
    {
     "name": "stdout",
     "output_type": "stream",
     "text": [
      "Train Loss : 0.900\n",
      "Epoch: 6\n"
     ]
    },
    {
     "name": "stderr",
     "output_type": "stream",
     "text": [
      "100%|██████████| 118/118 [00:04<00:00, 26.47it/s]\n"
     ]
    },
    {
     "name": "stdout",
     "output_type": "stream",
     "text": [
      "Train Loss : 0.886\n",
      "Epoch: 7\n"
     ]
    },
    {
     "name": "stderr",
     "output_type": "stream",
     "text": [
      "100%|██████████| 118/118 [00:05<00:00, 21.86it/s]\n"
     ]
    },
    {
     "name": "stdout",
     "output_type": "stream",
     "text": [
      "Train Loss : 0.874\n",
      "Epoch: 8\n"
     ]
    },
    {
     "name": "stderr",
     "output_type": "stream",
     "text": [
      "100%|██████████| 118/118 [00:04<00:00, 25.89it/s]\n"
     ]
    },
    {
     "name": "stdout",
     "output_type": "stream",
     "text": [
      "Train Loss : 0.865\n",
      "Epoch: 9\n"
     ]
    },
    {
     "name": "stderr",
     "output_type": "stream",
     "text": [
      "100%|██████████| 118/118 [00:04<00:00, 26.64it/s]\n"
     ]
    },
    {
     "name": "stdout",
     "output_type": "stream",
     "text": [
      "Train Loss : 0.859\n",
      "Epoch: 10\n"
     ]
    },
    {
     "name": "stderr",
     "output_type": "stream",
     "text": [
      "100%|██████████| 118/118 [00:05<00:00, 21.18it/s]\n"
     ]
    },
    {
     "name": "stdout",
     "output_type": "stream",
     "text": [
      "Train Loss : 0.852\n",
      "Epoch: 11\n"
     ]
    },
    {
     "name": "stderr",
     "output_type": "stream",
     "text": [
      "100%|██████████| 118/118 [00:04<00:00, 26.73it/s]\n"
     ]
    },
    {
     "name": "stdout",
     "output_type": "stream",
     "text": [
      "Train Loss : 0.846\n",
      "Epoch: 12\n"
     ]
    },
    {
     "name": "stderr",
     "output_type": "stream",
     "text": [
      "100%|██████████| 118/118 [00:05<00:00, 21.73it/s]\n"
     ]
    },
    {
     "name": "stdout",
     "output_type": "stream",
     "text": [
      "Train Loss : 0.848\n",
      "Epoch: 13\n"
     ]
    },
    {
     "name": "stderr",
     "output_type": "stream",
     "text": [
      "100%|██████████| 118/118 [00:05<00:00, 23.37it/s]\n"
     ]
    },
    {
     "name": "stdout",
     "output_type": "stream",
     "text": [
      "Train Loss : 0.841\n",
      "Epoch: 14\n"
     ]
    },
    {
     "name": "stderr",
     "output_type": "stream",
     "text": [
      "100%|██████████| 118/118 [00:04<00:00, 25.18it/s]\n"
     ]
    },
    {
     "name": "stdout",
     "output_type": "stream",
     "text": [
      "Train Loss : 0.837\n",
      "Epoch: 15\n"
     ]
    },
    {
     "name": "stderr",
     "output_type": "stream",
     "text": [
      "100%|██████████| 118/118 [00:05<00:00, 21.37it/s]\n"
     ]
    },
    {
     "name": "stdout",
     "output_type": "stream",
     "text": [
      "Train Loss : 0.834\n",
      "Average epoch duration: 4.98 seconds.\n",
      "\n",
      "Test Accuracy : 0.861\n",
      "\n",
      "Classification Report : \n",
      "              precision    recall  f1-score   support\n",
      "\n",
      "       World       0.86      0.88      0.87      1900\n",
      "      Sports       0.91      0.96      0.93      1900\n",
      "    Business       0.83      0.81      0.82      1900\n",
      "    Sci/Tech       0.85      0.79      0.82      1900\n",
      "\n",
      "    accuracy                           0.86      7600\n",
      "   macro avg       0.86      0.86      0.86      7600\n",
      "weighted avg       0.86      0.86      0.86      7600\n",
      "\n",
      "\n",
      "Confusion Matrix : \n",
      "[[1678   82   92   48]\n",
      " [  26 1817   23   34]\n",
      " [ 122   43 1546  189]\n",
      " [ 133   58  206 1503]]\n",
      "--------------------------------------------------------------------------------\n",
      "\n",
      "Experimental configuration: {'experiment_name': '2Bi-RNN', 'rnn_type': 'rnn', 'bidirectional': True, 'rnn_layers': 2}\n",
      "\n",
      "Model:\n",
      "Model(\n",
      "  (embedding_layer): Embedding(21254, 100)\n",
      "  (rnn): RNN(100, 64, num_layers=2, batch_first=True, bidirectional=True)\n",
      "  (linear): Linear(in_features=128, out_features=4, bias=True)\n",
      ")\n",
      "Total parameters:  2171996\n",
      "\n",
      "\n",
      "\n",
      "Epoch: 1\n"
     ]
    },
    {
     "name": "stderr",
     "output_type": "stream",
     "text": [
      "100%|██████████| 118/118 [00:04<00:00, 23.64it/s]\n"
     ]
    },
    {
     "name": "stdout",
     "output_type": "stream",
     "text": [
      "Train Loss : 1.263\n",
      "Epoch: 2\n"
     ]
    },
    {
     "name": "stderr",
     "output_type": "stream",
     "text": [
      "100%|██████████| 118/118 [00:06<00:00, 19.15it/s]\n"
     ]
    },
    {
     "name": "stdout",
     "output_type": "stream",
     "text": [
      "Train Loss : 1.035\n",
      "Epoch: 3\n"
     ]
    },
    {
     "name": "stderr",
     "output_type": "stream",
     "text": [
      "100%|██████████| 118/118 [00:04<00:00, 23.98it/s]\n"
     ]
    },
    {
     "name": "stdout",
     "output_type": "stream",
     "text": [
      "Train Loss : 0.966\n",
      "Epoch: 4\n"
     ]
    },
    {
     "name": "stderr",
     "output_type": "stream",
     "text": [
      "100%|██████████| 118/118 [00:05<00:00, 20.30it/s]\n"
     ]
    },
    {
     "name": "stdout",
     "output_type": "stream",
     "text": [
      "Train Loss : 0.932\n",
      "Epoch: 5\n"
     ]
    },
    {
     "name": "stderr",
     "output_type": "stream",
     "text": [
      "100%|██████████| 118/118 [00:05<00:00, 23.54it/s]\n"
     ]
    },
    {
     "name": "stdout",
     "output_type": "stream",
     "text": [
      "Train Loss : 0.910\n",
      "Epoch: 6\n"
     ]
    },
    {
     "name": "stderr",
     "output_type": "stream",
     "text": [
      "100%|██████████| 118/118 [00:04<00:00, 23.78it/s]\n"
     ]
    },
    {
     "name": "stdout",
     "output_type": "stream",
     "text": [
      "Train Loss : 0.895\n",
      "Epoch: 7\n"
     ]
    },
    {
     "name": "stderr",
     "output_type": "stream",
     "text": [
      "100%|██████████| 118/118 [00:05<00:00, 19.81it/s]\n"
     ]
    },
    {
     "name": "stdout",
     "output_type": "stream",
     "text": [
      "Train Loss : 0.889\n",
      "Epoch: 8\n"
     ]
    },
    {
     "name": "stderr",
     "output_type": "stream",
     "text": [
      "100%|██████████| 118/118 [00:04<00:00, 23.86it/s]\n"
     ]
    },
    {
     "name": "stdout",
     "output_type": "stream",
     "text": [
      "Train Loss : 0.882\n",
      "Epoch: 9\n"
     ]
    },
    {
     "name": "stderr",
     "output_type": "stream",
     "text": [
      "100%|██████████| 118/118 [00:05<00:00, 20.55it/s]\n"
     ]
    },
    {
     "name": "stdout",
     "output_type": "stream",
     "text": [
      "Train Loss : 0.874\n",
      "Epoch: 10\n"
     ]
    },
    {
     "name": "stderr",
     "output_type": "stream",
     "text": [
      "100%|██████████| 118/118 [00:05<00:00, 23.42it/s]\n"
     ]
    },
    {
     "name": "stdout",
     "output_type": "stream",
     "text": [
      "Train Loss : 0.877\n",
      "Epoch: 11\n"
     ]
    },
    {
     "name": "stderr",
     "output_type": "stream",
     "text": [
      "100%|██████████| 118/118 [00:05<00:00, 20.51it/s]\n"
     ]
    },
    {
     "name": "stdout",
     "output_type": "stream",
     "text": [
      "Train Loss : 0.864\n",
      "Epoch: 12\n"
     ]
    },
    {
     "name": "stderr",
     "output_type": "stream",
     "text": [
      "100%|██████████| 118/118 [00:04<00:00, 24.02it/s]\n"
     ]
    },
    {
     "name": "stdout",
     "output_type": "stream",
     "text": [
      "Train Loss : 0.861\n",
      "Epoch: 13\n"
     ]
    },
    {
     "name": "stderr",
     "output_type": "stream",
     "text": [
      "100%|██████████| 118/118 [00:05<00:00, 23.27it/s]\n"
     ]
    },
    {
     "name": "stdout",
     "output_type": "stream",
     "text": [
      "Train Loss : 0.856\n",
      "Epoch: 14\n"
     ]
    },
    {
     "name": "stderr",
     "output_type": "stream",
     "text": [
      "100%|██████████| 118/118 [00:05<00:00, 20.47it/s]\n"
     ]
    },
    {
     "name": "stdout",
     "output_type": "stream",
     "text": [
      "Train Loss : 0.853\n",
      "Epoch: 15\n"
     ]
    },
    {
     "name": "stderr",
     "output_type": "stream",
     "text": [
      "100%|██████████| 118/118 [00:04<00:00, 23.73it/s]\n"
     ]
    },
    {
     "name": "stdout",
     "output_type": "stream",
     "text": [
      "Train Loss : 0.850\n",
      "Average epoch duration: 5.34 seconds.\n",
      "\n",
      "Test Accuracy : 0.864\n",
      "\n",
      "Classification Report : \n",
      "              precision    recall  f1-score   support\n",
      "\n",
      "       World       0.90      0.84      0.87      1900\n",
      "      Sports       0.90      0.96      0.93      1900\n",
      "    Business       0.84      0.81      0.82      1900\n",
      "    Sci/Tech       0.81      0.86      0.83      1900\n",
      "\n",
      "    accuracy                           0.86      7600\n",
      "   macro avg       0.86      0.86      0.86      7600\n",
      "weighted avg       0.86      0.86      0.86      7600\n",
      "\n",
      "\n",
      "Confusion Matrix : \n",
      "[[1590  101  130   79]\n",
      " [  24 1822   20   34]\n",
      " [  77   33 1533  257]\n",
      " [  68   60  147 1625]]\n",
      "--------------------------------------------------------------------------------\n",
      "\n",
      "Experimental configuration: {'experiment_name': '1LSTM', 'rnn_type': 'lstm', 'bidirectional': False, 'rnn_layers': 1}\n",
      "\n",
      "Model:\n",
      "Model(\n",
      "  (embedding_layer): Embedding(21254, 100)\n",
      "  (rnn): LSTM(100, 64, batch_first=True)\n",
      "  (linear): Linear(in_features=64, out_features=4, bias=True)\n",
      ")\n",
      "Total parameters:  2168156\n",
      "\n",
      "\n",
      "\n",
      "Epoch: 1\n"
     ]
    },
    {
     "name": "stderr",
     "output_type": "stream",
     "text": [
      "100%|██████████| 118/118 [00:05<00:00, 20.91it/s]\n"
     ]
    },
    {
     "name": "stdout",
     "output_type": "stream",
     "text": [
      "Train Loss : 1.240\n",
      "Epoch: 2\n"
     ]
    },
    {
     "name": "stderr",
     "output_type": "stream",
     "text": [
      "100%|██████████| 118/118 [00:04<00:00, 24.33it/s]\n"
     ]
    },
    {
     "name": "stdout",
     "output_type": "stream",
     "text": [
      "Train Loss : 0.972\n",
      "Epoch: 3\n"
     ]
    },
    {
     "name": "stderr",
     "output_type": "stream",
     "text": [
      "100%|██████████| 118/118 [00:05<00:00, 21.10it/s]\n"
     ]
    },
    {
     "name": "stdout",
     "output_type": "stream",
     "text": [
      "Train Loss : 0.911\n",
      "Epoch: 4\n"
     ]
    },
    {
     "name": "stderr",
     "output_type": "stream",
     "text": [
      "100%|██████████| 118/118 [00:04<00:00, 24.75it/s]\n"
     ]
    },
    {
     "name": "stdout",
     "output_type": "stream",
     "text": [
      "Train Loss : 0.882\n",
      "Epoch: 5\n"
     ]
    },
    {
     "name": "stderr",
     "output_type": "stream",
     "text": [
      "100%|██████████| 118/118 [00:04<00:00, 24.52it/s]\n"
     ]
    },
    {
     "name": "stdout",
     "output_type": "stream",
     "text": [
      "Train Loss : 0.865\n",
      "Epoch: 6\n"
     ]
    },
    {
     "name": "stderr",
     "output_type": "stream",
     "text": [
      "100%|██████████| 118/118 [00:05<00:00, 20.48it/s]\n"
     ]
    },
    {
     "name": "stdout",
     "output_type": "stream",
     "text": [
      "Train Loss : 0.852\n",
      "Epoch: 7\n"
     ]
    },
    {
     "name": "stderr",
     "output_type": "stream",
     "text": [
      "100%|██████████| 118/118 [00:04<00:00, 25.19it/s]\n"
     ]
    },
    {
     "name": "stdout",
     "output_type": "stream",
     "text": [
      "Train Loss : 0.844\n",
      "Epoch: 8\n"
     ]
    },
    {
     "name": "stderr",
     "output_type": "stream",
     "text": [
      "100%|██████████| 118/118 [00:05<00:00, 21.12it/s]\n"
     ]
    },
    {
     "name": "stdout",
     "output_type": "stream",
     "text": [
      "Train Loss : 0.836\n",
      "Epoch: 9\n"
     ]
    },
    {
     "name": "stderr",
     "output_type": "stream",
     "text": [
      "100%|██████████| 118/118 [00:04<00:00, 24.40it/s]\n"
     ]
    },
    {
     "name": "stdout",
     "output_type": "stream",
     "text": [
      "Train Loss : 0.831\n",
      "Epoch: 10\n"
     ]
    },
    {
     "name": "stderr",
     "output_type": "stream",
     "text": [
      "100%|██████████| 118/118 [00:04<00:00, 23.81it/s]\n"
     ]
    },
    {
     "name": "stdout",
     "output_type": "stream",
     "text": [
      "Train Loss : 0.826\n",
      "Epoch: 11\n"
     ]
    },
    {
     "name": "stderr",
     "output_type": "stream",
     "text": [
      "100%|██████████| 118/118 [00:05<00:00, 22.16it/s]\n"
     ]
    },
    {
     "name": "stdout",
     "output_type": "stream",
     "text": [
      "Train Loss : 0.821\n",
      "Epoch: 12\n"
     ]
    },
    {
     "name": "stderr",
     "output_type": "stream",
     "text": [
      "100%|██████████| 118/118 [00:04<00:00, 25.59it/s]\n"
     ]
    },
    {
     "name": "stdout",
     "output_type": "stream",
     "text": [
      "Train Loss : 0.818\n",
      "Epoch: 13\n"
     ]
    },
    {
     "name": "stderr",
     "output_type": "stream",
     "text": [
      "100%|██████████| 118/118 [00:05<00:00, 21.02it/s]\n"
     ]
    },
    {
     "name": "stdout",
     "output_type": "stream",
     "text": [
      "Train Loss : 0.815\n",
      "Epoch: 14\n"
     ]
    },
    {
     "name": "stderr",
     "output_type": "stream",
     "text": [
      "100%|██████████| 118/118 [00:04<00:00, 24.72it/s]\n"
     ]
    },
    {
     "name": "stdout",
     "output_type": "stream",
     "text": [
      "Train Loss : 0.813\n",
      "Epoch: 15\n"
     ]
    },
    {
     "name": "stderr",
     "output_type": "stream",
     "text": [
      "100%|██████████| 118/118 [00:05<00:00, 22.84it/s]\n"
     ]
    },
    {
     "name": "stdout",
     "output_type": "stream",
     "text": [
      "Train Loss : 0.811\n",
      "Average epoch duration: 5.14 seconds.\n",
      "\n",
      "Test Accuracy : 0.877\n",
      "\n",
      "Classification Report : \n",
      "              precision    recall  f1-score   support\n",
      "\n",
      "       World       0.89      0.88      0.89      1900\n",
      "      Sports       0.94      0.95      0.94      1900\n",
      "    Business       0.86      0.81      0.83      1900\n",
      "    Sci/Tech       0.82      0.87      0.84      1900\n",
      "\n",
      "    accuracy                           0.88      7600\n",
      "   macro avg       0.88      0.88      0.88      7600\n",
      "weighted avg       0.88      0.88      0.88      7600\n",
      "\n",
      "\n",
      "Confusion Matrix : \n",
      "[[1680   62   86   72]\n",
      " [  40 1800   18   42]\n",
      " [  93   31 1541  235]\n",
      " [  77   30  148 1645]]\n",
      "--------------------------------------------------------------------------------\n",
      "\n",
      "Experimental configuration: {'experiment_name': '1Bi-LSTM', 'rnn_type': 'lstm', 'bidirectional': True, 'rnn_layers': 1}\n",
      "\n",
      "Model:\n",
      "Model(\n",
      "  (embedding_layer): Embedding(21254, 100)\n",
      "  (rnn): LSTM(100, 64, batch_first=True, bidirectional=True)\n",
      "  (linear): Linear(in_features=128, out_features=4, bias=True)\n",
      ")\n",
      "Total parameters:  2210908\n",
      "\n",
      "\n",
      "\n",
      "Epoch: 1\n"
     ]
    },
    {
     "name": "stderr",
     "output_type": "stream",
     "text": [
      "100%|██████████| 118/118 [00:05<00:00, 20.70it/s]\n"
     ]
    },
    {
     "name": "stdout",
     "output_type": "stream",
     "text": [
      "Train Loss : 1.252\n",
      "Epoch: 2\n"
     ]
    },
    {
     "name": "stderr",
     "output_type": "stream",
     "text": [
      "100%|██████████| 118/118 [00:05<00:00, 19.71it/s]\n"
     ]
    },
    {
     "name": "stdout",
     "output_type": "stream",
     "text": [
      "Train Loss : 0.971\n",
      "Epoch: 3\n"
     ]
    },
    {
     "name": "stderr",
     "output_type": "stream",
     "text": [
      "100%|██████████| 118/118 [00:05<00:00, 20.04it/s]\n"
     ]
    },
    {
     "name": "stdout",
     "output_type": "stream",
     "text": [
      "Train Loss : 0.909\n",
      "Epoch: 4\n"
     ]
    },
    {
     "name": "stderr",
     "output_type": "stream",
     "text": [
      "100%|██████████| 118/118 [00:05<00:00, 20.63it/s]\n"
     ]
    },
    {
     "name": "stdout",
     "output_type": "stream",
     "text": [
      "Train Loss : 0.880\n",
      "Epoch: 5\n"
     ]
    },
    {
     "name": "stderr",
     "output_type": "stream",
     "text": [
      "100%|██████████| 118/118 [00:06<00:00, 19.01it/s]\n"
     ]
    },
    {
     "name": "stdout",
     "output_type": "stream",
     "text": [
      "Train Loss : 0.863\n",
      "Epoch: 6\n"
     ]
    },
    {
     "name": "stderr",
     "output_type": "stream",
     "text": [
      "100%|██████████| 118/118 [00:05<00:00, 21.32it/s]\n"
     ]
    },
    {
     "name": "stdout",
     "output_type": "stream",
     "text": [
      "Train Loss : 0.850\n",
      "Epoch: 7\n"
     ]
    },
    {
     "name": "stderr",
     "output_type": "stream",
     "text": [
      "100%|██████████| 118/118 [00:06<00:00, 18.60it/s]\n"
     ]
    },
    {
     "name": "stdout",
     "output_type": "stream",
     "text": [
      "Train Loss : 0.841\n",
      "Epoch: 8\n"
     ]
    },
    {
     "name": "stderr",
     "output_type": "stream",
     "text": [
      "100%|██████████| 118/118 [00:05<00:00, 22.19it/s]\n"
     ]
    },
    {
     "name": "stdout",
     "output_type": "stream",
     "text": [
      "Train Loss : 0.835\n",
      "Epoch: 9\n"
     ]
    },
    {
     "name": "stderr",
     "output_type": "stream",
     "text": [
      "100%|██████████| 118/118 [00:06<00:00, 18.94it/s]\n"
     ]
    },
    {
     "name": "stdout",
     "output_type": "stream",
     "text": [
      "Train Loss : 0.829\n",
      "Epoch: 10\n"
     ]
    },
    {
     "name": "stderr",
     "output_type": "stream",
     "text": [
      "100%|██████████| 118/118 [00:05<00:00, 21.95it/s]\n"
     ]
    },
    {
     "name": "stdout",
     "output_type": "stream",
     "text": [
      "Train Loss : 0.823\n",
      "Epoch: 11\n"
     ]
    },
    {
     "name": "stderr",
     "output_type": "stream",
     "text": [
      "100%|██████████| 118/118 [00:06<00:00, 18.94it/s]\n"
     ]
    },
    {
     "name": "stdout",
     "output_type": "stream",
     "text": [
      "Train Loss : 0.821\n",
      "Epoch: 12\n"
     ]
    },
    {
     "name": "stderr",
     "output_type": "stream",
     "text": [
      "100%|██████████| 118/118 [00:05<00:00, 21.97it/s]\n"
     ]
    },
    {
     "name": "stdout",
     "output_type": "stream",
     "text": [
      "Train Loss : 0.817\n",
      "Epoch: 13\n"
     ]
    },
    {
     "name": "stderr",
     "output_type": "stream",
     "text": [
      "100%|██████████| 118/118 [00:06<00:00, 18.95it/s]\n"
     ]
    },
    {
     "name": "stdout",
     "output_type": "stream",
     "text": [
      "Train Loss : 0.814\n",
      "Epoch: 14\n"
     ]
    },
    {
     "name": "stderr",
     "output_type": "stream",
     "text": [
      "100%|██████████| 118/118 [00:05<00:00, 21.24it/s]\n"
     ]
    },
    {
     "name": "stdout",
     "output_type": "stream",
     "text": [
      "Train Loss : 0.812\n",
      "Epoch: 15\n"
     ]
    },
    {
     "name": "stderr",
     "output_type": "stream",
     "text": [
      "100%|██████████| 118/118 [00:06<00:00, 18.60it/s]\n"
     ]
    },
    {
     "name": "stdout",
     "output_type": "stream",
     "text": [
      "Train Loss : 0.810\n",
      "Average epoch duration: 5.88 seconds.\n",
      "\n",
      "Test Accuracy : 0.884\n",
      "\n",
      "Classification Report : \n",
      "              precision    recall  f1-score   support\n",
      "\n",
      "       World       0.90      0.89      0.89      1900\n",
      "      Sports       0.93      0.95      0.94      1900\n",
      "    Business       0.85      0.84      0.84      1900\n",
      "    Sci/Tech       0.86      0.86      0.86      1900\n",
      "\n",
      "    accuracy                           0.88      7600\n",
      "   macro avg       0.88      0.88      0.88      7600\n",
      "weighted avg       0.88      0.88      0.88      7600\n",
      "\n",
      "\n",
      "Confusion Matrix : \n",
      "[[1685   58   87   70]\n",
      " [  45 1802   35   18]\n",
      " [  84   33 1595  188]\n",
      " [  62   39  162 1637]]\n",
      "--------------------------------------------------------------------------------\n",
      "\n",
      "Experimental configuration: {'experiment_name': '2Bi-LSTM', 'rnn_type': 'lstm', 'bidirectional': True, 'rnn_layers': 2}\n",
      "\n",
      "Model:\n",
      "Model(\n",
      "  (embedding_layer): Embedding(21254, 100)\n",
      "  (rnn): LSTM(100, 64, num_layers=2, batch_first=True, bidirectional=True)\n",
      "  (linear): Linear(in_features=128, out_features=4, bias=True)\n",
      ")\n",
      "Total parameters:  2310236\n",
      "\n",
      "\n",
      "\n",
      "Epoch: 1\n"
     ]
    },
    {
     "name": "stderr",
     "output_type": "stream",
     "text": [
      "100%|██████████| 118/118 [00:06<00:00, 18.23it/s]\n"
     ]
    },
    {
     "name": "stdout",
     "output_type": "stream",
     "text": [
      "Train Loss : 1.209\n",
      "Epoch: 2\n"
     ]
    },
    {
     "name": "stderr",
     "output_type": "stream",
     "text": [
      "100%|██████████| 118/118 [00:07<00:00, 16.08it/s]\n"
     ]
    },
    {
     "name": "stdout",
     "output_type": "stream",
     "text": [
      "Train Loss : 0.956\n",
      "Epoch: 3\n"
     ]
    },
    {
     "name": "stderr",
     "output_type": "stream",
     "text": [
      "100%|██████████| 118/118 [00:06<00:00, 18.48it/s]\n"
     ]
    },
    {
     "name": "stdout",
     "output_type": "stream",
     "text": [
      "Train Loss : 0.897\n",
      "Epoch: 4\n"
     ]
    },
    {
     "name": "stderr",
     "output_type": "stream",
     "text": [
      "100%|██████████| 118/118 [00:07<00:00, 16.63it/s]\n"
     ]
    },
    {
     "name": "stdout",
     "output_type": "stream",
     "text": [
      "Train Loss : 0.872\n",
      "Epoch: 5\n"
     ]
    },
    {
     "name": "stderr",
     "output_type": "stream",
     "text": [
      "100%|██████████| 118/118 [00:06<00:00, 18.28it/s]\n"
     ]
    },
    {
     "name": "stdout",
     "output_type": "stream",
     "text": [
      "Train Loss : 0.857\n",
      "Epoch: 6\n"
     ]
    },
    {
     "name": "stderr",
     "output_type": "stream",
     "text": [
      "100%|██████████| 118/118 [00:07<00:00, 16.17it/s]\n"
     ]
    },
    {
     "name": "stdout",
     "output_type": "stream",
     "text": [
      "Train Loss : 0.847\n",
      "Epoch: 7\n"
     ]
    },
    {
     "name": "stderr",
     "output_type": "stream",
     "text": [
      "100%|██████████| 118/118 [00:07<00:00, 16.44it/s]\n"
     ]
    },
    {
     "name": "stdout",
     "output_type": "stream",
     "text": [
      "Train Loss : 0.837\n",
      "Epoch: 8\n"
     ]
    },
    {
     "name": "stderr",
     "output_type": "stream",
     "text": [
      "100%|██████████| 118/118 [00:06<00:00, 18.21it/s]\n"
     ]
    },
    {
     "name": "stdout",
     "output_type": "stream",
     "text": [
      "Train Loss : 0.830\n",
      "Epoch: 9\n"
     ]
    },
    {
     "name": "stderr",
     "output_type": "stream",
     "text": [
      "100%|██████████| 118/118 [00:07<00:00, 16.16it/s]\n"
     ]
    },
    {
     "name": "stdout",
     "output_type": "stream",
     "text": [
      "Train Loss : 0.826\n",
      "Epoch: 10\n"
     ]
    },
    {
     "name": "stderr",
     "output_type": "stream",
     "text": [
      "100%|██████████| 118/118 [00:06<00:00, 18.14it/s]\n"
     ]
    },
    {
     "name": "stdout",
     "output_type": "stream",
     "text": [
      "Train Loss : 0.821\n",
      "Epoch: 11\n"
     ]
    },
    {
     "name": "stderr",
     "output_type": "stream",
     "text": [
      "100%|██████████| 118/118 [00:07<00:00, 16.18it/s]\n"
     ]
    },
    {
     "name": "stdout",
     "output_type": "stream",
     "text": [
      "Train Loss : 0.817\n",
      "Epoch: 12\n"
     ]
    },
    {
     "name": "stderr",
     "output_type": "stream",
     "text": [
      "100%|██████████| 118/118 [00:06<00:00, 18.44it/s]\n"
     ]
    },
    {
     "name": "stdout",
     "output_type": "stream",
     "text": [
      "Train Loss : 0.814\n",
      "Epoch: 13\n"
     ]
    },
    {
     "name": "stderr",
     "output_type": "stream",
     "text": [
      "100%|██████████| 118/118 [00:07<00:00, 16.67it/s]\n"
     ]
    },
    {
     "name": "stdout",
     "output_type": "stream",
     "text": [
      "Train Loss : 0.813\n",
      "Epoch: 14\n"
     ]
    },
    {
     "name": "stderr",
     "output_type": "stream",
     "text": [
      "100%|██████████| 118/118 [00:06<00:00, 17.28it/s]\n"
     ]
    },
    {
     "name": "stdout",
     "output_type": "stream",
     "text": [
      "Train Loss : 0.810\n",
      "Epoch: 15\n"
     ]
    },
    {
     "name": "stderr",
     "output_type": "stream",
     "text": [
      "100%|██████████| 118/118 [00:06<00:00, 17.50it/s]\n"
     ]
    },
    {
     "name": "stdout",
     "output_type": "stream",
     "text": [
      "Train Loss : 0.809\n",
      "Average epoch duration: 6.87 seconds.\n",
      "\n",
      "Test Accuracy : 0.890\n",
      "\n",
      "Classification Report : \n",
      "              precision    recall  f1-score   support\n",
      "\n",
      "       World       0.91      0.89      0.90      1900\n",
      "      Sports       0.95      0.95      0.95      1900\n",
      "    Business       0.86      0.85      0.85      1900\n",
      "    Sci/Tech       0.85      0.87      0.86      1900\n",
      "\n",
      "    accuracy                           0.89      7600\n",
      "   macro avg       0.89      0.89      0.89      7600\n",
      "weighted avg       0.89      0.89      0.89      7600\n",
      "\n",
      "\n",
      "Confusion Matrix : \n",
      "[[1691   52   83   74]\n",
      " [  31 1799   33   37]\n",
      " [  75   25 1612  188]\n",
      " [  63   23  153 1661]]\n",
      "--------------------------------------------------------------------------------\n",
      "\n",
      "+------------+-------------+-------------+-----------+-------------+-------------+-------------+\n",
      "|            |        1RNN |     1Bi-RNN |   2Bi-RNN |       1LSTM |    1Bi-LSTM |    2Bi-LSTM |\n",
      "+============+=============+=============+===========+=============+=============+=============+\n",
      "| Accuracy   | 0.871974    | 0.861053    | 0.864474  | 0.877105    | 0.884079    | 0.889868    |\n",
      "+------------+-------------+-------------+-----------+-------------+-------------+-------------+\n",
      "| Parameters | 2.13628e+06 | 2.14716e+06 | 2.172e+06 | 2.16816e+06 | 2.21091e+06 | 2.31024e+06 |\n",
      "+------------+-------------+-------------+-----------+-------------+-------------+-------------+\n",
      "| Time cost  | 4.74409     | 4.9758      | 5.34347   | 5.14104     | 5.87746     | 6.86684     |\n",
      "+------------+-------------+-------------+-----------+-------------+-------------+-------------+\n"
     ]
    }
   ],
   "source": [
    "results = run_experiments(experimental_configs)\n",
    "print_eval_table(results)"
   ]
  },
  {
   "cell_type": "markdown",
   "metadata": {
    "id": "MhVLOMj3MT2T"
   },
   "source": [
    "Although the differences in Accuracy between the models is small, models with more parameters tend to perform better. 1RNN is an exception and it performs better than more complex RNNs, which could be the result of a better random initialization of this model. Nonetheless, when comparing LSTMs with RNNs, all LSTMs perform better than RNNs, even if an RNN model has more parameters. e.g. 1LSTM performs better than 2Bi-RNN even though the latter has more parameters.\n",
    "\n",
    "Moreover, Time cost increases with the complexity (i.e. number of paramters) of the model. Models with 2 layers (vs. 1) are slower, with 2Bi-LSTM being the slowest model. Time cost was calculated on GPU runtimes and even larger differences were noticed on CPU runtimes. \n",
    "\n",
    "Last but not least, using 2 layers instead of 1, slightly improves the performance of both Bi-RNN and Bi-LSTM."
   ]
  },
  {
   "cell_type": "markdown",
   "metadata": {
    "id": "nYJo2CQJSc-E"
   },
   "source": [
    "### 2."
   ]
  },
  {
   "cell_type": "code",
   "execution_count": null,
   "metadata": {
    "colab": {
     "base_uri": "https://localhost:8080/"
    },
    "id": "SNannit9ELJr",
    "outputId": "155acca7-b3a8-4adc-e3da-f6d068af7ff4"
   },
   "outputs": [
    {
     "name": "stdout",
     "output_type": "stream",
     "text": [
      "There are 414 examples that were classified incorrectly by all 6 experiments\n",
      "\n",
      "Example:\n",
      "Greenspan: Debt, home prices not dangerous The record level of debt carried by American households and soaring home prices do not appear to represent serious threats to the US economy, Federal Reserve Chairman Alan Greenspan said Tuesday.\n",
      "Actual label: Sci/Tech\n",
      "\n",
      "Number of common misclassifications accross models, per category:\n",
      "--------  ---\n",
      "Business  155\n",
      "World     122\n",
      "Sci/Tech  114\n",
      "Sports     23\n",
      "--------  ---\n",
      "\n",
      "Number of common misclassifications accross models, per actual class - wrong prediction pairs:\n",
      "------------------------  ----\n",
      "('Business', 'Sci/Tech')  1280\n",
      "('Sci/Tech', 'Business')   978\n",
      "('World', 'Business')      586\n",
      "('Business', 'World')      513\n",
      "('Sci/Tech', 'World')      482\n",
      "('World', 'Sports')        435\n",
      "('World', 'Sci/Tech')      420\n",
      "('Sci/Tech', 'Sports')     252\n",
      "('Sports', 'Sci/Tech')     212\n",
      "('Business', 'Sports')     203\n",
      "('Sports', 'World')        199\n",
      "('Sports', 'Business')     151\n",
      "------------------------  ----\n",
      "\n",
      "The most common actual class - wrong prediction pairs is: \n",
      "Actual class: Business\n",
      "Predicted class: Sci/Tech\n",
      "Occurrences: 1280\n"
     ]
    }
   ],
   "source": [
    "import numpy as np\n",
    "from collections import Counter\n",
    "\n",
    "mistakes_per_experiment = []\n",
    "misstake_pairs_counter = Counter()\n",
    "for r in results:\n",
    "    wrong_preds_indices = np.where(r[\"Y_preds\"] != r[\"Y_actual\"])[0]\n",
    "    mistakes_per_experiment.append(set(wrong_preds_indices.tolist()))\n",
    "    for ind in wrong_preds_indices:\n",
    "        actual_class = target_classes[r[\"Y_actual\"][ind]]\n",
    "        pred_class = target_classes[r[\"Y_preds\"][ind]]\n",
    "        misstake_pairs_counter.update([(actual_class, pred_class)])\n",
    "\n",
    "common_mistakes = list(set.intersection(*mistakes_per_experiment))\n",
    "print(f\"There are {len(common_mistakes)} examples that were classified incorrectly by all {len(results)} experiments\")\n",
    "\n",
    "misclassfied_example = test_dataset[common_mistakes[0]]\n",
    "print(f\"\\nExample:\\n{misclassfied_example[1]}\")\n",
    "print(f\"Actual label: {target_classes[misclassfied_example[0] - 1]}\")\n",
    "\n",
    "common_mistakes_per_class = Counter()\n",
    "for mistake_ind in common_mistakes:\n",
    "    label = target_classes[test_dataset[mistake_ind][0] - 1]\n",
    "    common_mistakes_per_class.update([label])\n",
    "\n",
    "\n",
    "print(\"\\nNumber of common misclassifications accross models, per category:\")\n",
    "print(tabulate(common_mistakes_per_class.most_common()))\n",
    "\n",
    "print(\"\\nNumber of common misclassifications accross models, per actual class - wrong prediction pairs:\")\n",
    "print(tabulate(misstake_pairs_counter.most_common()))\n",
    "\n",
    "most_common_pair = misstake_pairs_counter.most_common(1)[0]\n",
    "print(f\"\\nThe most common actual class - wrong prediction pairs is: \\nActual class: {most_common_pair[0][0]}\\nPredicted class: {most_common_pair[0][1]}\\nOccurrences: {most_common_pair[1]}\")"
   ]
  },
  {
   "cell_type": "markdown",
   "metadata": {
    "id": "FybJpNUiSmOZ"
   },
   "source": [
    "### 3."
   ]
  },
  {
   "cell_type": "markdown",
   "metadata": {
    "id": "pDr8AKU7GRTb"
   },
   "source": [
    "Next, we create new datasets, data loaders and vocab by calling preprocess_data with MAX_WORDS=50.\n",
    "\n",
    "Consequently. we run again all 6 models by using the run_experiment function, which will now respect the new data loaders that use MAX_WORDS=50"
   ]
  },
  {
   "cell_type": "code",
   "execution_count": null,
   "metadata": {
    "colab": {
     "base_uri": "https://localhost:8080/"
    },
    "id": "GuXjyZaZMgBw",
    "outputId": "a25c85e8-f31b-4d1a-8550-4f55fd91829a"
   },
   "outputs": [
    {
     "name": "stdout",
     "output_type": "stream",
     "text": [
      "Experimental configuration: {'experiment_name': '1RNN', 'rnn_type': 'rnn', 'bidirectional': False, 'rnn_layers': 1}\n",
      "\n",
      "Model:\n",
      "Model(\n",
      "  (embedding_layer): Embedding(21254, 100)\n",
      "  (rnn): RNN(100, 64, batch_first=True)\n",
      "  (linear): Linear(in_features=64, out_features=4, bias=True)\n",
      ")\n",
      "Total parameters:  2136284\n",
      "\n",
      "\n",
      "\n",
      "Epoch: 1\n"
     ]
    },
    {
     "name": "stderr",
     "output_type": "stream",
     "text": [
      "100%|██████████| 118/118 [00:04<00:00, 23.87it/s]\n"
     ]
    },
    {
     "name": "stdout",
     "output_type": "stream",
     "text": [
      "Train Loss : 1.378\n",
      "Epoch: 2\n"
     ]
    },
    {
     "name": "stderr",
     "output_type": "stream",
     "text": [
      "100%|██████████| 118/118 [00:04<00:00, 25.17it/s]\n"
     ]
    },
    {
     "name": "stdout",
     "output_type": "stream",
     "text": [
      "Train Loss : 1.336\n",
      "Epoch: 3\n"
     ]
    },
    {
     "name": "stderr",
     "output_type": "stream",
     "text": [
      "100%|██████████| 118/118 [00:05<00:00, 21.40it/s]\n"
     ]
    },
    {
     "name": "stdout",
     "output_type": "stream",
     "text": [
      "Train Loss : 1.357\n",
      "Epoch: 4\n"
     ]
    },
    {
     "name": "stderr",
     "output_type": "stream",
     "text": [
      "100%|██████████| 118/118 [00:04<00:00, 24.51it/s]\n"
     ]
    },
    {
     "name": "stdout",
     "output_type": "stream",
     "text": [
      "Train Loss : 1.356\n",
      "Epoch: 5\n"
     ]
    },
    {
     "name": "stderr",
     "output_type": "stream",
     "text": [
      "100%|██████████| 118/118 [00:05<00:00, 21.13it/s]\n"
     ]
    },
    {
     "name": "stdout",
     "output_type": "stream",
     "text": [
      "Train Loss : 1.355\n",
      "Epoch: 6\n"
     ]
    },
    {
     "name": "stderr",
     "output_type": "stream",
     "text": [
      "100%|██████████| 118/118 [00:04<00:00, 25.54it/s]\n"
     ]
    },
    {
     "name": "stdout",
     "output_type": "stream",
     "text": [
      "Train Loss : 1.351\n",
      "Epoch: 7\n"
     ]
    },
    {
     "name": "stderr",
     "output_type": "stream",
     "text": [
      "100%|██████████| 118/118 [00:04<00:00, 25.80it/s]\n"
     ]
    },
    {
     "name": "stdout",
     "output_type": "stream",
     "text": [
      "Train Loss : 1.353\n",
      "Epoch: 8\n"
     ]
    },
    {
     "name": "stderr",
     "output_type": "stream",
     "text": [
      "100%|██████████| 118/118 [00:05<00:00, 20.81it/s]\n"
     ]
    },
    {
     "name": "stdout",
     "output_type": "stream",
     "text": [
      "Train Loss : 1.361\n",
      "Epoch: 9\n"
     ]
    },
    {
     "name": "stderr",
     "output_type": "stream",
     "text": [
      "100%|██████████| 118/118 [00:04<00:00, 25.33it/s]\n"
     ]
    },
    {
     "name": "stdout",
     "output_type": "stream",
     "text": [
      "Train Loss : 1.324\n",
      "Epoch: 10\n"
     ]
    },
    {
     "name": "stderr",
     "output_type": "stream",
     "text": [
      "100%|██████████| 118/118 [00:05<00:00, 20.97it/s]\n"
     ]
    },
    {
     "name": "stdout",
     "output_type": "stream",
     "text": [
      "Train Loss : 1.376\n",
      "Epoch: 11\n"
     ]
    },
    {
     "name": "stderr",
     "output_type": "stream",
     "text": [
      "100%|██████████| 118/118 [00:04<00:00, 24.44it/s]\n"
     ]
    },
    {
     "name": "stdout",
     "output_type": "stream",
     "text": [
      "Train Loss : 1.366\n",
      "Epoch: 12\n"
     ]
    },
    {
     "name": "stderr",
     "output_type": "stream",
     "text": [
      "100%|██████████| 118/118 [00:04<00:00, 25.86it/s]\n"
     ]
    },
    {
     "name": "stdout",
     "output_type": "stream",
     "text": [
      "Train Loss : 1.363\n",
      "Epoch: 13\n"
     ]
    },
    {
     "name": "stderr",
     "output_type": "stream",
     "text": [
      "100%|██████████| 118/118 [00:05<00:00, 20.63it/s]\n"
     ]
    },
    {
     "name": "stdout",
     "output_type": "stream",
     "text": [
      "Train Loss : 1.360\n",
      "Epoch: 14\n"
     ]
    },
    {
     "name": "stderr",
     "output_type": "stream",
     "text": [
      "100%|██████████| 118/118 [00:04<00:00, 25.35it/s]\n"
     ]
    },
    {
     "name": "stdout",
     "output_type": "stream",
     "text": [
      "Train Loss : 1.357\n",
      "Epoch: 15\n"
     ]
    },
    {
     "name": "stderr",
     "output_type": "stream",
     "text": [
      "100%|██████████| 118/118 [00:05<00:00, 20.99it/s]\n"
     ]
    },
    {
     "name": "stdout",
     "output_type": "stream",
     "text": [
      "Train Loss : 1.350\n",
      "Average epoch duration: 5.08 seconds.\n",
      "\n",
      "Test Accuracy : 0.349\n",
      "\n",
      "Classification Report : \n",
      "              precision    recall  f1-score   support\n",
      "\n",
      "       World       0.45      0.14      0.21      1900\n",
      "      Sports       0.34      0.62      0.44      1900\n",
      "    Business       0.31      0.49      0.38      1900\n",
      "    Sci/Tech       0.49      0.15      0.23      1900\n",
      "\n",
      "    accuracy                           0.35      7600\n",
      "   macro avg       0.40      0.35      0.32      7600\n",
      "weighted avg       0.40      0.35      0.32      7600\n",
      "\n",
      "\n",
      "Confusion Matrix : \n",
      "[[ 261  714  872   53]\n",
      " [  99 1175  535   91]\n",
      " [ 112  701  924  163]\n",
      " [ 106  816  685  293]]\n",
      "--------------------------------------------------------------------------------\n",
      "\n",
      "Experimental configuration: {'experiment_name': '1Bi-RNN', 'rnn_type': 'rnn', 'bidirectional': True, 'rnn_layers': 1}\n",
      "\n",
      "Model:\n",
      "Model(\n",
      "  (embedding_layer): Embedding(21254, 100)\n",
      "  (rnn): RNN(100, 64, batch_first=True, bidirectional=True)\n",
      "  (linear): Linear(in_features=128, out_features=4, bias=True)\n",
      ")\n",
      "Total parameters:  2147164\n",
      "\n",
      "\n",
      "\n",
      "Epoch: 1\n"
     ]
    },
    {
     "name": "stderr",
     "output_type": "stream",
     "text": [
      "100%|██████████| 118/118 [00:05<00:00, 23.44it/s]\n"
     ]
    },
    {
     "name": "stdout",
     "output_type": "stream",
     "text": [
      "Train Loss : 1.375\n",
      "Epoch: 2\n"
     ]
    },
    {
     "name": "stderr",
     "output_type": "stream",
     "text": [
      "100%|██████████| 118/118 [00:05<00:00, 20.13it/s]\n"
     ]
    },
    {
     "name": "stdout",
     "output_type": "stream",
     "text": [
      "Train Loss : 1.314\n",
      "Epoch: 3\n"
     ]
    },
    {
     "name": "stderr",
     "output_type": "stream",
     "text": [
      "100%|██████████| 118/118 [00:04<00:00, 23.70it/s]\n"
     ]
    },
    {
     "name": "stdout",
     "output_type": "stream",
     "text": [
      "Train Loss : 1.346\n",
      "Epoch: 4\n"
     ]
    },
    {
     "name": "stderr",
     "output_type": "stream",
     "text": [
      "100%|██████████| 118/118 [00:05<00:00, 23.24it/s]\n"
     ]
    },
    {
     "name": "stdout",
     "output_type": "stream",
     "text": [
      "Train Loss : 1.346\n",
      "Epoch: 5\n"
     ]
    },
    {
     "name": "stderr",
     "output_type": "stream",
     "text": [
      "100%|██████████| 118/118 [00:05<00:00, 20.24it/s]\n"
     ]
    },
    {
     "name": "stdout",
     "output_type": "stream",
     "text": [
      "Train Loss : 1.344\n",
      "Epoch: 6\n"
     ]
    },
    {
     "name": "stderr",
     "output_type": "stream",
     "text": [
      "100%|██████████| 118/118 [00:05<00:00, 23.49it/s]\n"
     ]
    },
    {
     "name": "stdout",
     "output_type": "stream",
     "text": [
      "Train Loss : 1.342\n",
      "Epoch: 7\n"
     ]
    },
    {
     "name": "stderr",
     "output_type": "stream",
     "text": [
      "100%|██████████| 118/118 [00:05<00:00, 20.05it/s]\n"
     ]
    },
    {
     "name": "stdout",
     "output_type": "stream",
     "text": [
      "Train Loss : 1.338\n",
      "Epoch: 8\n"
     ]
    },
    {
     "name": "stderr",
     "output_type": "stream",
     "text": [
      "100%|██████████| 118/118 [00:05<00:00, 23.04it/s]\n"
     ]
    },
    {
     "name": "stdout",
     "output_type": "stream",
     "text": [
      "Train Loss : 1.316\n",
      "Epoch: 9\n"
     ]
    },
    {
     "name": "stderr",
     "output_type": "stream",
     "text": [
      "100%|██████████| 118/118 [00:05<00:00, 19.74it/s]\n"
     ]
    },
    {
     "name": "stdout",
     "output_type": "stream",
     "text": [
      "Train Loss : 1.331\n",
      "Epoch: 10\n"
     ]
    },
    {
     "name": "stderr",
     "output_type": "stream",
     "text": [
      "100%|██████████| 118/118 [00:05<00:00, 23.50it/s]\n"
     ]
    },
    {
     "name": "stdout",
     "output_type": "stream",
     "text": [
      "Train Loss : 1.363\n",
      "Epoch: 11\n"
     ]
    },
    {
     "name": "stderr",
     "output_type": "stream",
     "text": [
      "100%|██████████| 118/118 [00:05<00:00, 21.89it/s]\n"
     ]
    },
    {
     "name": "stdout",
     "output_type": "stream",
     "text": [
      "Train Loss : 1.351\n",
      "Epoch: 12\n"
     ]
    },
    {
     "name": "stderr",
     "output_type": "stream",
     "text": [
      "100%|██████████| 118/118 [00:05<00:00, 22.27it/s]\n"
     ]
    },
    {
     "name": "stdout",
     "output_type": "stream",
     "text": [
      "Train Loss : 1.275\n",
      "Epoch: 13\n"
     ]
    },
    {
     "name": "stderr",
     "output_type": "stream",
     "text": [
      "100%|██████████| 118/118 [00:05<00:00, 23.31it/s]\n"
     ]
    },
    {
     "name": "stdout",
     "output_type": "stream",
     "text": [
      "Train Loss : 1.253\n",
      "Epoch: 14\n"
     ]
    },
    {
     "name": "stderr",
     "output_type": "stream",
     "text": [
      "100%|██████████| 118/118 [00:05<00:00, 20.11it/s]\n"
     ]
    },
    {
     "name": "stdout",
     "output_type": "stream",
     "text": [
      "Train Loss : 1.265\n",
      "Epoch: 15\n"
     ]
    },
    {
     "name": "stderr",
     "output_type": "stream",
     "text": [
      "100%|██████████| 118/118 [00:04<00:00, 24.06it/s]\n"
     ]
    },
    {
     "name": "stdout",
     "output_type": "stream",
     "text": [
      "Train Loss : 1.242\n",
      "Average epoch duration: 5.36 seconds.\n",
      "\n",
      "Test Accuracy : 0.512\n",
      "\n",
      "Classification Report : \n",
      "              precision    recall  f1-score   support\n",
      "\n",
      "       World       0.68      0.55      0.61      1900\n",
      "      Sports       0.44      0.81      0.57      1900\n",
      "    Business       0.53      0.63      0.57      1900\n",
      "    Sci/Tech       0.42      0.07      0.12      1900\n",
      "\n",
      "    accuracy                           0.51      7600\n",
      "   macro avg       0.52      0.51      0.47      7600\n",
      "weighted avg       0.52      0.51      0.47      7600\n",
      "\n",
      "\n",
      "Confusion Matrix : \n",
      "[[1036  564  242   58]\n",
      " [ 100 1532  190   78]\n",
      " [ 215  449 1191   45]\n",
      " [ 171  972  626  131]]\n",
      "--------------------------------------------------------------------------------\n",
      "\n",
      "Experimental configuration: {'experiment_name': '2Bi-RNN', 'rnn_type': 'rnn', 'bidirectional': True, 'rnn_layers': 2}\n",
      "\n",
      "Model:\n",
      "Model(\n",
      "  (embedding_layer): Embedding(21254, 100)\n",
      "  (rnn): RNN(100, 64, num_layers=2, batch_first=True, bidirectional=True)\n",
      "  (linear): Linear(in_features=128, out_features=4, bias=True)\n",
      ")\n",
      "Total parameters:  2171996\n",
      "\n",
      "\n",
      "\n",
      "Epoch: 1\n"
     ]
    },
    {
     "name": "stderr",
     "output_type": "stream",
     "text": [
      "100%|██████████| 118/118 [00:06<00:00, 17.89it/s]\n"
     ]
    },
    {
     "name": "stdout",
     "output_type": "stream",
     "text": [
      "Train Loss : 1.368\n",
      "Epoch: 2\n"
     ]
    },
    {
     "name": "stderr",
     "output_type": "stream",
     "text": [
      "100%|██████████| 118/118 [00:05<00:00, 20.27it/s]\n"
     ]
    },
    {
     "name": "stdout",
     "output_type": "stream",
     "text": [
      "Train Loss : 1.293\n",
      "Epoch: 3\n"
     ]
    },
    {
     "name": "stderr",
     "output_type": "stream",
     "text": [
      "100%|██████████| 118/118 [00:06<00:00, 17.84it/s]\n"
     ]
    },
    {
     "name": "stdout",
     "output_type": "stream",
     "text": [
      "Train Loss : 1.253\n",
      "Epoch: 4\n"
     ]
    },
    {
     "name": "stderr",
     "output_type": "stream",
     "text": [
      "100%|██████████| 118/118 [00:05<00:00, 20.34it/s]\n"
     ]
    },
    {
     "name": "stdout",
     "output_type": "stream",
     "text": [
      "Train Loss : 1.282\n",
      "Epoch: 5\n"
     ]
    },
    {
     "name": "stderr",
     "output_type": "stream",
     "text": [
      "100%|██████████| 118/118 [00:06<00:00, 18.37it/s]\n"
     ]
    },
    {
     "name": "stdout",
     "output_type": "stream",
     "text": [
      "Train Loss : 1.285\n",
      "Epoch: 6\n"
     ]
    },
    {
     "name": "stderr",
     "output_type": "stream",
     "text": [
      "100%|██████████| 118/118 [00:05<00:00, 20.21it/s]\n"
     ]
    },
    {
     "name": "stdout",
     "output_type": "stream",
     "text": [
      "Train Loss : 1.311\n",
      "Epoch: 7\n"
     ]
    },
    {
     "name": "stderr",
     "output_type": "stream",
     "text": [
      "100%|██████████| 118/118 [00:06<00:00, 18.31it/s]\n"
     ]
    },
    {
     "name": "stdout",
     "output_type": "stream",
     "text": [
      "Train Loss : 1.293\n",
      "Epoch: 8\n"
     ]
    },
    {
     "name": "stderr",
     "output_type": "stream",
     "text": [
      "100%|██████████| 118/118 [00:05<00:00, 20.66it/s]\n"
     ]
    },
    {
     "name": "stdout",
     "output_type": "stream",
     "text": [
      "Train Loss : 1.285\n",
      "Epoch: 9\n"
     ]
    },
    {
     "name": "stderr",
     "output_type": "stream",
     "text": [
      "100%|██████████| 118/118 [00:06<00:00, 17.63it/s]\n"
     ]
    },
    {
     "name": "stdout",
     "output_type": "stream",
     "text": [
      "Train Loss : 1.281\n",
      "Epoch: 10\n"
     ]
    },
    {
     "name": "stderr",
     "output_type": "stream",
     "text": [
      "100%|██████████| 118/118 [00:05<00:00, 20.77it/s]\n"
     ]
    },
    {
     "name": "stdout",
     "output_type": "stream",
     "text": [
      "Train Loss : 1.255\n",
      "Epoch: 11\n"
     ]
    },
    {
     "name": "stderr",
     "output_type": "stream",
     "text": [
      "100%|██████████| 118/118 [00:06<00:00, 18.14it/s]\n"
     ]
    },
    {
     "name": "stdout",
     "output_type": "stream",
     "text": [
      "Train Loss : 1.273\n",
      "Epoch: 12\n"
     ]
    },
    {
     "name": "stderr",
     "output_type": "stream",
     "text": [
      "100%|██████████| 118/118 [00:05<00:00, 20.67it/s]\n"
     ]
    },
    {
     "name": "stdout",
     "output_type": "stream",
     "text": [
      "Train Loss : 1.299\n",
      "Epoch: 13\n"
     ]
    },
    {
     "name": "stderr",
     "output_type": "stream",
     "text": [
      "100%|██████████| 118/118 [00:06<00:00, 17.65it/s]\n"
     ]
    },
    {
     "name": "stdout",
     "output_type": "stream",
     "text": [
      "Train Loss : 1.355\n",
      "Epoch: 14\n"
     ]
    },
    {
     "name": "stderr",
     "output_type": "stream",
     "text": [
      "100%|██████████| 118/118 [00:05<00:00, 20.13it/s]\n"
     ]
    },
    {
     "name": "stdout",
     "output_type": "stream",
     "text": [
      "Train Loss : 1.274\n",
      "Epoch: 15\n"
     ]
    },
    {
     "name": "stderr",
     "output_type": "stream",
     "text": [
      "100%|██████████| 118/118 [00:06<00:00, 18.25it/s]\n"
     ]
    },
    {
     "name": "stdout",
     "output_type": "stream",
     "text": [
      "Train Loss : 1.241\n",
      "Average epoch duration: 6.20 seconds.\n",
      "\n",
      "Test Accuracy : 0.469\n",
      "\n",
      "Classification Report : \n",
      "              precision    recall  f1-score   support\n",
      "\n",
      "       World       0.50      0.19      0.27      1900\n",
      "      Sports       0.45      0.84      0.58      1900\n",
      "    Business       0.47      0.70      0.56      1900\n",
      "    Sci/Tech       0.56      0.15      0.23      1900\n",
      "\n",
      "    accuracy                           0.47      7600\n",
      "   macro avg       0.50      0.47      0.41      7600\n",
      "weighted avg       0.50      0.47      0.41      7600\n",
      "\n",
      "\n",
      "Confusion Matrix : \n",
      "[[ 360 1170  326   44]\n",
      " [ 144 1599  122   35]\n",
      " [  93  343 1328  136]\n",
      " [ 122  463 1036  279]]\n",
      "--------------------------------------------------------------------------------\n",
      "\n",
      "Experimental configuration: {'experiment_name': '1LSTM', 'rnn_type': 'lstm', 'bidirectional': False, 'rnn_layers': 1}\n",
      "\n",
      "Model:\n",
      "Model(\n",
      "  (embedding_layer): Embedding(21254, 100)\n",
      "  (rnn): LSTM(100, 64, batch_first=True)\n",
      "  (linear): Linear(in_features=64, out_features=4, bias=True)\n",
      ")\n",
      "Total parameters:  2168156\n",
      "\n",
      "\n",
      "\n",
      "Epoch: 1\n"
     ]
    },
    {
     "name": "stderr",
     "output_type": "stream",
     "text": [
      "100%|██████████| 118/118 [00:05<00:00, 22.09it/s]\n"
     ]
    },
    {
     "name": "stdout",
     "output_type": "stream",
     "text": [
      "Train Loss : 1.321\n",
      "Epoch: 2\n"
     ]
    },
    {
     "name": "stderr",
     "output_type": "stream",
     "text": [
      "100%|██████████| 118/118 [00:06<00:00, 18.74it/s]\n"
     ]
    },
    {
     "name": "stdout",
     "output_type": "stream",
     "text": [
      "Train Loss : 1.078\n",
      "Epoch: 3\n"
     ]
    },
    {
     "name": "stderr",
     "output_type": "stream",
     "text": [
      "100%|██████████| 118/118 [00:05<00:00, 21.78it/s]\n"
     ]
    },
    {
     "name": "stdout",
     "output_type": "stream",
     "text": [
      "Train Loss : 0.980\n",
      "Epoch: 4\n"
     ]
    },
    {
     "name": "stderr",
     "output_type": "stream",
     "text": [
      "100%|██████████| 118/118 [00:06<00:00, 19.00it/s]\n"
     ]
    },
    {
     "name": "stdout",
     "output_type": "stream",
     "text": [
      "Train Loss : 0.934\n",
      "Epoch: 5\n"
     ]
    },
    {
     "name": "stderr",
     "output_type": "stream",
     "text": [
      "100%|██████████| 118/118 [00:05<00:00, 21.18it/s]\n"
     ]
    },
    {
     "name": "stdout",
     "output_type": "stream",
     "text": [
      "Train Loss : 0.910\n",
      "Epoch: 6\n"
     ]
    },
    {
     "name": "stderr",
     "output_type": "stream",
     "text": [
      "100%|██████████| 118/118 [00:06<00:00, 18.90it/s]\n"
     ]
    },
    {
     "name": "stdout",
     "output_type": "stream",
     "text": [
      "Train Loss : 0.899\n",
      "Epoch: 7\n"
     ]
    },
    {
     "name": "stderr",
     "output_type": "stream",
     "text": [
      "100%|██████████| 118/118 [00:05<00:00, 21.78it/s]\n"
     ]
    },
    {
     "name": "stdout",
     "output_type": "stream",
     "text": [
      "Train Loss : 0.896\n",
      "Epoch: 8\n"
     ]
    },
    {
     "name": "stderr",
     "output_type": "stream",
     "text": [
      "100%|██████████| 118/118 [00:06<00:00, 18.81it/s]\n"
     ]
    },
    {
     "name": "stdout",
     "output_type": "stream",
     "text": [
      "Train Loss : 0.881\n",
      "Epoch: 9\n"
     ]
    },
    {
     "name": "stderr",
     "output_type": "stream",
     "text": [
      "100%|██████████| 118/118 [00:05<00:00, 21.83it/s]\n"
     ]
    },
    {
     "name": "stdout",
     "output_type": "stream",
     "text": [
      "Train Loss : 0.869\n",
      "Epoch: 10\n"
     ]
    },
    {
     "name": "stderr",
     "output_type": "stream",
     "text": [
      "100%|██████████| 118/118 [00:06<00:00, 18.67it/s]\n"
     ]
    },
    {
     "name": "stdout",
     "output_type": "stream",
     "text": [
      "Train Loss : 0.860\n",
      "Epoch: 11\n"
     ]
    },
    {
     "name": "stderr",
     "output_type": "stream",
     "text": [
      "100%|██████████| 118/118 [00:05<00:00, 22.07it/s]\n"
     ]
    },
    {
     "name": "stdout",
     "output_type": "stream",
     "text": [
      "Train Loss : 0.855\n",
      "Epoch: 12\n"
     ]
    },
    {
     "name": "stderr",
     "output_type": "stream",
     "text": [
      "100%|██████████| 118/118 [00:05<00:00, 20.46it/s]\n"
     ]
    },
    {
     "name": "stdout",
     "output_type": "stream",
     "text": [
      "Train Loss : 0.851\n",
      "Epoch: 13\n"
     ]
    },
    {
     "name": "stderr",
     "output_type": "stream",
     "text": [
      "100%|██████████| 118/118 [00:05<00:00, 20.70it/s]\n"
     ]
    },
    {
     "name": "stdout",
     "output_type": "stream",
     "text": [
      "Train Loss : 0.846\n",
      "Epoch: 14\n"
     ]
    },
    {
     "name": "stderr",
     "output_type": "stream",
     "text": [
      "100%|██████████| 118/118 [00:05<00:00, 21.23it/s]\n"
     ]
    },
    {
     "name": "stdout",
     "output_type": "stream",
     "text": [
      "Train Loss : 0.841\n",
      "Epoch: 15\n"
     ]
    },
    {
     "name": "stderr",
     "output_type": "stream",
     "text": [
      "100%|██████████| 118/118 [00:06<00:00, 19.43it/s]\n"
     ]
    },
    {
     "name": "stdout",
     "output_type": "stream",
     "text": [
      "Train Loss : 0.837\n",
      "Average epoch duration: 5.81 seconds.\n",
      "\n",
      "Test Accuracy : 0.882\n",
      "\n",
      "Classification Report : \n",
      "              precision    recall  f1-score   support\n",
      "\n",
      "       World       0.92      0.86      0.89      1900\n",
      "      Sports       0.93      0.95      0.94      1900\n",
      "    Business       0.86      0.84      0.85      1900\n",
      "    Sci/Tech       0.82      0.88      0.85      1900\n",
      "\n",
      "    accuracy                           0.88      7600\n",
      "   macro avg       0.88      0.88      0.88      7600\n",
      "weighted avg       0.88      0.88      0.88      7600\n",
      "\n",
      "\n",
      "Confusion Matrix : \n",
      "[[1637   71  109   83]\n",
      " [  41 1803   15   41]\n",
      " [  57   24 1588  231]\n",
      " [  53   41  134 1672]]\n",
      "--------------------------------------------------------------------------------\n",
      "\n",
      "Experimental configuration: {'experiment_name': '1Bi-LSTM', 'rnn_type': 'lstm', 'bidirectional': True, 'rnn_layers': 1}\n",
      "\n",
      "Model:\n",
      "Model(\n",
      "  (embedding_layer): Embedding(21254, 100)\n",
      "  (rnn): LSTM(100, 64, batch_first=True, bidirectional=True)\n",
      "  (linear): Linear(in_features=128, out_features=4, bias=True)\n",
      ")\n",
      "Total parameters:  2210908\n",
      "\n",
      "\n",
      "\n",
      "Epoch: 1\n"
     ]
    },
    {
     "name": "stderr",
     "output_type": "stream",
     "text": [
      "100%|██████████| 118/118 [00:06<00:00, 18.23it/s]\n"
     ]
    },
    {
     "name": "stdout",
     "output_type": "stream",
     "text": [
      "Train Loss : 1.324\n",
      "Epoch: 2\n"
     ]
    },
    {
     "name": "stderr",
     "output_type": "stream",
     "text": [
      "100%|██████████| 118/118 [00:06<00:00, 17.13it/s]\n"
     ]
    },
    {
     "name": "stdout",
     "output_type": "stream",
     "text": [
      "Train Loss : 1.042\n",
      "Epoch: 3\n"
     ]
    },
    {
     "name": "stderr",
     "output_type": "stream",
     "text": [
      "100%|██████████| 118/118 [00:07<00:00, 16.65it/s]\n"
     ]
    },
    {
     "name": "stdout",
     "output_type": "stream",
     "text": [
      "Train Loss : 0.961\n",
      "Epoch: 4\n"
     ]
    },
    {
     "name": "stderr",
     "output_type": "stream",
     "text": [
      "100%|██████████| 118/118 [00:06<00:00, 18.72it/s]\n"
     ]
    },
    {
     "name": "stdout",
     "output_type": "stream",
     "text": [
      "Train Loss : 0.921\n",
      "Epoch: 5\n"
     ]
    },
    {
     "name": "stderr",
     "output_type": "stream",
     "text": [
      "100%|██████████| 118/118 [00:07<00:00, 16.41it/s]\n"
     ]
    },
    {
     "name": "stdout",
     "output_type": "stream",
     "text": [
      "Train Loss : 0.894\n",
      "Epoch: 6\n"
     ]
    },
    {
     "name": "stderr",
     "output_type": "stream",
     "text": [
      "100%|██████████| 118/118 [00:06<00:00, 18.87it/s]\n"
     ]
    },
    {
     "name": "stdout",
     "output_type": "stream",
     "text": [
      "Train Loss : 0.879\n",
      "Epoch: 7\n"
     ]
    },
    {
     "name": "stderr",
     "output_type": "stream",
     "text": [
      "100%|██████████| 118/118 [00:07<00:00, 16.43it/s]\n"
     ]
    },
    {
     "name": "stdout",
     "output_type": "stream",
     "text": [
      "Train Loss : 0.868\n",
      "Epoch: 8\n"
     ]
    },
    {
     "name": "stderr",
     "output_type": "stream",
     "text": [
      "100%|██████████| 118/118 [00:06<00:00, 18.63it/s]\n"
     ]
    },
    {
     "name": "stdout",
     "output_type": "stream",
     "text": [
      "Train Loss : 0.858\n",
      "Epoch: 9\n"
     ]
    },
    {
     "name": "stderr",
     "output_type": "stream",
     "text": [
      "100%|██████████| 118/118 [00:07<00:00, 16.74it/s]\n"
     ]
    },
    {
     "name": "stdout",
     "output_type": "stream",
     "text": [
      "Train Loss : 0.853\n",
      "Epoch: 10\n"
     ]
    },
    {
     "name": "stderr",
     "output_type": "stream",
     "text": [
      "100%|██████████| 118/118 [00:06<00:00, 18.48it/s]\n"
     ]
    },
    {
     "name": "stdout",
     "output_type": "stream",
     "text": [
      "Train Loss : 0.847\n",
      "Epoch: 11\n"
     ]
    },
    {
     "name": "stderr",
     "output_type": "stream",
     "text": [
      "100%|██████████| 118/118 [00:07<00:00, 16.42it/s]\n"
     ]
    },
    {
     "name": "stdout",
     "output_type": "stream",
     "text": [
      "Train Loss : 0.847\n",
      "Epoch: 12\n"
     ]
    },
    {
     "name": "stderr",
     "output_type": "stream",
     "text": [
      "100%|██████████| 118/118 [00:06<00:00, 17.14it/s]\n"
     ]
    },
    {
     "name": "stdout",
     "output_type": "stream",
     "text": [
      "Train Loss : 0.845\n",
      "Epoch: 13\n"
     ]
    },
    {
     "name": "stderr",
     "output_type": "stream",
     "text": [
      "100%|██████████| 118/118 [00:06<00:00, 17.68it/s]\n"
     ]
    },
    {
     "name": "stdout",
     "output_type": "stream",
     "text": [
      "Train Loss : 0.837\n",
      "Epoch: 14\n"
     ]
    },
    {
     "name": "stderr",
     "output_type": "stream",
     "text": [
      "100%|██████████| 118/118 [00:07<00:00, 16.70it/s]\n"
     ]
    },
    {
     "name": "stdout",
     "output_type": "stream",
     "text": [
      "Train Loss : 0.834\n",
      "Epoch: 15\n"
     ]
    },
    {
     "name": "stderr",
     "output_type": "stream",
     "text": [
      "100%|██████████| 118/118 [00:06<00:00, 18.25it/s]\n"
     ]
    },
    {
     "name": "stdout",
     "output_type": "stream",
     "text": [
      "Train Loss : 0.829\n",
      "Average epoch duration: 6.77 seconds.\n",
      "\n",
      "Test Accuracy : 0.887\n",
      "\n",
      "Classification Report : \n",
      "              precision    recall  f1-score   support\n",
      "\n",
      "       World       0.92      0.87      0.89      1900\n",
      "      Sports       0.94      0.95      0.95      1900\n",
      "    Business       0.85      0.84      0.85      1900\n",
      "    Sci/Tech       0.84      0.89      0.86      1900\n",
      "\n",
      "    accuracy                           0.89      7600\n",
      "   macro avg       0.89      0.89      0.89      7600\n",
      "weighted avg       0.89      0.89      0.89      7600\n",
      "\n",
      "\n",
      "Confusion Matrix : \n",
      "[[1646   72  116   66]\n",
      " [  23 1814   23   40]\n",
      " [  54   21 1600  225]\n",
      " [  58   25  133 1684]]\n",
      "--------------------------------------------------------------------------------\n",
      "\n",
      "Experimental configuration: {'experiment_name': '2Bi-LSTM', 'rnn_type': 'lstm', 'bidirectional': True, 'rnn_layers': 2}\n",
      "\n",
      "Model:\n",
      "Model(\n",
      "  (embedding_layer): Embedding(21254, 100)\n",
      "  (rnn): LSTM(100, 64, num_layers=2, batch_first=True, bidirectional=True)\n",
      "  (linear): Linear(in_features=128, out_features=4, bias=True)\n",
      ")\n",
      "Total parameters:  2310236\n",
      "\n",
      "\n",
      "\n",
      "Epoch: 1\n"
     ]
    },
    {
     "name": "stderr",
     "output_type": "stream",
     "text": [
      "100%|██████████| 118/118 [00:07<00:00, 15.56it/s]\n"
     ]
    },
    {
     "name": "stdout",
     "output_type": "stream",
     "text": [
      "Train Loss : 1.268\n",
      "Epoch: 2\n"
     ]
    },
    {
     "name": "stderr",
     "output_type": "stream",
     "text": [
      "100%|██████████| 118/118 [00:06<00:00, 17.52it/s]\n"
     ]
    },
    {
     "name": "stdout",
     "output_type": "stream",
     "text": [
      "Train Loss : 1.005\n",
      "Epoch: 3\n"
     ]
    },
    {
     "name": "stderr",
     "output_type": "stream",
     "text": [
      "100%|██████████| 118/118 [00:07<00:00, 16.07it/s]\n"
     ]
    },
    {
     "name": "stdout",
     "output_type": "stream",
     "text": [
      "Train Loss : 0.934\n",
      "Epoch: 4\n"
     ]
    },
    {
     "name": "stderr",
     "output_type": "stream",
     "text": [
      "100%|██████████| 118/118 [00:07<00:00, 15.75it/s]\n"
     ]
    },
    {
     "name": "stdout",
     "output_type": "stream",
     "text": [
      "Train Loss : 0.897\n",
      "Epoch: 5\n"
     ]
    },
    {
     "name": "stderr",
     "output_type": "stream",
     "text": [
      "100%|██████████| 118/118 [00:06<00:00, 17.27it/s]\n"
     ]
    },
    {
     "name": "stdout",
     "output_type": "stream",
     "text": [
      "Train Loss : 0.881\n",
      "Epoch: 6\n"
     ]
    },
    {
     "name": "stderr",
     "output_type": "stream",
     "text": [
      "100%|██████████| 118/118 [00:07<00:00, 15.56it/s]\n"
     ]
    },
    {
     "name": "stdout",
     "output_type": "stream",
     "text": [
      "Train Loss : 0.866\n",
      "Epoch: 7\n"
     ]
    },
    {
     "name": "stderr",
     "output_type": "stream",
     "text": [
      "100%|██████████| 118/118 [00:06<00:00, 18.04it/s]\n"
     ]
    },
    {
     "name": "stdout",
     "output_type": "stream",
     "text": [
      "Train Loss : 0.856\n",
      "Epoch: 8\n"
     ]
    },
    {
     "name": "stderr",
     "output_type": "stream",
     "text": [
      "100%|██████████| 118/118 [00:07<00:00, 16.22it/s]\n"
     ]
    },
    {
     "name": "stdout",
     "output_type": "stream",
     "text": [
      "Train Loss : 0.847\n",
      "Epoch: 9\n"
     ]
    },
    {
     "name": "stderr",
     "output_type": "stream",
     "text": [
      "100%|██████████| 118/118 [00:06<00:00, 17.27it/s]\n"
     ]
    },
    {
     "name": "stdout",
     "output_type": "stream",
     "text": [
      "Train Loss : 0.841\n",
      "Epoch: 10\n"
     ]
    },
    {
     "name": "stderr",
     "output_type": "stream",
     "text": [
      "100%|██████████| 118/118 [00:07<00:00, 15.89it/s]\n"
     ]
    },
    {
     "name": "stdout",
     "output_type": "stream",
     "text": [
      "Train Loss : 0.835\n",
      "Epoch: 11\n"
     ]
    },
    {
     "name": "stderr",
     "output_type": "stream",
     "text": [
      "100%|██████████| 118/118 [00:07<00:00, 16.17it/s]\n"
     ]
    },
    {
     "name": "stdout",
     "output_type": "stream",
     "text": [
      "Train Loss : 0.830\n",
      "Epoch: 12\n"
     ]
    },
    {
     "name": "stderr",
     "output_type": "stream",
     "text": [
      "100%|██████████| 118/118 [00:06<00:00, 17.84it/s]\n"
     ]
    },
    {
     "name": "stdout",
     "output_type": "stream",
     "text": [
      "Train Loss : 0.827\n",
      "Epoch: 13\n"
     ]
    },
    {
     "name": "stderr",
     "output_type": "stream",
     "text": [
      "100%|██████████| 118/118 [00:07<00:00, 16.07it/s]\n"
     ]
    },
    {
     "name": "stdout",
     "output_type": "stream",
     "text": [
      "Train Loss : 0.825\n",
      "Epoch: 14\n"
     ]
    },
    {
     "name": "stderr",
     "output_type": "stream",
     "text": [
      "100%|██████████| 118/118 [00:06<00:00, 17.60it/s]\n"
     ]
    },
    {
     "name": "stdout",
     "output_type": "stream",
     "text": [
      "Train Loss : 0.824\n",
      "Epoch: 15\n"
     ]
    },
    {
     "name": "stderr",
     "output_type": "stream",
     "text": [
      "100%|██████████| 118/118 [00:07<00:00, 16.00it/s]\n"
     ]
    },
    {
     "name": "stdout",
     "output_type": "stream",
     "text": [
      "Train Loss : 0.822\n",
      "Average epoch duration: 7.14 seconds.\n",
      "\n",
      "Test Accuracy : 0.892\n",
      "\n",
      "Classification Report : \n",
      "              precision    recall  f1-score   support\n",
      "\n",
      "       World       0.91      0.88      0.89      1900\n",
      "      Sports       0.93      0.96      0.95      1900\n",
      "    Business       0.85      0.87      0.86      1900\n",
      "    Sci/Tech       0.87      0.86      0.87      1900\n",
      "\n",
      "    accuracy                           0.89      7600\n",
      "   macro avg       0.89      0.89      0.89      7600\n",
      "weighted avg       0.89      0.89      0.89      7600\n",
      "\n",
      "\n",
      "Confusion Matrix : \n",
      "[[1664   74  108   54]\n",
      " [  29 1824   29   18]\n",
      " [  55   22 1660  163]\n",
      " [  74   38  154 1634]]\n",
      "--------------------------------------------------------------------------------\n",
      "\n",
      "+------------+-------------+-------------+-----------+-------------+-------------+-------------+\n",
      "|            |        1RNN |     1Bi-RNN |   2Bi-RNN |       1LSTM |    1Bi-LSTM |    2Bi-LSTM |\n",
      "+============+=============+=============+===========+=============+=============+=============+\n",
      "| Accuracy   | 0.349079    | 0.511842    | 0.469211  | 0.881579    | 0.887368    | 0.892368    |\n",
      "+------------+-------------+-------------+-----------+-------------+-------------+-------------+\n",
      "| Parameters | 2.13628e+06 | 2.14716e+06 | 2.172e+06 | 2.16816e+06 | 2.21091e+06 | 2.31024e+06 |\n",
      "+------------+-------------+-------------+-----------+-------------+-------------+-------------+\n",
      "| Time cost  | 5.08226     | 5.36384     | 6.1992    | 5.80503     | 6.77106     | 7.1414      |\n",
      "+------------+-------------+-------------+-----------+-------------+-------------+-------------+\n"
     ]
    }
   ],
   "source": [
    "MAX_WORDS = 50\n",
    "train_dataset, test_dataset, train_loader, test_loader, vocab = preprocess_data(MAX_WORDS)\n",
    "results = run_experiments(experimental_configs)\n",
    "print_eval_table(results)"
   ]
  },
  {
   "cell_type": "markdown",
   "metadata": {
    "id": "ws7jtMDHS3km"
   },
   "source": [
    "RNN models perform significanlt worse when using MAX_WORDS=50 instead of 25. This is probably happening due to the vanishing gradiend problem of RNNs. The longer the sequence that the RNN has to encode, the more difficult it is to capture information from the first timesteps of the RNN. This problem is solved in LSTMs which manage to \"remember\" important information from earlier timesteps. Indeed, we notice that the LSTM models are not affected by vanishing gradient and perform similarly and slightly better than the experiments with MAX_WORDS=25.\n",
    "\n",
    "Regarding the complexity of the models, it remains the same regardless of the MAX_WORDS values, since its value only affects the number of timesteps/calculations and not the structure of the neural network."
   ]
  },
  {
   "cell_type": "markdown",
   "metadata": {
    "id": "aOzhL1Xf5uk5"
   },
   "source": [
    "### 4."
   ]
  },
  {
   "cell_type": "markdown",
   "metadata": {
    "id": "D6esNiTCV0xD"
   },
   "source": [
    "Now, we use torchtext to load the GloVe embeddings. First, we create a vocabulary for this experiment, by finding the common words between the vocab that we costructed previously from the dataset, and the vocabulary of the GloVe embeddings. This way, we will only load the embeddings that we need for the training and evaluation of the model. Using these common words, we create a new torchtext vocab that also contains \\<PAD> and \\<UNK> tokens at the first two positions. We then create the embedding matrix by taking the embedding of each word in the new vocab and create a matrix whose rows are these embeddings in the same order as in the vocabulary. We set the first row to zeros (for the <PAD> token) and the second vector to a random vector (for the <UNK> token). \n",
    "\n",
    "To load the embeddings matrix, we modified the model so that:\n",
    " - The embedding layer is created with the same dimensions as the pre-trained mebeddings matrix to load.\n",
    " - We explicitly set padding_idx=0 to prevent the \\<PAD> embedding from updating during training.\n",
    " - We replace the randomly initialized embedding layer weight, with the pre-trained embeddings.\n",
    "\n",
    "self.embedding_layer = nn.Embedding(num_embeddings=pretrained_embeddings.shape[0], embedding_dim=pretrained_embeddings.shape[1], padding_idx=0)\n",
    "\n",
    "self.embedding_layer.weight.data.copy_(pretrained_embeddings)"
   ]
  },
  {
   "cell_type": "code",
   "execution_count": null,
   "metadata": {
    "colab": {
     "base_uri": "https://localhost:8080/"
    },
    "id": "49jbTnFGpE7w",
    "outputId": "1c88a2b0-b770-447d-cf42-36f34661031a"
   },
   "outputs": [
    {
     "name": "stderr",
     "output_type": "stream",
     "text": [
      ".vector_cache/glove.6B.zip: 862MB [02:40, 5.36MB/s]                           \n",
      "100%|█████████▉| 399999/400000 [00:18<00:00, 22058.35it/s]\n"
     ]
    }
   ],
   "source": [
    "import torchtext\n",
    "from collections import OrderedDict\n",
    "pretrained_embeddings = torchtext.vocab.GloVe(name='6B', dim=100)\n",
    "\n",
    "# Creating the new embeddings vocabulary, by keeping common terms between our original dataset vocabualry, and the Glove-6B-100D vocabulary. \n",
    "embeddings_vocab = set(pretrained_embeddings.itos)\n",
    "embeddings_vocab = [t for t in vocab.get_itos() if t in embeddings_vocab]\n",
    "\n",
    "# Creating an OrderedDict with dummy token frequencies (1), in order to build a torchtext vocab.\n",
    "vocab = OrderedDict([(token, 1) for token in embeddings_vocab])\n",
    "\n",
    "# Building torchtext vocab, with <PAD> and <UNK> special tokens at the first positions (0 and 1 respectively).\n",
    "vocab = torchtext.vocab.vocab(vocab, min_freq=1, specials=[\"<PAD>\",\"<UNK>\"], special_first=True)\n",
    "vocab.set_default_index(vocab[\"<UNK>\"])\n",
    "\n",
    "embeddings_matrix = pretrained_embeddings.get_vecs_by_tokens(vocab.get_itos())\n",
    "# Add add zeros-vector (for <PAD> token) and random vector (for <UNK> token) at the first two rows of the embeddings matrix.\n",
    "embeddings_matrix[0, :] = torch.zeros(1, embeddings_matrix.shape[1]) # Setting the 0th vector to zeros (for the <PAD> token)\n",
    "embeddings_matrix[1, :] = torch.rand(1, embeddings_matrix.shape[1]) # Setting the 1st vector to random vector (for the <UNK> token)"
   ]
  },
  {
   "cell_type": "code",
   "execution_count": null,
   "metadata": {
    "colab": {
     "base_uri": "https://localhost:8080/"
    },
    "id": "KtGpThMoFVTv",
    "outputId": "287db121-4d95-4882-dd1d-006441295cbe"
   },
   "outputs": [
    {
     "name": "stdout",
     "output_type": "stream",
     "text": [
      "Experimental configuration: {'experiment_name': '1RNN', 'rnn_type': 'rnn', 'bidirectional': False, 'rnn_layers': 1}\n",
      "\n",
      "Model:\n",
      "Model(\n",
      "  (embedding_layer): Embedding(20437, 100, padding_idx=0)\n",
      "  (rnn): RNN(100, 64, batch_first=True)\n",
      "  (linear): Linear(in_features=64, out_features=4, bias=True)\n",
      ")\n",
      "Total parameters:  2054584\n",
      "\n",
      "\n",
      "\n",
      "Epoch: 1\n"
     ]
    },
    {
     "name": "stderr",
     "output_type": "stream",
     "text": [
      "100%|██████████| 118/118 [00:04<00:00, 28.02it/s]\n"
     ]
    },
    {
     "name": "stdout",
     "output_type": "stream",
     "text": [
      "Train Loss : 1.053\n",
      "Epoch: 2\n"
     ]
    },
    {
     "name": "stderr",
     "output_type": "stream",
     "text": [
      "100%|██████████| 118/118 [00:05<00:00, 23.29it/s]\n"
     ]
    },
    {
     "name": "stdout",
     "output_type": "stream",
     "text": [
      "Train Loss : 0.901\n",
      "Epoch: 3\n"
     ]
    },
    {
     "name": "stderr",
     "output_type": "stream",
     "text": [
      "100%|██████████| 118/118 [00:04<00:00, 28.74it/s]\n"
     ]
    },
    {
     "name": "stdout",
     "output_type": "stream",
     "text": [
      "Train Loss : 0.881\n",
      "Epoch: 4\n"
     ]
    },
    {
     "name": "stderr",
     "output_type": "stream",
     "text": [
      "100%|██████████| 118/118 [00:03<00:00, 30.09it/s]\n"
     ]
    },
    {
     "name": "stdout",
     "output_type": "stream",
     "text": [
      "Train Loss : 0.866\n",
      "Epoch: 5\n"
     ]
    },
    {
     "name": "stderr",
     "output_type": "stream",
     "text": [
      "100%|██████████| 118/118 [00:05<00:00, 23.09it/s]\n"
     ]
    },
    {
     "name": "stdout",
     "output_type": "stream",
     "text": [
      "Train Loss : 0.860\n",
      "Epoch: 6\n"
     ]
    },
    {
     "name": "stderr",
     "output_type": "stream",
     "text": [
      "100%|██████████| 118/118 [00:04<00:00, 29.40it/s]\n"
     ]
    },
    {
     "name": "stdout",
     "output_type": "stream",
     "text": [
      "Train Loss : 0.857\n",
      "Epoch: 7\n"
     ]
    },
    {
     "name": "stderr",
     "output_type": "stream",
     "text": [
      "100%|██████████| 118/118 [00:04<00:00, 29.31it/s]\n"
     ]
    },
    {
     "name": "stdout",
     "output_type": "stream",
     "text": [
      "Train Loss : 0.850\n",
      "Epoch: 8\n"
     ]
    },
    {
     "name": "stderr",
     "output_type": "stream",
     "text": [
      "100%|██████████| 118/118 [00:05<00:00, 23.54it/s]\n"
     ]
    },
    {
     "name": "stdout",
     "output_type": "stream",
     "text": [
      "Train Loss : 0.850\n",
      "Epoch: 9\n"
     ]
    },
    {
     "name": "stderr",
     "output_type": "stream",
     "text": [
      "100%|██████████| 118/118 [00:04<00:00, 28.93it/s]\n"
     ]
    },
    {
     "name": "stdout",
     "output_type": "stream",
     "text": [
      "Train Loss : 0.850\n",
      "Epoch: 10\n"
     ]
    },
    {
     "name": "stderr",
     "output_type": "stream",
     "text": [
      "100%|██████████| 118/118 [00:04<00:00, 26.87it/s]\n"
     ]
    },
    {
     "name": "stdout",
     "output_type": "stream",
     "text": [
      "Train Loss : 0.849\n",
      "Epoch: 11\n"
     ]
    },
    {
     "name": "stderr",
     "output_type": "stream",
     "text": [
      "100%|██████████| 118/118 [00:04<00:00, 24.97it/s]\n"
     ]
    },
    {
     "name": "stdout",
     "output_type": "stream",
     "text": [
      "Train Loss : 0.854\n",
      "Epoch: 12\n"
     ]
    },
    {
     "name": "stderr",
     "output_type": "stream",
     "text": [
      "100%|██████████| 118/118 [00:04<00:00, 28.96it/s]\n"
     ]
    },
    {
     "name": "stdout",
     "output_type": "stream",
     "text": [
      "Train Loss : 0.845\n",
      "Epoch: 13\n"
     ]
    },
    {
     "name": "stderr",
     "output_type": "stream",
     "text": [
      "100%|██████████| 118/118 [00:05<00:00, 23.41it/s]\n"
     ]
    },
    {
     "name": "stdout",
     "output_type": "stream",
     "text": [
      "Train Loss : 0.851\n",
      "Epoch: 14\n"
     ]
    },
    {
     "name": "stderr",
     "output_type": "stream",
     "text": [
      "100%|██████████| 118/118 [00:04<00:00, 28.23it/s]\n"
     ]
    },
    {
     "name": "stdout",
     "output_type": "stream",
     "text": [
      "Train Loss : 0.841\n",
      "Epoch: 15\n"
     ]
    },
    {
     "name": "stderr",
     "output_type": "stream",
     "text": [
      "100%|██████████| 118/118 [00:04<00:00, 28.75it/s]\n"
     ]
    },
    {
     "name": "stdout",
     "output_type": "stream",
     "text": [
      "Train Loss : 0.836\n",
      "Average epoch duration: 4.41 seconds.\n",
      "\n",
      "Test Accuracy : 0.885\n",
      "\n",
      "Classification Report : \n",
      "              precision    recall  f1-score   support\n",
      "\n",
      "       World       0.89      0.89      0.89      1900\n",
      "      Sports       0.93      0.97      0.95      1900\n",
      "    Business       0.87      0.81      0.84      1900\n",
      "    Sci/Tech       0.84      0.87      0.85      1900\n",
      "\n",
      "    accuracy                           0.88      7600\n",
      "   macro avg       0.88      0.88      0.88      7600\n",
      "weighted avg       0.88      0.88      0.88      7600\n",
      "\n",
      "\n",
      "Confusion Matrix : \n",
      "[[1693   75   80   52]\n",
      " [  21 1845   14   20]\n",
      " [  91   30 1541  238]\n",
      " [  89   31  136 1644]]\n",
      "--------------------------------------------------------------------------------\n",
      "\n",
      "Experimental configuration: {'experiment_name': '1Bi-RNN', 'rnn_type': 'rnn', 'bidirectional': True, 'rnn_layers': 1}\n",
      "\n",
      "Model:\n",
      "Model(\n",
      "  (embedding_layer): Embedding(20437, 100, padding_idx=0)\n",
      "  (rnn): RNN(100, 64, batch_first=True, bidirectional=True)\n",
      "  (linear): Linear(in_features=128, out_features=4, bias=True)\n",
      ")\n",
      "Total parameters:  2065464\n",
      "\n",
      "\n",
      "\n",
      "Epoch: 1\n"
     ]
    },
    {
     "name": "stderr",
     "output_type": "stream",
     "text": [
      "100%|██████████| 118/118 [00:05<00:00, 22.04it/s]\n"
     ]
    },
    {
     "name": "stdout",
     "output_type": "stream",
     "text": [
      "Train Loss : 1.070\n",
      "Epoch: 2\n"
     ]
    },
    {
     "name": "stderr",
     "output_type": "stream",
     "text": [
      "100%|██████████| 118/118 [00:04<00:00, 28.23it/s]\n"
     ]
    },
    {
     "name": "stdout",
     "output_type": "stream",
     "text": [
      "Train Loss : 0.911\n",
      "Epoch: 3\n"
     ]
    },
    {
     "name": "stderr",
     "output_type": "stream",
     "text": [
      "100%|██████████| 118/118 [00:04<00:00, 27.98it/s]\n"
     ]
    },
    {
     "name": "stdout",
     "output_type": "stream",
     "text": [
      "Train Loss : 0.879\n",
      "Epoch: 4\n"
     ]
    },
    {
     "name": "stderr",
     "output_type": "stream",
     "text": [
      "100%|██████████| 118/118 [00:05<00:00, 21.96it/s]\n"
     ]
    },
    {
     "name": "stdout",
     "output_type": "stream",
     "text": [
      "Train Loss : 0.877\n",
      "Epoch: 5\n"
     ]
    },
    {
     "name": "stderr",
     "output_type": "stream",
     "text": [
      "100%|██████████| 118/118 [00:04<00:00, 27.74it/s]\n"
     ]
    },
    {
     "name": "stdout",
     "output_type": "stream",
     "text": [
      "Train Loss : 0.893\n",
      "Epoch: 6\n"
     ]
    },
    {
     "name": "stderr",
     "output_type": "stream",
     "text": [
      "100%|██████████| 118/118 [00:05<00:00, 22.07it/s]\n"
     ]
    },
    {
     "name": "stdout",
     "output_type": "stream",
     "text": [
      "Train Loss : 0.864\n",
      "Epoch: 7\n"
     ]
    },
    {
     "name": "stderr",
     "output_type": "stream",
     "text": [
      "100%|██████████| 118/118 [00:04<00:00, 26.84it/s]\n"
     ]
    },
    {
     "name": "stdout",
     "output_type": "stream",
     "text": [
      "Train Loss : 0.854\n",
      "Epoch: 8\n"
     ]
    },
    {
     "name": "stderr",
     "output_type": "stream",
     "text": [
      "100%|██████████| 118/118 [00:04<00:00, 26.26it/s]\n"
     ]
    },
    {
     "name": "stdout",
     "output_type": "stream",
     "text": [
      "Train Loss : 0.853\n",
      "Epoch: 9\n"
     ]
    },
    {
     "name": "stderr",
     "output_type": "stream",
     "text": [
      "100%|██████████| 118/118 [00:05<00:00, 22.05it/s]\n"
     ]
    },
    {
     "name": "stdout",
     "output_type": "stream",
     "text": [
      "Train Loss : 0.864\n",
      "Epoch: 10\n"
     ]
    },
    {
     "name": "stderr",
     "output_type": "stream",
     "text": [
      "100%|██████████| 118/118 [00:04<00:00, 25.72it/s]\n"
     ]
    },
    {
     "name": "stdout",
     "output_type": "stream",
     "text": [
      "Train Loss : 0.846\n",
      "Epoch: 11\n"
     ]
    },
    {
     "name": "stderr",
     "output_type": "stream",
     "text": [
      "100%|██████████| 118/118 [00:04<00:00, 23.64it/s]\n"
     ]
    },
    {
     "name": "stdout",
     "output_type": "stream",
     "text": [
      "Train Loss : 0.851\n",
      "Epoch: 12\n"
     ]
    },
    {
     "name": "stderr",
     "output_type": "stream",
     "text": [
      "100%|██████████| 118/118 [00:04<00:00, 24.57it/s]\n"
     ]
    },
    {
     "name": "stdout",
     "output_type": "stream",
     "text": [
      "Train Loss : 0.846\n",
      "Epoch: 13\n"
     ]
    },
    {
     "name": "stderr",
     "output_type": "stream",
     "text": [
      "100%|██████████| 118/118 [00:04<00:00, 26.04it/s]\n"
     ]
    },
    {
     "name": "stdout",
     "output_type": "stream",
     "text": [
      "Train Loss : 0.841\n",
      "Epoch: 14\n"
     ]
    },
    {
     "name": "stderr",
     "output_type": "stream",
     "text": [
      "100%|██████████| 118/118 [00:05<00:00, 22.38it/s]\n"
     ]
    },
    {
     "name": "stdout",
     "output_type": "stream",
     "text": [
      "Train Loss : 0.849\n",
      "Epoch: 15\n"
     ]
    },
    {
     "name": "stderr",
     "output_type": "stream",
     "text": [
      "100%|██████████| 118/118 [00:04<00:00, 26.28it/s]\n"
     ]
    },
    {
     "name": "stdout",
     "output_type": "stream",
     "text": [
      "Train Loss : 0.851\n",
      "Average epoch duration: 4.79 seconds.\n",
      "\n",
      "Test Accuracy : 0.862\n",
      "\n",
      "Classification Report : \n",
      "              precision    recall  f1-score   support\n",
      "\n",
      "       World       0.85      0.89      0.87      1900\n",
      "      Sports       0.96      0.89      0.92      1900\n",
      "    Business       0.88      0.77      0.82      1900\n",
      "    Sci/Tech       0.78      0.89      0.83      1900\n",
      "\n",
      "    accuracy                           0.86      7600\n",
      "   macro avg       0.87      0.86      0.86      7600\n",
      "weighted avg       0.87      0.86      0.86      7600\n",
      "\n",
      "\n",
      "Confusion Matrix : \n",
      "[[1690   48   78   84]\n",
      " [  85 1687   18  110]\n",
      " [ 134   11 1472  283]\n",
      " [  81    8  112 1699]]\n",
      "--------------------------------------------------------------------------------\n",
      "\n",
      "Experimental configuration: {'experiment_name': '2Bi-RNN', 'rnn_type': 'rnn', 'bidirectional': True, 'rnn_layers': 2}\n",
      "\n",
      "Model:\n",
      "Model(\n",
      "  (embedding_layer): Embedding(20437, 100, padding_idx=0)\n",
      "  (rnn): RNN(100, 64, num_layers=2, batch_first=True, bidirectional=True)\n",
      "  (linear): Linear(in_features=128, out_features=4, bias=True)\n",
      ")\n",
      "Total parameters:  2090296\n",
      "\n",
      "\n",
      "\n",
      "Epoch: 1\n"
     ]
    },
    {
     "name": "stderr",
     "output_type": "stream",
     "text": [
      "100%|██████████| 118/118 [00:05<00:00, 22.01it/s]\n"
     ]
    },
    {
     "name": "stdout",
     "output_type": "stream",
     "text": [
      "Train Loss : 1.003\n",
      "Epoch: 2\n"
     ]
    },
    {
     "name": "stderr",
     "output_type": "stream",
     "text": [
      "100%|██████████| 118/118 [00:05<00:00, 23.01it/s]\n"
     ]
    },
    {
     "name": "stdout",
     "output_type": "stream",
     "text": [
      "Train Loss : 0.894\n",
      "Epoch: 3\n"
     ]
    },
    {
     "name": "stderr",
     "output_type": "stream",
     "text": [
      "100%|██████████| 118/118 [00:04<00:00, 24.84it/s]\n"
     ]
    },
    {
     "name": "stdout",
     "output_type": "stream",
     "text": [
      "Train Loss : 0.900\n",
      "Epoch: 4\n"
     ]
    },
    {
     "name": "stderr",
     "output_type": "stream",
     "text": [
      "100%|██████████| 118/118 [00:05<00:00, 20.83it/s]\n"
     ]
    },
    {
     "name": "stdout",
     "output_type": "stream",
     "text": [
      "Train Loss : 0.869\n",
      "Epoch: 5\n"
     ]
    },
    {
     "name": "stderr",
     "output_type": "stream",
     "text": [
      "100%|██████████| 118/118 [00:04<00:00, 23.77it/s]\n"
     ]
    },
    {
     "name": "stdout",
     "output_type": "stream",
     "text": [
      "Train Loss : 0.854\n",
      "Epoch: 6\n"
     ]
    },
    {
     "name": "stderr",
     "output_type": "stream",
     "text": [
      "100%|██████████| 118/118 [00:05<00:00, 21.24it/s]\n"
     ]
    },
    {
     "name": "stdout",
     "output_type": "stream",
     "text": [
      "Train Loss : 0.851\n",
      "Epoch: 7\n"
     ]
    },
    {
     "name": "stderr",
     "output_type": "stream",
     "text": [
      "100%|██████████| 118/118 [00:04<00:00, 24.98it/s]\n"
     ]
    },
    {
     "name": "stdout",
     "output_type": "stream",
     "text": [
      "Train Loss : 0.848\n",
      "Epoch: 8\n"
     ]
    },
    {
     "name": "stderr",
     "output_type": "stream",
     "text": [
      "100%|██████████| 118/118 [00:04<00:00, 24.81it/s]\n"
     ]
    },
    {
     "name": "stdout",
     "output_type": "stream",
     "text": [
      "Train Loss : 0.854\n",
      "Epoch: 9\n"
     ]
    },
    {
     "name": "stderr",
     "output_type": "stream",
     "text": [
      "100%|██████████| 118/118 [00:05<00:00, 20.50it/s]\n"
     ]
    },
    {
     "name": "stdout",
     "output_type": "stream",
     "text": [
      "Train Loss : 0.882\n",
      "Epoch: 10\n"
     ]
    },
    {
     "name": "stderr",
     "output_type": "stream",
     "text": [
      "100%|██████████| 118/118 [00:04<00:00, 24.02it/s]\n"
     ]
    },
    {
     "name": "stdout",
     "output_type": "stream",
     "text": [
      "Train Loss : 0.847\n",
      "Epoch: 11\n"
     ]
    },
    {
     "name": "stderr",
     "output_type": "stream",
     "text": [
      "100%|██████████| 118/118 [00:05<00:00, 20.95it/s]\n"
     ]
    },
    {
     "name": "stdout",
     "output_type": "stream",
     "text": [
      "Train Loss : 0.841\n",
      "Epoch: 12\n"
     ]
    },
    {
     "name": "stderr",
     "output_type": "stream",
     "text": [
      "100%|██████████| 118/118 [00:04<00:00, 24.97it/s]\n"
     ]
    },
    {
     "name": "stdout",
     "output_type": "stream",
     "text": [
      "Train Loss : 0.865\n",
      "Epoch: 13\n"
     ]
    },
    {
     "name": "stderr",
     "output_type": "stream",
     "text": [
      "100%|██████████| 118/118 [00:05<00:00, 22.01it/s]\n"
     ]
    },
    {
     "name": "stdout",
     "output_type": "stream",
     "text": [
      "Train Loss : 0.850\n",
      "Epoch: 14\n"
     ]
    },
    {
     "name": "stderr",
     "output_type": "stream",
     "text": [
      "100%|██████████| 118/118 [00:05<00:00, 23.22it/s]\n"
     ]
    },
    {
     "name": "stdout",
     "output_type": "stream",
     "text": [
      "Train Loss : 0.870\n",
      "Epoch: 15\n"
     ]
    },
    {
     "name": "stderr",
     "output_type": "stream",
     "text": [
      "100%|██████████| 118/118 [00:04<00:00, 24.85it/s]\n"
     ]
    },
    {
     "name": "stdout",
     "output_type": "stream",
     "text": [
      "Train Loss : 0.851\n",
      "Average epoch duration: 5.15 seconds.\n",
      "\n",
      "Test Accuracy : 0.872\n",
      "\n",
      "Classification Report : \n",
      "              precision    recall  f1-score   support\n",
      "\n",
      "       World       0.93      0.84      0.88      1900\n",
      "      Sports       0.95      0.92      0.94      1900\n",
      "    Business       0.76      0.88      0.82      1900\n",
      "    Sci/Tech       0.86      0.85      0.86      1900\n",
      "\n",
      "    accuracy                           0.87      7600\n",
      "   macro avg       0.88      0.87      0.87      7600\n",
      "weighted avg       0.88      0.87      0.87      7600\n",
      "\n",
      "\n",
      "Confusion Matrix : \n",
      "[[1591   69  184   56]\n",
      " [  20 1756  108   16]\n",
      " [  42    9 1670  179]\n",
      " [  59   10  223 1608]]\n",
      "--------------------------------------------------------------------------------\n",
      "\n",
      "Experimental configuration: {'experiment_name': '1LSTM', 'rnn_type': 'lstm', 'bidirectional': False, 'rnn_layers': 1}\n",
      "\n",
      "Model:\n",
      "Model(\n",
      "  (embedding_layer): Embedding(20437, 100, padding_idx=0)\n",
      "  (rnn): LSTM(100, 64, batch_first=True)\n",
      "  (linear): Linear(in_features=64, out_features=4, bias=True)\n",
      ")\n",
      "Total parameters:  2086456\n",
      "\n",
      "\n",
      "\n",
      "Epoch: 1\n"
     ]
    },
    {
     "name": "stderr",
     "output_type": "stream",
     "text": [
      "100%|██████████| 118/118 [00:05<00:00, 21.39it/s]\n"
     ]
    },
    {
     "name": "stdout",
     "output_type": "stream",
     "text": [
      "Train Loss : 1.013\n",
      "Epoch: 2\n"
     ]
    },
    {
     "name": "stderr",
     "output_type": "stream",
     "text": [
      "100%|██████████| 118/118 [00:04<00:00, 24.28it/s]\n"
     ]
    },
    {
     "name": "stdout",
     "output_type": "stream",
     "text": [
      "Train Loss : 0.858\n",
      "Epoch: 3\n"
     ]
    },
    {
     "name": "stderr",
     "output_type": "stream",
     "text": [
      "100%|██████████| 118/118 [00:05<00:00, 21.57it/s]\n"
     ]
    },
    {
     "name": "stdout",
     "output_type": "stream",
     "text": [
      "Train Loss : 0.842\n",
      "Epoch: 4\n"
     ]
    },
    {
     "name": "stderr",
     "output_type": "stream",
     "text": [
      "100%|██████████| 118/118 [00:04<00:00, 25.47it/s]\n"
     ]
    },
    {
     "name": "stdout",
     "output_type": "stream",
     "text": [
      "Train Loss : 0.833\n",
      "Epoch: 5\n"
     ]
    },
    {
     "name": "stderr",
     "output_type": "stream",
     "text": [
      "100%|██████████| 118/118 [00:04<00:00, 24.67it/s]\n"
     ]
    },
    {
     "name": "stdout",
     "output_type": "stream",
     "text": [
      "Train Loss : 0.826\n",
      "Epoch: 6\n"
     ]
    },
    {
     "name": "stderr",
     "output_type": "stream",
     "text": [
      "100%|██████████| 118/118 [00:05<00:00, 21.36it/s]\n"
     ]
    },
    {
     "name": "stdout",
     "output_type": "stream",
     "text": [
      "Train Loss : 0.820\n",
      "Epoch: 7\n"
     ]
    },
    {
     "name": "stderr",
     "output_type": "stream",
     "text": [
      "100%|██████████| 118/118 [00:04<00:00, 24.88it/s]\n"
     ]
    },
    {
     "name": "stdout",
     "output_type": "stream",
     "text": [
      "Train Loss : 0.817\n",
      "Epoch: 8\n"
     ]
    },
    {
     "name": "stderr",
     "output_type": "stream",
     "text": [
      "100%|██████████| 118/118 [00:05<00:00, 21.43it/s]\n"
     ]
    },
    {
     "name": "stdout",
     "output_type": "stream",
     "text": [
      "Train Loss : 0.811\n",
      "Epoch: 9\n"
     ]
    },
    {
     "name": "stderr",
     "output_type": "stream",
     "text": [
      "100%|██████████| 118/118 [00:04<00:00, 25.93it/s]\n"
     ]
    },
    {
     "name": "stdout",
     "output_type": "stream",
     "text": [
      "Train Loss : 0.808\n",
      "Epoch: 10\n"
     ]
    },
    {
     "name": "stderr",
     "output_type": "stream",
     "text": [
      "100%|██████████| 118/118 [00:04<00:00, 25.11it/s]\n"
     ]
    },
    {
     "name": "stdout",
     "output_type": "stream",
     "text": [
      "Train Loss : 0.806\n",
      "Epoch: 11\n"
     ]
    },
    {
     "name": "stderr",
     "output_type": "stream",
     "text": [
      "100%|██████████| 118/118 [00:05<00:00, 21.56it/s]\n"
     ]
    },
    {
     "name": "stdout",
     "output_type": "stream",
     "text": [
      "Train Loss : 0.803\n",
      "Epoch: 12\n"
     ]
    },
    {
     "name": "stderr",
     "output_type": "stream",
     "text": [
      "100%|██████████| 118/118 [00:04<00:00, 25.27it/s]\n"
     ]
    },
    {
     "name": "stdout",
     "output_type": "stream",
     "text": [
      "Train Loss : 0.802\n",
      "Epoch: 13\n"
     ]
    },
    {
     "name": "stderr",
     "output_type": "stream",
     "text": [
      "100%|██████████| 118/118 [00:05<00:00, 21.26it/s]\n"
     ]
    },
    {
     "name": "stdout",
     "output_type": "stream",
     "text": [
      "Train Loss : 0.801\n",
      "Epoch: 14\n"
     ]
    },
    {
     "name": "stderr",
     "output_type": "stream",
     "text": [
      "100%|██████████| 118/118 [00:04<00:00, 24.63it/s]\n"
     ]
    },
    {
     "name": "stdout",
     "output_type": "stream",
     "text": [
      "Train Loss : 0.800\n",
      "Epoch: 15\n"
     ]
    },
    {
     "name": "stderr",
     "output_type": "stream",
     "text": [
      "100%|██████████| 118/118 [00:05<00:00, 22.46it/s]\n"
     ]
    },
    {
     "name": "stdout",
     "output_type": "stream",
     "text": [
      "Train Loss : 0.799\n",
      "Average epoch duration: 5.08 seconds.\n",
      "\n",
      "Test Accuracy : 0.908\n",
      "\n",
      "Classification Report : \n",
      "              precision    recall  f1-score   support\n",
      "\n",
      "       World       0.93      0.90      0.91      1900\n",
      "      Sports       0.95      0.97      0.96      1900\n",
      "    Business       0.88      0.86      0.87      1900\n",
      "    Sci/Tech       0.87      0.90      0.88      1900\n",
      "\n",
      "    accuracy                           0.91      7600\n",
      "   macro avg       0.91      0.91      0.91      7600\n",
      "weighted avg       0.91      0.91      0.91      7600\n",
      "\n",
      "\n",
      "Confusion Matrix : \n",
      "[[1704   61   72   63]\n",
      " [  18 1840   19   23]\n",
      " [  57   23 1642  178]\n",
      " [  48   12  126 1714]]\n",
      "--------------------------------------------------------------------------------\n",
      "\n",
      "Experimental configuration: {'experiment_name': '1Bi-LSTM', 'rnn_type': 'lstm', 'bidirectional': True, 'rnn_layers': 1}\n",
      "\n",
      "Model:\n",
      "Model(\n",
      "  (embedding_layer): Embedding(20437, 100, padding_idx=0)\n",
      "  (rnn): LSTM(100, 64, batch_first=True, bidirectional=True)\n",
      "  (linear): Linear(in_features=128, out_features=4, bias=True)\n",
      ")\n",
      "Total parameters:  2129208\n",
      "\n",
      "\n",
      "\n",
      "Epoch: 1\n"
     ]
    },
    {
     "name": "stderr",
     "output_type": "stream",
     "text": [
      "100%|██████████| 118/118 [00:05<00:00, 21.22it/s]\n"
     ]
    },
    {
     "name": "stdout",
     "output_type": "stream",
     "text": [
      "Train Loss : 1.024\n",
      "Epoch: 2\n"
     ]
    },
    {
     "name": "stderr",
     "output_type": "stream",
     "text": [
      "100%|██████████| 118/118 [00:05<00:00, 20.26it/s]\n"
     ]
    },
    {
     "name": "stdout",
     "output_type": "stream",
     "text": [
      "Train Loss : 0.858\n",
      "Epoch: 3\n"
     ]
    },
    {
     "name": "stderr",
     "output_type": "stream",
     "text": [
      "100%|██████████| 118/118 [00:05<00:00, 19.87it/s]\n"
     ]
    },
    {
     "name": "stdout",
     "output_type": "stream",
     "text": [
      "Train Loss : 0.843\n",
      "Epoch: 4\n"
     ]
    },
    {
     "name": "stderr",
     "output_type": "stream",
     "text": [
      "100%|██████████| 118/118 [00:05<00:00, 21.86it/s]\n"
     ]
    },
    {
     "name": "stdout",
     "output_type": "stream",
     "text": [
      "Train Loss : 0.832\n",
      "Epoch: 5\n"
     ]
    },
    {
     "name": "stderr",
     "output_type": "stream",
     "text": [
      "100%|██████████| 118/118 [00:06<00:00, 18.96it/s]\n"
     ]
    },
    {
     "name": "stdout",
     "output_type": "stream",
     "text": [
      "Train Loss : 0.824\n",
      "Epoch: 6\n"
     ]
    },
    {
     "name": "stderr",
     "output_type": "stream",
     "text": [
      "100%|██████████| 118/118 [00:05<00:00, 22.03it/s]\n"
     ]
    },
    {
     "name": "stdout",
     "output_type": "stream",
     "text": [
      "Train Loss : 0.819\n",
      "Epoch: 7\n"
     ]
    },
    {
     "name": "stderr",
     "output_type": "stream",
     "text": [
      "100%|██████████| 118/118 [00:06<00:00, 19.45it/s]\n"
     ]
    },
    {
     "name": "stdout",
     "output_type": "stream",
     "text": [
      "Train Loss : 0.816\n",
      "Epoch: 8\n"
     ]
    },
    {
     "name": "stderr",
     "output_type": "stream",
     "text": [
      "100%|██████████| 118/118 [00:05<00:00, 22.09it/s]\n"
     ]
    },
    {
     "name": "stdout",
     "output_type": "stream",
     "text": [
      "Train Loss : 0.813\n",
      "Epoch: 9\n"
     ]
    },
    {
     "name": "stderr",
     "output_type": "stream",
     "text": [
      "100%|██████████| 118/118 [00:06<00:00, 19.05it/s]\n"
     ]
    },
    {
     "name": "stdout",
     "output_type": "stream",
     "text": [
      "Train Loss : 0.809\n",
      "Epoch: 10\n"
     ]
    },
    {
     "name": "stderr",
     "output_type": "stream",
     "text": [
      "100%|██████████| 118/118 [00:05<00:00, 21.97it/s]\n"
     ]
    },
    {
     "name": "stdout",
     "output_type": "stream",
     "text": [
      "Train Loss : 0.806\n",
      "Epoch: 11\n"
     ]
    },
    {
     "name": "stderr",
     "output_type": "stream",
     "text": [
      "100%|██████████| 118/118 [00:06<00:00, 18.92it/s]\n"
     ]
    },
    {
     "name": "stdout",
     "output_type": "stream",
     "text": [
      "Train Loss : 0.805\n",
      "Epoch: 12\n"
     ]
    },
    {
     "name": "stderr",
     "output_type": "stream",
     "text": [
      "100%|██████████| 118/118 [00:05<00:00, 22.43it/s]\n"
     ]
    },
    {
     "name": "stdout",
     "output_type": "stream",
     "text": [
      "Train Loss : 0.803\n",
      "Epoch: 13\n"
     ]
    },
    {
     "name": "stderr",
     "output_type": "stream",
     "text": [
      "100%|██████████| 118/118 [00:06<00:00, 19.16it/s]\n"
     ]
    },
    {
     "name": "stdout",
     "output_type": "stream",
     "text": [
      "Train Loss : 0.800\n",
      "Epoch: 14\n"
     ]
    },
    {
     "name": "stderr",
     "output_type": "stream",
     "text": [
      "100%|██████████| 118/118 [00:05<00:00, 21.63it/s]\n"
     ]
    },
    {
     "name": "stdout",
     "output_type": "stream",
     "text": [
      "Train Loss : 0.799\n",
      "Epoch: 15\n"
     ]
    },
    {
     "name": "stderr",
     "output_type": "stream",
     "text": [
      "100%|██████████| 118/118 [00:06<00:00, 19.39it/s]\n"
     ]
    },
    {
     "name": "stdout",
     "output_type": "stream",
     "text": [
      "Train Loss : 0.797\n",
      "Average epoch duration: 5.77 seconds.\n",
      "\n",
      "Test Accuracy : 0.908\n",
      "\n",
      "Classification Report : \n",
      "              precision    recall  f1-score   support\n",
      "\n",
      "       World       0.92      0.90      0.91      1900\n",
      "      Sports       0.95      0.98      0.96      1900\n",
      "    Business       0.88      0.87      0.88      1900\n",
      "    Sci/Tech       0.88      0.89      0.88      1900\n",
      "\n",
      "    accuracy                           0.91      7600\n",
      "   macro avg       0.91      0.91      0.91      7600\n",
      "weighted avg       0.91      0.91      0.91      7600\n",
      "\n",
      "\n",
      "Confusion Matrix : \n",
      "[[1710   62   68   60]\n",
      " [  15 1858   14   13]\n",
      " [  62   22 1652  164]\n",
      " [  66   18  134 1682]]\n",
      "--------------------------------------------------------------------------------\n",
      "\n",
      "Experimental configuration: {'experiment_name': '2Bi-LSTM', 'rnn_type': 'lstm', 'bidirectional': True, 'rnn_layers': 2}\n",
      "\n",
      "Model:\n",
      "Model(\n",
      "  (embedding_layer): Embedding(20437, 100, padding_idx=0)\n",
      "  (rnn): LSTM(100, 64, num_layers=2, batch_first=True, bidirectional=True)\n",
      "  (linear): Linear(in_features=128, out_features=4, bias=True)\n",
      ")\n",
      "Total parameters:  2228536\n",
      "\n",
      "\n",
      "\n",
      "Epoch: 1\n"
     ]
    },
    {
     "name": "stderr",
     "output_type": "stream",
     "text": [
      "100%|██████████| 118/118 [00:06<00:00, 18.96it/s]\n"
     ]
    },
    {
     "name": "stdout",
     "output_type": "stream",
     "text": [
      "Train Loss : 0.980\n",
      "Epoch: 2\n"
     ]
    },
    {
     "name": "stderr",
     "output_type": "stream",
     "text": [
      "100%|██████████| 118/118 [00:07<00:00, 16.81it/s]\n"
     ]
    },
    {
     "name": "stdout",
     "output_type": "stream",
     "text": [
      "Train Loss : 0.854\n",
      "Epoch: 3\n"
     ]
    },
    {
     "name": "stderr",
     "output_type": "stream",
     "text": [
      "100%|██████████| 118/118 [00:06<00:00, 18.64it/s]\n"
     ]
    },
    {
     "name": "stdout",
     "output_type": "stream",
     "text": [
      "Train Loss : 0.842\n",
      "Epoch: 4\n"
     ]
    },
    {
     "name": "stderr",
     "output_type": "stream",
     "text": [
      "100%|██████████| 118/118 [00:06<00:00, 16.91it/s]\n"
     ]
    },
    {
     "name": "stdout",
     "output_type": "stream",
     "text": [
      "Train Loss : 0.833\n",
      "Epoch: 5\n"
     ]
    },
    {
     "name": "stderr",
     "output_type": "stream",
     "text": [
      "100%|██████████| 118/118 [00:06<00:00, 18.97it/s]\n"
     ]
    },
    {
     "name": "stdout",
     "output_type": "stream",
     "text": [
      "Train Loss : 0.827\n",
      "Epoch: 6\n"
     ]
    },
    {
     "name": "stderr",
     "output_type": "stream",
     "text": [
      "100%|██████████| 118/118 [00:07<00:00, 16.60it/s]\n"
     ]
    },
    {
     "name": "stdout",
     "output_type": "stream",
     "text": [
      "Train Loss : 0.822\n",
      "Epoch: 7\n"
     ]
    },
    {
     "name": "stderr",
     "output_type": "stream",
     "text": [
      "100%|██████████| 118/118 [00:06<00:00, 18.63it/s]\n"
     ]
    },
    {
     "name": "stdout",
     "output_type": "stream",
     "text": [
      "Train Loss : 0.817\n",
      "Epoch: 8\n"
     ]
    },
    {
     "name": "stderr",
     "output_type": "stream",
     "text": [
      "100%|██████████| 118/118 [00:06<00:00, 16.91it/s]\n"
     ]
    },
    {
     "name": "stdout",
     "output_type": "stream",
     "text": [
      "Train Loss : 0.813\n",
      "Epoch: 9\n"
     ]
    },
    {
     "name": "stderr",
     "output_type": "stream",
     "text": [
      "100%|██████████| 118/118 [00:06<00:00, 18.39it/s]\n"
     ]
    },
    {
     "name": "stdout",
     "output_type": "stream",
     "text": [
      "Train Loss : 0.811\n",
      "Epoch: 10\n"
     ]
    },
    {
     "name": "stderr",
     "output_type": "stream",
     "text": [
      "100%|██████████| 118/118 [00:06<00:00, 17.37it/s]\n"
     ]
    },
    {
     "name": "stdout",
     "output_type": "stream",
     "text": [
      "Train Loss : 0.808\n",
      "Epoch: 11\n"
     ]
    },
    {
     "name": "stderr",
     "output_type": "stream",
     "text": [
      "100%|██████████| 118/118 [00:07<00:00, 16.41it/s]\n"
     ]
    },
    {
     "name": "stdout",
     "output_type": "stream",
     "text": [
      "Train Loss : 0.807\n",
      "Epoch: 12\n"
     ]
    },
    {
     "name": "stderr",
     "output_type": "stream",
     "text": [
      "100%|██████████| 118/118 [00:06<00:00, 18.82it/s]\n"
     ]
    },
    {
     "name": "stdout",
     "output_type": "stream",
     "text": [
      "Train Loss : 0.806\n",
      "Epoch: 13\n"
     ]
    },
    {
     "name": "stderr",
     "output_type": "stream",
     "text": [
      "100%|██████████| 118/118 [00:07<00:00, 16.50it/s]\n"
     ]
    },
    {
     "name": "stdout",
     "output_type": "stream",
     "text": [
      "Train Loss : 0.804\n",
      "Epoch: 14\n"
     ]
    },
    {
     "name": "stderr",
     "output_type": "stream",
     "text": [
      "100%|██████████| 118/118 [00:06<00:00, 18.46it/s]\n"
     ]
    },
    {
     "name": "stdout",
     "output_type": "stream",
     "text": [
      "Train Loss : 0.803\n",
      "Epoch: 15\n"
     ]
    },
    {
     "name": "stderr",
     "output_type": "stream",
     "text": [
      "100%|██████████| 118/118 [00:07<00:00, 16.54it/s]\n"
     ]
    },
    {
     "name": "stdout",
     "output_type": "stream",
     "text": [
      "Train Loss : 0.801\n",
      "Average epoch duration: 6.71 seconds.\n",
      "\n",
      "Test Accuracy : 0.907\n",
      "\n",
      "Classification Report : \n",
      "              precision    recall  f1-score   support\n",
      "\n",
      "       World       0.93      0.90      0.91      1900\n",
      "      Sports       0.96      0.97      0.96      1900\n",
      "    Business       0.88      0.86      0.87      1900\n",
      "    Sci/Tech       0.86      0.90      0.88      1900\n",
      "\n",
      "    accuracy                           0.91      7600\n",
      "   macro avg       0.91      0.91      0.91      7600\n",
      "weighted avg       0.91      0.91      0.91      7600\n",
      "\n",
      "\n",
      "Confusion Matrix : \n",
      "[[1701   57   75   67]\n",
      " [  19 1840   16   25]\n",
      " [  66   15 1640  179]\n",
      " [  45   10  130 1715]]\n",
      "--------------------------------------------------------------------------------\n",
      "\n",
      "+------------+-------------+-------------+------------+-------------+-------------+-------------+\n",
      "|            |        1RNN |     1Bi-RNN |    2Bi-RNN |       1LSTM |    1Bi-LSTM |    2Bi-LSTM |\n",
      "+============+=============+=============+============+=============+=============+=============+\n",
      "| Accuracy   | 0.884605    | 0.861579    | 0.871711   | 0.907895    | 0.908158    | 0.907368    |\n",
      "+------------+-------------+-------------+------------+-------------+-------------+-------------+\n",
      "| Parameters | 2.05458e+06 | 2.06546e+06 | 2.0903e+06 | 2.08646e+06 | 2.12921e+06 | 2.22854e+06 |\n",
      "+------------+-------------+-------------+------------+-------------+-------------+-------------+\n",
      "| Time cost  | 4.41377     | 4.78526     | 5.15109    | 5.07838     | 5.77404     | 6.71245     |\n",
      "+------------+-------------+-------------+------------+-------------+-------------+-------------+\n"
     ]
    }
   ],
   "source": [
    "MAX_WORDS = 25 # Setting MAX_WORDS back to 25 for Γ4.\n",
    "train_dataset, test_dataset, train_loader, test_loader, vocab = preprocess_data(MAX_WORDS, vocab)\n",
    "results = run_experiments(experimental_configs, pretrained_embeddings=embeddings_matrix, freeze_embeddings=False)\n",
    "print_eval_table(results)"
   ]
  },
  {
   "cell_type": "markdown",
   "metadata": {
    "id": "tC3czIGwW-7Z"
   },
   "source": [
    "We observe that all models perform better when using pre-trained embeddings vs. random embedding initialization. The best model with pre-trained embeddings is 1Bi-LSTM with accuracy: 0.908158. The best model with random embeddings initialization (task 1) was 2Bi-LSTM with accuracy: 0.889868. That is, the usage of pre-trained embeddings lead to singificant improvements. The complexity of the models is similar to that of the models in first task, since we just changed the way we initialize the weights of the embeddings, which are still parameters to be optimized during training. The number of parameters in the models with pre-trained embeddings is slightly smaller that in the models of task 1 only due to the slightly smaller vocabulary size, since not all words of our original vocabualry had a cooresponding GloVe embedding."
   ]
  },
  {
   "cell_type": "markdown",
   "metadata": {
    "id": "Z10-ZcAH5yUi"
   },
   "source": [
    "### 5."
   ]
  },
  {
   "cell_type": "markdown",
   "metadata": {
    "id": "pbYkrc5yKP6-"
   },
   "source": [
    "In this task, the pre-trained embeddings should be modified during model training (freeze embeddings). To achieve this, we modified the code so that gradient calculation is not required for the embedding layer, as follows:\n",
    "\n",
    "self.embedding_layer.weight.requires_grad = not freeze_embeddings\n",
    "\n",
    "i.e. when we want to freeze the embeddings this translates to:\n",
    "\n",
    "self.embedding_layer.weight.requires_grad = False\n",
    "\n",
    "During the creation of the optimizer, this layer will be ingored because its requires_grad variable is False, and the layer will not be optimized during training:\n",
    "\n",
    "optimizer = torch.optim.Adam([param for param in classifier.parameters() if param.requires_grad == True],lr=LEARNING_RATE)\n"
   ]
  },
  {
   "cell_type": "code",
   "execution_count": null,
   "metadata": {
    "colab": {
     "base_uri": "https://localhost:8080/"
    },
    "id": "6qrL7yigFYXO",
    "outputId": "92eb4c3d-1354-4604-dfa1-a9d3ebe2d1f5"
   },
   "outputs": [
    {
     "name": "stdout",
     "output_type": "stream",
     "text": [
      "Experimental configuration: {'experiment_name': '1RNN', 'rnn_type': 'rnn', 'bidirectional': False, 'rnn_layers': 1}\n",
      "\n",
      "Model:\n",
      "Model(\n",
      "  (embedding_layer): Embedding(20437, 100, padding_idx=0)\n",
      "  (rnn): RNN(100, 64, batch_first=True)\n",
      "  (linear): Linear(in_features=64, out_features=4, bias=True)\n",
      ")\n",
      "Total parameters:  10884\n",
      "\n",
      "\n",
      "\n",
      "Epoch: 1\n"
     ]
    },
    {
     "name": "stderr",
     "output_type": "stream",
     "text": [
      "100%|██████████| 118/118 [00:04<00:00, 27.48it/s]\n"
     ]
    },
    {
     "name": "stdout",
     "output_type": "stream",
     "text": [
      "Train Loss : 1.063\n",
      "Epoch: 2\n"
     ]
    },
    {
     "name": "stderr",
     "output_type": "stream",
     "text": [
      "100%|██████████| 118/118 [00:05<00:00, 23.00it/s]\n"
     ]
    },
    {
     "name": "stdout",
     "output_type": "stream",
     "text": [
      "Train Loss : 0.921\n",
      "Epoch: 3\n"
     ]
    },
    {
     "name": "stderr",
     "output_type": "stream",
     "text": [
      "100%|██████████| 118/118 [00:03<00:00, 29.59it/s]\n"
     ]
    },
    {
     "name": "stdout",
     "output_type": "stream",
     "text": [
      "Train Loss : 0.903\n",
      "Epoch: 4\n"
     ]
    },
    {
     "name": "stderr",
     "output_type": "stream",
     "text": [
      "100%|██████████| 118/118 [00:04<00:00, 28.25it/s]\n"
     ]
    },
    {
     "name": "stdout",
     "output_type": "stream",
     "text": [
      "Train Loss : 0.889\n",
      "Epoch: 5\n"
     ]
    },
    {
     "name": "stderr",
     "output_type": "stream",
     "text": [
      "100%|██████████| 118/118 [00:05<00:00, 23.50it/s]\n"
     ]
    },
    {
     "name": "stdout",
     "output_type": "stream",
     "text": [
      "Train Loss : 0.888\n",
      "Epoch: 6\n"
     ]
    },
    {
     "name": "stderr",
     "output_type": "stream",
     "text": [
      "100%|██████████| 118/118 [00:04<00:00, 28.80it/s]\n"
     ]
    },
    {
     "name": "stdout",
     "output_type": "stream",
     "text": [
      "Train Loss : 0.887\n",
      "Epoch: 7\n"
     ]
    },
    {
     "name": "stderr",
     "output_type": "stream",
     "text": [
      "100%|██████████| 118/118 [00:04<00:00, 27.76it/s]\n"
     ]
    },
    {
     "name": "stdout",
     "output_type": "stream",
     "text": [
      "Train Loss : 0.881\n",
      "Epoch: 8\n"
     ]
    },
    {
     "name": "stderr",
     "output_type": "stream",
     "text": [
      "100%|██████████| 118/118 [00:04<00:00, 24.13it/s]\n"
     ]
    },
    {
     "name": "stdout",
     "output_type": "stream",
     "text": [
      "Train Loss : 0.879\n",
      "Epoch: 9\n"
     ]
    },
    {
     "name": "stderr",
     "output_type": "stream",
     "text": [
      "100%|██████████| 118/118 [00:04<00:00, 28.60it/s]\n"
     ]
    },
    {
     "name": "stdout",
     "output_type": "stream",
     "text": [
      "Train Loss : 0.885\n",
      "Epoch: 10\n"
     ]
    },
    {
     "name": "stderr",
     "output_type": "stream",
     "text": [
      "100%|██████████| 118/118 [00:04<00:00, 25.11it/s]\n"
     ]
    },
    {
     "name": "stdout",
     "output_type": "stream",
     "text": [
      "Train Loss : 0.887\n",
      "Epoch: 11\n"
     ]
    },
    {
     "name": "stderr",
     "output_type": "stream",
     "text": [
      "100%|██████████| 118/118 [00:04<00:00, 26.51it/s]\n"
     ]
    },
    {
     "name": "stdout",
     "output_type": "stream",
     "text": [
      "Train Loss : 0.876\n",
      "Epoch: 12\n"
     ]
    },
    {
     "name": "stderr",
     "output_type": "stream",
     "text": [
      "100%|██████████| 118/118 [00:04<00:00, 28.26it/s]\n"
     ]
    },
    {
     "name": "stdout",
     "output_type": "stream",
     "text": [
      "Train Loss : 0.876\n",
      "Epoch: 13\n"
     ]
    },
    {
     "name": "stderr",
     "output_type": "stream",
     "text": [
      "100%|██████████| 118/118 [00:05<00:00, 22.17it/s]\n"
     ]
    },
    {
     "name": "stdout",
     "output_type": "stream",
     "text": [
      "Train Loss : 0.874\n",
      "Epoch: 14\n"
     ]
    },
    {
     "name": "stderr",
     "output_type": "stream",
     "text": [
      "100%|██████████| 118/118 [00:04<00:00, 28.56it/s]\n"
     ]
    },
    {
     "name": "stdout",
     "output_type": "stream",
     "text": [
      "Train Loss : 0.925\n",
      "Epoch: 15\n"
     ]
    },
    {
     "name": "stderr",
     "output_type": "stream",
     "text": [
      "100%|██████████| 118/118 [00:04<00:00, 28.36it/s]\n"
     ]
    },
    {
     "name": "stdout",
     "output_type": "stream",
     "text": [
      "Train Loss : 0.883\n",
      "Average epoch duration: 4.47 seconds.\n",
      "\n",
      "Test Accuracy : 0.854\n",
      "\n",
      "Classification Report : \n",
      "              precision    recall  f1-score   support\n",
      "\n",
      "       World       0.86      0.88      0.87      1900\n",
      "      Sports       0.92      0.95      0.94      1900\n",
      "    Business       0.77      0.86      0.81      1900\n",
      "    Sci/Tech       0.88      0.73      0.80      1900\n",
      "\n",
      "    accuracy                           0.85      7600\n",
      "   macro avg       0.86      0.85      0.85      7600\n",
      "weighted avg       0.86      0.85      0.85      7600\n",
      "\n",
      "\n",
      "Confusion Matrix : \n",
      "[[1671   78  111   40]\n",
      " [  34 1813   31   22]\n",
      " [ 109   34 1626  131]\n",
      " [ 123   45  351 1381]]\n",
      "--------------------------------------------------------------------------------\n",
      "\n",
      "Experimental configuration: {'experiment_name': '1Bi-RNN', 'rnn_type': 'rnn', 'bidirectional': True, 'rnn_layers': 1}\n",
      "\n",
      "Model:\n",
      "Model(\n",
      "  (embedding_layer): Embedding(20437, 100, padding_idx=0)\n",
      "  (rnn): RNN(100, 64, batch_first=True, bidirectional=True)\n",
      "  (linear): Linear(in_features=128, out_features=4, bias=True)\n",
      ")\n",
      "Total parameters:  21764\n",
      "\n",
      "\n",
      "\n",
      "Epoch: 1\n"
     ]
    },
    {
     "name": "stderr",
     "output_type": "stream",
     "text": [
      "100%|██████████| 118/118 [00:05<00:00, 22.15it/s]\n"
     ]
    },
    {
     "name": "stdout",
     "output_type": "stream",
     "text": [
      "Train Loss : 1.072\n",
      "Epoch: 2\n"
     ]
    },
    {
     "name": "stderr",
     "output_type": "stream",
     "text": [
      "100%|██████████| 118/118 [00:04<00:00, 27.19it/s]\n"
     ]
    },
    {
     "name": "stdout",
     "output_type": "stream",
     "text": [
      "Train Loss : 0.918\n",
      "Epoch: 3\n"
     ]
    },
    {
     "name": "stderr",
     "output_type": "stream",
     "text": [
      "100%|██████████| 118/118 [00:04<00:00, 23.88it/s]\n"
     ]
    },
    {
     "name": "stdout",
     "output_type": "stream",
     "text": [
      "Train Loss : 0.896\n",
      "Epoch: 4\n"
     ]
    },
    {
     "name": "stderr",
     "output_type": "stream",
     "text": [
      "100%|██████████| 118/118 [00:04<00:00, 25.46it/s]\n"
     ]
    },
    {
     "name": "stdout",
     "output_type": "stream",
     "text": [
      "Train Loss : 0.890\n",
      "Epoch: 5\n"
     ]
    },
    {
     "name": "stderr",
     "output_type": "stream",
     "text": [
      "100%|██████████| 118/118 [00:04<00:00, 28.28it/s]\n"
     ]
    },
    {
     "name": "stdout",
     "output_type": "stream",
     "text": [
      "Train Loss : 0.882\n",
      "Epoch: 6\n"
     ]
    },
    {
     "name": "stderr",
     "output_type": "stream",
     "text": [
      "100%|██████████| 118/118 [00:05<00:00, 22.39it/s]\n"
     ]
    },
    {
     "name": "stdout",
     "output_type": "stream",
     "text": [
      "Train Loss : 0.889\n",
      "Epoch: 7\n"
     ]
    },
    {
     "name": "stderr",
     "output_type": "stream",
     "text": [
      "100%|██████████| 118/118 [00:04<00:00, 28.32it/s]\n"
     ]
    },
    {
     "name": "stdout",
     "output_type": "stream",
     "text": [
      "Train Loss : 0.883\n",
      "Epoch: 8\n"
     ]
    },
    {
     "name": "stderr",
     "output_type": "stream",
     "text": [
      "100%|██████████| 118/118 [00:04<00:00, 28.46it/s]\n"
     ]
    },
    {
     "name": "stdout",
     "output_type": "stream",
     "text": [
      "Train Loss : 0.883\n",
      "Epoch: 9\n"
     ]
    },
    {
     "name": "stderr",
     "output_type": "stream",
     "text": [
      "100%|██████████| 118/118 [00:05<00:00, 20.91it/s]\n"
     ]
    },
    {
     "name": "stdout",
     "output_type": "stream",
     "text": [
      "Train Loss : 0.884\n",
      "Epoch: 10\n"
     ]
    },
    {
     "name": "stderr",
     "output_type": "stream",
     "text": [
      "100%|██████████| 118/118 [00:04<00:00, 26.76it/s]\n"
     ]
    },
    {
     "name": "stdout",
     "output_type": "stream",
     "text": [
      "Train Loss : 0.874\n",
      "Epoch: 11\n"
     ]
    },
    {
     "name": "stderr",
     "output_type": "stream",
     "text": [
      "100%|██████████| 118/118 [00:04<00:00, 23.76it/s]\n"
     ]
    },
    {
     "name": "stdout",
     "output_type": "stream",
     "text": [
      "Train Loss : 0.876\n",
      "Epoch: 12\n"
     ]
    },
    {
     "name": "stderr",
     "output_type": "stream",
     "text": [
      "100%|██████████| 118/118 [00:04<00:00, 26.24it/s]\n"
     ]
    },
    {
     "name": "stdout",
     "output_type": "stream",
     "text": [
      "Train Loss : 0.874\n",
      "Epoch: 13\n"
     ]
    },
    {
     "name": "stderr",
     "output_type": "stream",
     "text": [
      "100%|██████████| 118/118 [00:04<00:00, 25.37it/s]\n"
     ]
    },
    {
     "name": "stdout",
     "output_type": "stream",
     "text": [
      "Train Loss : 0.872\n",
      "Epoch: 14\n"
     ]
    },
    {
     "name": "stderr",
     "output_type": "stream",
     "text": [
      "100%|██████████| 118/118 [00:05<00:00, 20.66it/s]\n"
     ]
    },
    {
     "name": "stdout",
     "output_type": "stream",
     "text": [
      "Train Loss : 0.874\n",
      "Epoch: 15\n"
     ]
    },
    {
     "name": "stderr",
     "output_type": "stream",
     "text": [
      "100%|██████████| 118/118 [00:04<00:00, 27.63it/s]\n"
     ]
    },
    {
     "name": "stdout",
     "output_type": "stream",
     "text": [
      "Train Loss : 0.873\n",
      "Average epoch duration: 4.75 seconds.\n",
      "\n",
      "Test Accuracy : 0.868\n",
      "\n",
      "Classification Report : \n",
      "              precision    recall  f1-score   support\n",
      "\n",
      "       World       0.92      0.84      0.88      1900\n",
      "      Sports       0.92      0.95      0.94      1900\n",
      "    Business       0.82      0.80      0.81      1900\n",
      "    Sci/Tech       0.81      0.87      0.84      1900\n",
      "\n",
      "    accuracy                           0.87      7600\n",
      "   macro avg       0.87      0.87      0.87      7600\n",
      "weighted avg       0.87      0.87      0.87      7600\n",
      "\n",
      "\n",
      "Confusion Matrix : \n",
      "[[1601   81  144   74]\n",
      " [  23 1813   41   23]\n",
      " [  50   29 1528  293]\n",
      " [  65   42  140 1653]]\n",
      "--------------------------------------------------------------------------------\n",
      "\n",
      "Experimental configuration: {'experiment_name': '2Bi-RNN', 'rnn_type': 'rnn', 'bidirectional': True, 'rnn_layers': 2}\n",
      "\n",
      "Model:\n",
      "Model(\n",
      "  (embedding_layer): Embedding(20437, 100, padding_idx=0)\n",
      "  (rnn): RNN(100, 64, num_layers=2, batch_first=True, bidirectional=True)\n",
      "  (linear): Linear(in_features=128, out_features=4, bias=True)\n",
      ")\n",
      "Total parameters:  46596\n",
      "\n",
      "\n",
      "\n",
      "Epoch: 1\n"
     ]
    },
    {
     "name": "stderr",
     "output_type": "stream",
     "text": [
      "100%|██████████| 118/118 [00:05<00:00, 23.11it/s]\n"
     ]
    },
    {
     "name": "stdout",
     "output_type": "stream",
     "text": [
      "Train Loss : 1.080\n",
      "Epoch: 2\n"
     ]
    },
    {
     "name": "stderr",
     "output_type": "stream",
     "text": [
      "100%|██████████| 118/118 [00:05<00:00, 22.61it/s]\n"
     ]
    },
    {
     "name": "stdout",
     "output_type": "stream",
     "text": [
      "Train Loss : 0.905\n",
      "Epoch: 3\n"
     ]
    },
    {
     "name": "stderr",
     "output_type": "stream",
     "text": [
      "100%|██████████| 118/118 [00:04<00:00, 25.60it/s]\n"
     ]
    },
    {
     "name": "stdout",
     "output_type": "stream",
     "text": [
      "Train Loss : 0.889\n",
      "Epoch: 4\n"
     ]
    },
    {
     "name": "stderr",
     "output_type": "stream",
     "text": [
      "100%|██████████| 118/118 [00:05<00:00, 22.27it/s]\n"
     ]
    },
    {
     "name": "stdout",
     "output_type": "stream",
     "text": [
      "Train Loss : 0.901\n",
      "Epoch: 5\n"
     ]
    },
    {
     "name": "stderr",
     "output_type": "stream",
     "text": [
      "100%|██████████| 118/118 [00:04<00:00, 26.00it/s]\n"
     ]
    },
    {
     "name": "stdout",
     "output_type": "stream",
     "text": [
      "Train Loss : 0.893\n",
      "Epoch: 6\n"
     ]
    },
    {
     "name": "stderr",
     "output_type": "stream",
     "text": [
      "100%|██████████| 118/118 [00:04<00:00, 24.25it/s]\n"
     ]
    },
    {
     "name": "stdout",
     "output_type": "stream",
     "text": [
      "Train Loss : 0.887\n",
      "Epoch: 7\n"
     ]
    },
    {
     "name": "stderr",
     "output_type": "stream",
     "text": [
      "100%|██████████| 118/118 [00:04<00:00, 23.82it/s]\n"
     ]
    },
    {
     "name": "stdout",
     "output_type": "stream",
     "text": [
      "Train Loss : 0.882\n",
      "Epoch: 8\n"
     ]
    },
    {
     "name": "stderr",
     "output_type": "stream",
     "text": [
      "100%|██████████| 118/118 [00:04<00:00, 26.14it/s]\n"
     ]
    },
    {
     "name": "stdout",
     "output_type": "stream",
     "text": [
      "Train Loss : 0.881\n",
      "Epoch: 9\n"
     ]
    },
    {
     "name": "stderr",
     "output_type": "stream",
     "text": [
      "100%|██████████| 118/118 [00:05<00:00, 22.20it/s]\n"
     ]
    },
    {
     "name": "stdout",
     "output_type": "stream",
     "text": [
      "Train Loss : 0.879\n",
      "Epoch: 10\n"
     ]
    },
    {
     "name": "stderr",
     "output_type": "stream",
     "text": [
      "100%|██████████| 118/118 [00:04<00:00, 25.99it/s]\n"
     ]
    },
    {
     "name": "stdout",
     "output_type": "stream",
     "text": [
      "Train Loss : 0.876\n",
      "Epoch: 11\n"
     ]
    },
    {
     "name": "stderr",
     "output_type": "stream",
     "text": [
      "100%|██████████| 118/118 [00:04<00:00, 27.00it/s]\n"
     ]
    },
    {
     "name": "stdout",
     "output_type": "stream",
     "text": [
      "Train Loss : 0.876\n",
      "Epoch: 12\n"
     ]
    },
    {
     "name": "stderr",
     "output_type": "stream",
     "text": [
      "100%|██████████| 118/118 [00:05<00:00, 22.14it/s]\n"
     ]
    },
    {
     "name": "stdout",
     "output_type": "stream",
     "text": [
      "Train Loss : 0.883\n",
      "Epoch: 13\n"
     ]
    },
    {
     "name": "stderr",
     "output_type": "stream",
     "text": [
      "100%|██████████| 118/118 [00:04<00:00, 26.24it/s]\n"
     ]
    },
    {
     "name": "stdout",
     "output_type": "stream",
     "text": [
      "Train Loss : 0.879\n",
      "Epoch: 14\n"
     ]
    },
    {
     "name": "stderr",
     "output_type": "stream",
     "text": [
      "100%|██████████| 118/118 [00:05<00:00, 21.72it/s]\n"
     ]
    },
    {
     "name": "stdout",
     "output_type": "stream",
     "text": [
      "Train Loss : 0.886\n",
      "Epoch: 15\n"
     ]
    },
    {
     "name": "stderr",
     "output_type": "stream",
     "text": [
      "100%|██████████| 118/118 [00:04<00:00, 26.15it/s]\n"
     ]
    },
    {
     "name": "stdout",
     "output_type": "stream",
     "text": [
      "Train Loss : 0.884\n",
      "Average epoch duration: 4.88 seconds.\n",
      "\n",
      "Test Accuracy : 0.862\n",
      "\n",
      "Classification Report : \n",
      "              precision    recall  f1-score   support\n",
      "\n",
      "       World       0.87      0.86      0.87      1900\n",
      "      Sports       0.93      0.94      0.94      1900\n",
      "    Business       0.82      0.82      0.82      1900\n",
      "    Sci/Tech       0.83      0.83      0.83      1900\n",
      "\n",
      "    accuracy                           0.86      7600\n",
      "   macro avg       0.86      0.86      0.86      7600\n",
      "weighted avg       0.86      0.86      0.86      7600\n",
      "\n",
      "\n",
      "Confusion Matrix : \n",
      "[[1631   69  112   88]\n",
      " [  59 1787   24   30]\n",
      " [  99   30 1555  216]\n",
      " [  81   28  214 1577]]\n",
      "--------------------------------------------------------------------------------\n",
      "\n",
      "Experimental configuration: {'experiment_name': '1LSTM', 'rnn_type': 'lstm', 'bidirectional': False, 'rnn_layers': 1}\n",
      "\n",
      "Model:\n",
      "Model(\n",
      "  (embedding_layer): Embedding(20437, 100, padding_idx=0)\n",
      "  (rnn): LSTM(100, 64, batch_first=True)\n",
      "  (linear): Linear(in_features=64, out_features=4, bias=True)\n",
      ")\n",
      "Total parameters:  42756\n",
      "\n",
      "\n",
      "\n",
      "Epoch: 1\n"
     ]
    },
    {
     "name": "stderr",
     "output_type": "stream",
     "text": [
      "100%|██████████| 118/118 [00:04<00:00, 27.26it/s]\n"
     ]
    },
    {
     "name": "stdout",
     "output_type": "stream",
     "text": [
      "Train Loss : 1.022\n",
      "Epoch: 2\n"
     ]
    },
    {
     "name": "stderr",
     "output_type": "stream",
     "text": [
      "100%|██████████| 118/118 [00:05<00:00, 21.99it/s]\n"
     ]
    },
    {
     "name": "stdout",
     "output_type": "stream",
     "text": [
      "Train Loss : 0.874\n",
      "Epoch: 3\n"
     ]
    },
    {
     "name": "stderr",
     "output_type": "stream",
     "text": [
      "100%|██████████| 118/118 [00:04<00:00, 27.06it/s]\n"
     ]
    },
    {
     "name": "stdout",
     "output_type": "stream",
     "text": [
      "Train Loss : 0.865\n",
      "Epoch: 4\n"
     ]
    },
    {
     "name": "stderr",
     "output_type": "stream",
     "text": [
      "100%|██████████| 118/118 [00:05<00:00, 22.03it/s]\n"
     ]
    },
    {
     "name": "stdout",
     "output_type": "stream",
     "text": [
      "Train Loss : 0.860\n",
      "Epoch: 5\n"
     ]
    },
    {
     "name": "stderr",
     "output_type": "stream",
     "text": [
      "100%|██████████| 118/118 [00:04<00:00, 25.63it/s]\n"
     ]
    },
    {
     "name": "stdout",
     "output_type": "stream",
     "text": [
      "Train Loss : 0.855\n",
      "Epoch: 6\n"
     ]
    },
    {
     "name": "stderr",
     "output_type": "stream",
     "text": [
      "100%|██████████| 118/118 [00:04<00:00, 26.05it/s]\n"
     ]
    },
    {
     "name": "stdout",
     "output_type": "stream",
     "text": [
      "Train Loss : 0.851\n",
      "Epoch: 7\n"
     ]
    },
    {
     "name": "stderr",
     "output_type": "stream",
     "text": [
      "100%|██████████| 118/118 [00:05<00:00, 21.45it/s]\n"
     ]
    },
    {
     "name": "stdout",
     "output_type": "stream",
     "text": [
      "Train Loss : 0.849\n",
      "Epoch: 8\n"
     ]
    },
    {
     "name": "stderr",
     "output_type": "stream",
     "text": [
      "100%|██████████| 118/118 [00:04<00:00, 26.71it/s]\n"
     ]
    },
    {
     "name": "stdout",
     "output_type": "stream",
     "text": [
      "Train Loss : 0.846\n",
      "Epoch: 9\n"
     ]
    },
    {
     "name": "stderr",
     "output_type": "stream",
     "text": [
      "100%|██████████| 118/118 [00:05<00:00, 22.83it/s]\n"
     ]
    },
    {
     "name": "stdout",
     "output_type": "stream",
     "text": [
      "Train Loss : 0.844\n",
      "Epoch: 10\n"
     ]
    },
    {
     "name": "stderr",
     "output_type": "stream",
     "text": [
      "100%|██████████| 118/118 [00:04<00:00, 25.34it/s]\n"
     ]
    },
    {
     "name": "stdout",
     "output_type": "stream",
     "text": [
      "Train Loss : 0.843\n",
      "Epoch: 11\n"
     ]
    },
    {
     "name": "stderr",
     "output_type": "stream",
     "text": [
      "100%|██████████| 118/118 [00:04<00:00, 26.91it/s]\n"
     ]
    },
    {
     "name": "stdout",
     "output_type": "stream",
     "text": [
      "Train Loss : 0.840\n",
      "Epoch: 12\n"
     ]
    },
    {
     "name": "stderr",
     "output_type": "stream",
     "text": [
      "100%|██████████| 118/118 [00:05<00:00, 22.46it/s]\n"
     ]
    },
    {
     "name": "stdout",
     "output_type": "stream",
     "text": [
      "Train Loss : 0.839\n",
      "Epoch: 13\n"
     ]
    },
    {
     "name": "stderr",
     "output_type": "stream",
     "text": [
      "100%|██████████| 118/118 [00:04<00:00, 27.89it/s]\n"
     ]
    },
    {
     "name": "stdout",
     "output_type": "stream",
     "text": [
      "Train Loss : 0.838\n",
      "Epoch: 14\n"
     ]
    },
    {
     "name": "stderr",
     "output_type": "stream",
     "text": [
      "100%|██████████| 118/118 [00:04<00:00, 24.72it/s]\n"
     ]
    },
    {
     "name": "stdout",
     "output_type": "stream",
     "text": [
      "Train Loss : 0.837\n",
      "Epoch: 15\n"
     ]
    },
    {
     "name": "stderr",
     "output_type": "stream",
     "text": [
      "100%|██████████| 118/118 [00:05<00:00, 22.95it/s]\n"
     ]
    },
    {
     "name": "stdout",
     "output_type": "stream",
     "text": [
      "Train Loss : 0.834\n",
      "Average epoch duration: 4.81 seconds.\n",
      "\n",
      "Test Accuracy : 0.899\n",
      "\n",
      "Classification Report : \n",
      "              precision    recall  f1-score   support\n",
      "\n",
      "       World       0.94      0.87      0.90      1900\n",
      "      Sports       0.94      0.98      0.96      1900\n",
      "    Business       0.86      0.86      0.86      1900\n",
      "    Sci/Tech       0.86      0.89      0.88      1900\n",
      "\n",
      "    accuracy                           0.90      7600\n",
      "   macro avg       0.90      0.90      0.90      7600\n",
      "weighted avg       0.90      0.90      0.90      7600\n",
      "\n",
      "\n",
      "Confusion Matrix : \n",
      "[[1656   77   94   73]\n",
      " [  10 1853   24   13]\n",
      " [  60   22 1631  187]\n",
      " [  43   18  144 1695]]\n",
      "--------------------------------------------------------------------------------\n",
      "\n",
      "Experimental configuration: {'experiment_name': '1Bi-LSTM', 'rnn_type': 'lstm', 'bidirectional': True, 'rnn_layers': 1}\n",
      "\n",
      "Model:\n",
      "Model(\n",
      "  (embedding_layer): Embedding(20437, 100, padding_idx=0)\n",
      "  (rnn): LSTM(100, 64, batch_first=True, bidirectional=True)\n",
      "  (linear): Linear(in_features=128, out_features=4, bias=True)\n",
      ")\n",
      "Total parameters:  85508\n",
      "\n",
      "\n",
      "\n",
      "Epoch: 1\n"
     ]
    },
    {
     "name": "stderr",
     "output_type": "stream",
     "text": [
      "100%|██████████| 118/118 [00:04<00:00, 25.60it/s]\n"
     ]
    },
    {
     "name": "stdout",
     "output_type": "stream",
     "text": [
      "Train Loss : 1.030\n",
      "Epoch: 2\n"
     ]
    },
    {
     "name": "stderr",
     "output_type": "stream",
     "text": [
      "100%|██████████| 118/118 [00:05<00:00, 21.03it/s]\n"
     ]
    },
    {
     "name": "stdout",
     "output_type": "stream",
     "text": [
      "Train Loss : 0.873\n",
      "Epoch: 3\n"
     ]
    },
    {
     "name": "stderr",
     "output_type": "stream",
     "text": [
      "100%|██████████| 118/118 [00:04<00:00, 25.29it/s]\n"
     ]
    },
    {
     "name": "stdout",
     "output_type": "stream",
     "text": [
      "Train Loss : 0.863\n",
      "Epoch: 4\n"
     ]
    },
    {
     "name": "stderr",
     "output_type": "stream",
     "text": [
      "100%|██████████| 118/118 [00:05<00:00, 22.88it/s]\n"
     ]
    },
    {
     "name": "stdout",
     "output_type": "stream",
     "text": [
      "Train Loss : 0.858\n",
      "Epoch: 5\n"
     ]
    },
    {
     "name": "stderr",
     "output_type": "stream",
     "text": [
      "100%|██████████| 118/118 [00:05<00:00, 23.52it/s]\n"
     ]
    },
    {
     "name": "stdout",
     "output_type": "stream",
     "text": [
      "Train Loss : 0.853\n",
      "Epoch: 6\n"
     ]
    },
    {
     "name": "stderr",
     "output_type": "stream",
     "text": [
      "100%|██████████| 118/118 [00:04<00:00, 24.95it/s]\n"
     ]
    },
    {
     "name": "stdout",
     "output_type": "stream",
     "text": [
      "Train Loss : 0.851\n",
      "Epoch: 7\n"
     ]
    },
    {
     "name": "stderr",
     "output_type": "stream",
     "text": [
      "100%|██████████| 118/118 [00:05<00:00, 21.14it/s]\n"
     ]
    },
    {
     "name": "stdout",
     "output_type": "stream",
     "text": [
      "Train Loss : 0.848\n",
      "Epoch: 8\n"
     ]
    },
    {
     "name": "stderr",
     "output_type": "stream",
     "text": [
      "100%|██████████| 118/118 [00:04<00:00, 24.75it/s]\n"
     ]
    },
    {
     "name": "stdout",
     "output_type": "stream",
     "text": [
      "Train Loss : 0.845\n",
      "Epoch: 9\n"
     ]
    },
    {
     "name": "stderr",
     "output_type": "stream",
     "text": [
      "100%|██████████| 118/118 [00:05<00:00, 20.69it/s]\n"
     ]
    },
    {
     "name": "stdout",
     "output_type": "stream",
     "text": [
      "Train Loss : 0.843\n",
      "Epoch: 10\n"
     ]
    },
    {
     "name": "stderr",
     "output_type": "stream",
     "text": [
      "100%|██████████| 118/118 [00:04<00:00, 25.20it/s]\n"
     ]
    },
    {
     "name": "stdout",
     "output_type": "stream",
     "text": [
      "Train Loss : 0.841\n",
      "Epoch: 11\n"
     ]
    },
    {
     "name": "stderr",
     "output_type": "stream",
     "text": [
      "100%|██████████| 118/118 [00:04<00:00, 24.45it/s]\n"
     ]
    },
    {
     "name": "stdout",
     "output_type": "stream",
     "text": [
      "Train Loss : 0.839\n",
      "Epoch: 12\n"
     ]
    },
    {
     "name": "stderr",
     "output_type": "stream",
     "text": [
      "100%|██████████| 118/118 [00:05<00:00, 21.10it/s]\n"
     ]
    },
    {
     "name": "stdout",
     "output_type": "stream",
     "text": [
      "Train Loss : 0.837\n",
      "Epoch: 13\n"
     ]
    },
    {
     "name": "stderr",
     "output_type": "stream",
     "text": [
      "100%|██████████| 118/118 [00:04<00:00, 24.76it/s]\n"
     ]
    },
    {
     "name": "stdout",
     "output_type": "stream",
     "text": [
      "Train Loss : 0.835\n",
      "Epoch: 14\n"
     ]
    },
    {
     "name": "stderr",
     "output_type": "stream",
     "text": [
      "100%|██████████| 118/118 [00:05<00:00, 20.49it/s]\n"
     ]
    },
    {
     "name": "stdout",
     "output_type": "stream",
     "text": [
      "Train Loss : 0.834\n",
      "Epoch: 15\n"
     ]
    },
    {
     "name": "stderr",
     "output_type": "stream",
     "text": [
      "100%|██████████| 118/118 [00:04<00:00, 24.92it/s]\n"
     ]
    },
    {
     "name": "stdout",
     "output_type": "stream",
     "text": [
      "Train Loss : 0.831\n",
      "Average epoch duration: 5.09 seconds.\n",
      "\n",
      "Test Accuracy : 0.896\n",
      "\n",
      "Classification Report : \n",
      "              precision    recall  f1-score   support\n",
      "\n",
      "       World       0.93      0.88      0.90      1900\n",
      "      Sports       0.95      0.97      0.96      1900\n",
      "    Business       0.88      0.83      0.85      1900\n",
      "    Sci/Tech       0.83      0.91      0.87      1900\n",
      "\n",
      "    accuracy                           0.90      7600\n",
      "   macro avg       0.90      0.90      0.90      7600\n",
      "weighted avg       0.90      0.90      0.90      7600\n",
      "\n",
      "\n",
      "Confusion Matrix : \n",
      "[[1674   63   74   89]\n",
      " [  15 1836   24   25]\n",
      " [  69   15 1570  246]\n",
      " [  44   12  114 1730]]\n",
      "--------------------------------------------------------------------------------\n",
      "\n",
      "Experimental configuration: {'experiment_name': '2Bi-LSTM', 'rnn_type': 'lstm', 'bidirectional': True, 'rnn_layers': 2}\n",
      "\n",
      "Model:\n",
      "Model(\n",
      "  (embedding_layer): Embedding(20437, 100, padding_idx=0)\n",
      "  (rnn): LSTM(100, 64, num_layers=2, batch_first=True, bidirectional=True)\n",
      "  (linear): Linear(in_features=128, out_features=4, bias=True)\n",
      ")\n",
      "Total parameters:  184836\n",
      "\n",
      "\n",
      "\n",
      "Epoch: 1\n"
     ]
    },
    {
     "name": "stderr",
     "output_type": "stream",
     "text": [
      "100%|██████████| 118/118 [00:05<00:00, 20.92it/s]\n"
     ]
    },
    {
     "name": "stdout",
     "output_type": "stream",
     "text": [
      "Train Loss : 0.984\n",
      "Epoch: 2\n"
     ]
    },
    {
     "name": "stderr",
     "output_type": "stream",
     "text": [
      "100%|██████████| 118/118 [00:05<00:00, 23.01it/s]\n"
     ]
    },
    {
     "name": "stdout",
     "output_type": "stream",
     "text": [
      "Train Loss : 0.870\n",
      "Epoch: 3\n"
     ]
    },
    {
     "name": "stderr",
     "output_type": "stream",
     "text": [
      "100%|██████████| 118/118 [00:05<00:00, 23.06it/s]\n"
     ]
    },
    {
     "name": "stdout",
     "output_type": "stream",
     "text": [
      "Train Loss : 0.864\n",
      "Epoch: 4\n"
     ]
    },
    {
     "name": "stderr",
     "output_type": "stream",
     "text": [
      "100%|██████████| 118/118 [00:06<00:00, 19.64it/s]\n"
     ]
    },
    {
     "name": "stdout",
     "output_type": "stream",
     "text": [
      "Train Loss : 0.856\n",
      "Epoch: 5\n"
     ]
    },
    {
     "name": "stderr",
     "output_type": "stream",
     "text": [
      "100%|██████████| 118/118 [00:05<00:00, 23.20it/s]\n"
     ]
    },
    {
     "name": "stdout",
     "output_type": "stream",
     "text": [
      "Train Loss : 0.853\n",
      "Epoch: 6\n"
     ]
    },
    {
     "name": "stderr",
     "output_type": "stream",
     "text": [
      "100%|██████████| 118/118 [00:06<00:00, 18.95it/s]\n"
     ]
    },
    {
     "name": "stdout",
     "output_type": "stream",
     "text": [
      "Train Loss : 0.851\n",
      "Epoch: 7\n"
     ]
    },
    {
     "name": "stderr",
     "output_type": "stream",
     "text": [
      "100%|██████████| 118/118 [00:05<00:00, 22.64it/s]\n"
     ]
    },
    {
     "name": "stdout",
     "output_type": "stream",
     "text": [
      "Train Loss : 0.848\n",
      "Epoch: 8\n"
     ]
    },
    {
     "name": "stderr",
     "output_type": "stream",
     "text": [
      "100%|██████████| 118/118 [00:06<00:00, 19.55it/s]\n"
     ]
    },
    {
     "name": "stdout",
     "output_type": "stream",
     "text": [
      "Train Loss : 0.846\n",
      "Epoch: 9\n"
     ]
    },
    {
     "name": "stderr",
     "output_type": "stream",
     "text": [
      "100%|██████████| 118/118 [00:04<00:00, 23.76it/s]\n"
     ]
    },
    {
     "name": "stdout",
     "output_type": "stream",
     "text": [
      "Train Loss : 0.844\n",
      "Epoch: 10\n"
     ]
    },
    {
     "name": "stderr",
     "output_type": "stream",
     "text": [
      "100%|██████████| 118/118 [00:05<00:00, 20.08it/s]\n"
     ]
    },
    {
     "name": "stdout",
     "output_type": "stream",
     "text": [
      "Train Loss : 0.840\n",
      "Epoch: 11\n"
     ]
    },
    {
     "name": "stderr",
     "output_type": "stream",
     "text": [
      "100%|██████████| 118/118 [00:05<00:00, 22.63it/s]\n"
     ]
    },
    {
     "name": "stdout",
     "output_type": "stream",
     "text": [
      "Train Loss : 0.839\n",
      "Epoch: 12\n"
     ]
    },
    {
     "name": "stderr",
     "output_type": "stream",
     "text": [
      "100%|██████████| 118/118 [00:05<00:00, 23.21it/s]\n"
     ]
    },
    {
     "name": "stdout",
     "output_type": "stream",
     "text": [
      "Train Loss : 0.838\n",
      "Epoch: 13\n"
     ]
    },
    {
     "name": "stderr",
     "output_type": "stream",
     "text": [
      "100%|██████████| 118/118 [00:05<00:00, 20.74it/s]\n"
     ]
    },
    {
     "name": "stdout",
     "output_type": "stream",
     "text": [
      "Train Loss : 0.836\n",
      "Epoch: 14\n"
     ]
    },
    {
     "name": "stderr",
     "output_type": "stream",
     "text": [
      "100%|██████████| 118/118 [00:05<00:00, 22.78it/s]\n"
     ]
    },
    {
     "name": "stdout",
     "output_type": "stream",
     "text": [
      "Train Loss : 0.834\n",
      "Epoch: 15\n"
     ]
    },
    {
     "name": "stderr",
     "output_type": "stream",
     "text": [
      "100%|██████████| 118/118 [00:05<00:00, 19.80it/s]\n"
     ]
    },
    {
     "name": "stdout",
     "output_type": "stream",
     "text": [
      "Train Loss : 0.832\n",
      "Average epoch duration: 5.50 seconds.\n",
      "\n",
      "Test Accuracy : 0.900\n",
      "\n",
      "Classification Report : \n",
      "              precision    recall  f1-score   support\n",
      "\n",
      "       World       0.93      0.89      0.91      1900\n",
      "      Sports       0.94      0.98      0.96      1900\n",
      "    Business       0.87      0.84      0.86      1900\n",
      "    Sci/Tech       0.86      0.89      0.87      1900\n",
      "\n",
      "    accuracy                           0.90      7600\n",
      "   macro avg       0.90      0.90      0.90      7600\n",
      "weighted avg       0.90      0.90      0.90      7600\n",
      "\n",
      "\n",
      "Confusion Matrix : \n",
      "[[1687   64   87   62]\n",
      " [  15 1853   18   14]\n",
      " [  62   27 1603  208]\n",
      " [  54   17  133 1696]]\n",
      "--------------------------------------------------------------------------------\n",
      "\n",
      "+------------+--------------+--------------+--------------+--------------+--------------+---------------+\n",
      "|            |         1RNN |      1Bi-RNN |      2Bi-RNN |        1LSTM |     1Bi-LSTM |      2Bi-LSTM |\n",
      "+============+==============+==============+==============+==============+==============+===============+\n",
      "| Accuracy   |     0.854079 |     0.867763 |     0.861842 |     0.899342 |     0.896053 |      0.899868 |\n",
      "+------------+--------------+--------------+--------------+--------------+--------------+---------------+\n",
      "| Parameters | 10884        | 21764        | 46596        | 42756        | 85508        | 184836        |\n",
      "+------------+--------------+--------------+--------------+--------------+--------------+---------------+\n",
      "| Time cost  |     4.47029  |     4.75267  |     4.88219  |     4.81324  |     5.08863  |      5.50467  |\n",
      "+------------+--------------+--------------+--------------+--------------+--------------+---------------+\n"
     ]
    }
   ],
   "source": [
    "MAX_WORDS = 25\n",
    "train_dataset, test_dataset, train_loader, test_loader, vocab = preprocess_data(MAX_WORDS, vocab)\n",
    "results = run_experiments(experimental_configs, pretrained_embeddings=embeddings_matrix, freeze_embeddings=True)\n",
    "print_eval_table(results)"
   ]
  },
  {
   "cell_type": "markdown",
   "metadata": {
    "id": "lqEoNUg0ZmAZ"
   },
   "source": [
    "With freezed pre-trained embeddings, the models perform slightly worse than with non freezed pre-trained embeddings. Despite this, we notice that the complexity of the models is much smaller, since the parameters of the models are now only the RNN/LSTM parameters and the linear layer parameters. In the previous models, the majority of the parameters originated from the embedding layer, which is now freezed during training."
   ]
  },
  {
   "cell_type": "markdown",
   "metadata": {
    "id": "4DiwvV0Vh_g5"
   },
   "source": [
    "### 6."
   ]
  },
  {
   "cell_type": "markdown",
   "metadata": {
    "id": "ltc4tpHoHFby"
   },
   "source": [
    "To complete the last task of this assignment, we modify the preprocessing process to respect the new dataset format, which contains a \"review\" column for the text to classify, and a \"sentiment\" column for the label (\"positive\" or \"negative\"). "
   ]
  },
  {
   "cell_type": "code",
   "execution_count": null,
   "metadata": {
    "id": "VJTfMHziMkCj"
   },
   "outputs": [],
   "source": [
    "import pandas as pd\n",
    "data = pd.read_csv('IMDB Dataset.csv')"
   ]
  },
  {
   "cell_type": "code",
   "execution_count": null,
   "metadata": {
    "id": "UwqD5_oAJypd"
   },
   "outputs": [],
   "source": [
    "import math\n",
    "import random\n",
    "\n",
    "def preprocess_imdb_data(max_words):\n",
    "\n",
    "    # All texts are truncated and padded to max_words tokens\n",
    "    def collate_batch(batch):\n",
    "        Y, X = list(zip(*batch))\n",
    "        Y = [0 if label == \"negative\" else 1 for label in Y]\n",
    "        Y = torch.tensor(Y, dtype=torch.float)\n",
    "        X = [vocab(tokenizer(text)) for text in X]\n",
    "        # Bringing all samples to max_words length. Shorter texts are padded with <PAD> sequences, longer texts are truncated.\n",
    "        X = [tokens+([vocab['<PAD>']]* (max_words-len(tokens))) if len(tokens)<max_words else tokens[:max_words] for tokens in X]\n",
    "        return torch.tensor(X, dtype=torch.int32).to(device), Y.to(device) \n",
    "\n",
    "    dataset = [(row[\"sentiment\"], row[\"review\"]) for i, row in data.iterrows()]\n",
    "\n",
    "    random.seed(1)\n",
    "    random.shuffle(dataset)\n",
    "\n",
    "    train_dataset = dataset[:math.floor(0.8*len(dataset))]\n",
    "    test_dataset = dataset[math.floor(0.8*len(dataset)):]\n",
    "\n",
    "    train_loader = DataLoader(train_dataset, batch_size=BATCH_SIZE,\n",
    "                                  shuffle=True, collate_fn=collate_batch)\n",
    "    test_loader = DataLoader(test_dataset, batch_size=BATCH_SIZE,\n",
    "                                  shuffle=False, collate_fn=collate_batch)\n",
    "    \n",
    "    def build_vocabulary(datasets):\n",
    "        for dataset in datasets:\n",
    "            for _, text in dataset:\n",
    "                yield tokenizer(text)\n",
    "\n",
    "    # Vocabulary includes all tokens with at least 10 occurrences in the texts\n",
    "    # Special tokens <PAD> and <UNK> are used for padding sequences and unknown words respectively\n",
    "    vocab = build_vocab_from_iterator(build_vocabulary([train_dataset, test_dataset]), min_freq=10, specials=[\"<PAD>\",\"<UNK>\"])\n",
    "    vocab.set_default_index(vocab[\"<UNK>\"])\n",
    "\n",
    "    return train_dataset, test_dataset, train_loader, test_loader, vocab\n",
    "\n",
    "train_dataset, test_dataset, train_loader, test_loader, vocab = preprocess_imdb_data(MAX_WORDS)\n",
    "\n",
    "target_classes = [\"negative\", \"positive\"]\n"
   ]
  },
  {
   "cell_type": "markdown",
   "metadata": {
    "id": "uTdYgCmxHoWB"
   },
   "source": [
    "Furthermore, we modify the model into a binary classification model, which has an output dimension of 1 and uses a sigmoid activation function instead of softmax after the linear layer. The model will predict a number between 0 and 1 and the predictions closer to 0 will be interpreted as \"negative\" and closer to 1 as \"positive\". "
   ]
  },
  {
   "cell_type": "code",
   "execution_count": null,
   "metadata": {
    "id": "b7XJvvUTVfAY"
   },
   "outputs": [],
   "source": [
    "# Creating a Binary Classification model that always has output dimension of 1 and uses sigmoid instead of softmax.\n",
    "\n",
    "class BinaryClassificationModel(nn.Module):\n",
    "    def __init__(self, input_dim, embedding_dim, hidden_dim, rnn_type, rnn_layers, bidirectional):\n",
    "        super(BinaryClassificationModel, self).__init__()\n",
    "\n",
    "        self.embedding_layer = nn.Embedding(num_embeddings=input_dim, embedding_dim=embedding_dim)\n",
    "        \n",
    "        if rnn_type == \"rnn\":\n",
    "          self.rnn = nn.RNN(input_size=embedding_dim, hidden_size=hidden_dim, batch_first=True, num_layers=rnn_layers, bidirectional=bidirectional)\n",
    "        elif rnn_type == \"lstm\":\n",
    "          self.rnn = nn.LSTM(input_size=embedding_dim, hidden_size=hidden_dim, batch_first=True, num_layers=rnn_layers, bidirectional=bidirectional)\n",
    "        else:\n",
    "          raise ValueError(f\"Unsupported rnn type: {rnn_type}\")\n",
    "\n",
    "        if bidirectional:\n",
    "            # In the case of bidirectional RNN, its output dimension will be 2 times the hidden size, \n",
    "            # since the hidden states of the forward and the backward RNN are concatenated. \n",
    "            # Thus, we change the input dimension of the linear layer to be 2 times the hidden dimension of the RNN, to match the output of the RNN.\n",
    "            self.linear = nn.Linear(2*hidden_dim, 1)\n",
    "        else:\n",
    "            self.linear = nn.Linear(hidden_dim, 1)\n",
    "\n",
    "    def forward(self, X_batch):\n",
    "        embeddings = self.embedding_layer(X_batch)\n",
    "        output, hidden = self.rnn(embeddings)\n",
    "        logits = self.linear(output[:,-1])  # The last output of RNN is used for sequence classification\n",
    "        probs = F.sigmoid(logits)\n",
    "        return probs.squeeze(-1)"
   ]
  },
  {
   "cell_type": "markdown",
   "metadata": {
    "id": "HB7wm_Nqqj6F"
   },
   "source": [
    "We also change the loss to Binary Cross Entropy loss (BCELoss), to comply with the new model output."
   ]
  },
  {
   "cell_type": "code",
   "execution_count": null,
   "metadata": {
    "id": "BVXv0bevPtD4"
   },
   "outputs": [],
   "source": [
    "def run_imdb_experiments(experimental_configs, pretrained_embeddings=None, freeze_embeddings=False):\n",
    "    results = []\n",
    "    for config in experimental_configs:\n",
    "        print(f\"Experimental configuration: {config}\")\n",
    "        classifier = BinaryClassificationModel(\n",
    "            input_dim=len(vocab), \n",
    "            embedding_dim=EMBEDDING_DIM, \n",
    "            hidden_dim=HIDDEN_DIM, \n",
    "            rnn_type=config[\"rnn_type\"],\n",
    "            rnn_layers=config[\"rnn_layers\"],\n",
    "            bidirectional=config[\"bidirectional\"]\n",
    "        ).to(device)\n",
    "        # Using Binary CrossEntropy loss, since the Binary Classification model will return a sinlge probability in the range (0, 1).\n",
    "        loss_fn = nn.BCELoss()\n",
    "        optimizer = torch.optim.Adam([param for param in classifier.parameters() if param.requires_grad == True],lr=LEARNING_RATE)\n",
    "        num_of_parameters = count_parameters(classifier)\n",
    "\n",
    "        print('\\nModel:')\n",
    "        print(classifier)\n",
    "        print('Total parameters: ', num_of_parameters)\n",
    "        print('\\n\\n')\n",
    "\n",
    "        average_epoch_time = TrainIMDBModel(classifier, loss_fn, optimizer, train_loader, EPOCHS)\n",
    "        _, Y_actual, Y_preds = EvaluateIMDBModel(classifier, loss_fn, test_loader)\n",
    "        accuracy = accuracy_score(Y_actual, Y_preds)\n",
    "\n",
    "\n",
    "        print(f\"Average epoch duration: {average_epoch_time:.2f} seconds.\")\n",
    "        print(\"\\nTest Accuracy : {:.3f}\".format(accuracy))\n",
    "        print(\"\\nClassification Report : \")\n",
    "        print(classification_report(Y_actual, Y_preds, target_names=target_classes))\n",
    "        print(\"\\nConfusion Matrix : \")\n",
    "        print(confusion_matrix(Y_actual, Y_preds))\n",
    "        print(\"-\" * 80 + \"\\n\")\n",
    "\n",
    "        results.append(\n",
    "            {\n",
    "                \"Experiment name\": config[\"experiment_name\"],\n",
    "                \"Accuracy\": accuracy,\n",
    "                \"Parameters\": num_of_parameters,\n",
    "                \"Time cost\": average_epoch_time,\n",
    "                \"Y_preds\": Y_preds,\n",
    "                \"Y_actual\": Y_actual\n",
    "            }\n",
    "        )\n",
    "    return results"
   ]
  },
  {
   "cell_type": "code",
   "execution_count": null,
   "metadata": {
    "id": "IgDCLzEtdFWP"
   },
   "outputs": [],
   "source": [
    "def EvaluateIMDBModel(model, loss_fn, val_loader):\n",
    "    model.eval()\n",
    "    with torch.no_grad():\n",
    "        Y_actual, Y_preds, losses = [],[],[]\n",
    "        for X, Y in val_loader:\n",
    "            preds = model(X)\n",
    "            loss = loss_fn(preds, Y)\n",
    "            losses.append(loss.item())\n",
    "\n",
    "            Y_actual.append(Y)\n",
    "            Y_preds.append(torch.tensor([0 if p <= 0.5 else 1 for p in preds]))\n",
    "        Y_actual = torch.cat(Y_actual)\n",
    "        Y_preds = torch.cat(Y_preds)\n",
    "    \n",
    "    # Returns mean loss, actual labels, predicted labels \n",
    "    return torch.tensor(losses).mean(), Y_actual.detach().cpu().numpy(), Y_preds.detach().cpu().numpy()\n",
    "\n",
    "\n",
    "def TrainIMDBModel(model, loss_fn, optimizer, train_loader, epochs):\n",
    "    epoch_times_list = []\n",
    "    for i in range(1, epochs+1):\n",
    "        start = time.time()\n",
    "        model.train()\n",
    "        print('Epoch:',i)\n",
    "        losses = []\n",
    "        for X, Y in tqdm(train_loader):\n",
    "            Y_preds = model(X)\n",
    "\n",
    "            loss = loss_fn(Y_preds, Y)\n",
    "            losses.append(loss.item())\n",
    "\n",
    "            optimizer.zero_grad()\n",
    "            loss.backward()\n",
    "            optimizer.step()\n",
    "\n",
    "        epoch_time = (time.time() - start)\n",
    "        epoch_times_list.append(epoch_time)\n",
    "        print(\"Train Loss : {:.3f}\".format(torch.tensor(losses).mean()))\n",
    "    \n",
    "    # return the average epoch duration in seconds.\n",
    "    return sum(epoch_times_list) / len(epoch_times_list)"
   ]
  },
  {
   "cell_type": "code",
   "execution_count": null,
   "metadata": {
    "colab": {
     "base_uri": "https://localhost:8080/"
    },
    "id": "F3ZdPyKaQmDE",
    "outputId": "0e7b50b2-6995-49db-c526-f7c22bd0d3ed"
   },
   "outputs": [
    {
     "name": "stdout",
     "output_type": "stream",
     "text": [
      "Experimental configuration: {'experiment_name': '1RNN', 'rnn_type': 'rnn', 'bidirectional': False, 'rnn_layers': 1}\n",
      "\n",
      "Model:\n",
      "BinaryClassificationModel(\n",
      "  (embedding_layer): Embedding(29065, 100)\n",
      "  (rnn): RNN(100, 64, batch_first=True)\n",
      "  (linear): Linear(in_features=64, out_features=1, bias=True)\n",
      ")\n",
      "Total parameters:  2917189\n",
      "\n",
      "\n",
      "\n",
      "Epoch: 1\n"
     ]
    },
    {
     "name": "stderr",
     "output_type": "stream",
     "text": [
      "100%|██████████| 40/40 [00:06<00:00,  6.06it/s]\n"
     ]
    },
    {
     "name": "stdout",
     "output_type": "stream",
     "text": [
      "Train Loss : 0.696\n",
      "Epoch: 2\n"
     ]
    },
    {
     "name": "stderr",
     "output_type": "stream",
     "text": [
      "100%|██████████| 40/40 [00:07<00:00,  5.65it/s]\n"
     ]
    },
    {
     "name": "stdout",
     "output_type": "stream",
     "text": [
      "Train Loss : 0.689\n",
      "Epoch: 3\n"
     ]
    },
    {
     "name": "stderr",
     "output_type": "stream",
     "text": [
      "100%|██████████| 40/40 [00:06<00:00,  6.59it/s]\n"
     ]
    },
    {
     "name": "stdout",
     "output_type": "stream",
     "text": [
      "Train Loss : 0.681\n",
      "Epoch: 4\n"
     ]
    },
    {
     "name": "stderr",
     "output_type": "stream",
     "text": [
      "100%|██████████| 40/40 [00:06<00:00,  5.74it/s]\n"
     ]
    },
    {
     "name": "stdout",
     "output_type": "stream",
     "text": [
      "Train Loss : 0.655\n",
      "Epoch: 5\n"
     ]
    },
    {
     "name": "stderr",
     "output_type": "stream",
     "text": [
      "100%|██████████| 40/40 [00:05<00:00,  6.72it/s]\n"
     ]
    },
    {
     "name": "stdout",
     "output_type": "stream",
     "text": [
      "Train Loss : 0.614\n",
      "Epoch: 6\n"
     ]
    },
    {
     "name": "stderr",
     "output_type": "stream",
     "text": [
      "100%|██████████| 40/40 [00:06<00:00,  5.75it/s]\n"
     ]
    },
    {
     "name": "stdout",
     "output_type": "stream",
     "text": [
      "Train Loss : 0.575\n",
      "Epoch: 7\n"
     ]
    },
    {
     "name": "stderr",
     "output_type": "stream",
     "text": [
      "100%|██████████| 40/40 [00:05<00:00,  6.67it/s]\n"
     ]
    },
    {
     "name": "stdout",
     "output_type": "stream",
     "text": [
      "Train Loss : 0.534\n",
      "Epoch: 8\n"
     ]
    },
    {
     "name": "stderr",
     "output_type": "stream",
     "text": [
      "100%|██████████| 40/40 [00:06<00:00,  5.81it/s]\n"
     ]
    },
    {
     "name": "stdout",
     "output_type": "stream",
     "text": [
      "Train Loss : 0.504\n",
      "Epoch: 9\n"
     ]
    },
    {
     "name": "stderr",
     "output_type": "stream",
     "text": [
      "100%|██████████| 40/40 [00:06<00:00,  6.65it/s]\n"
     ]
    },
    {
     "name": "stdout",
     "output_type": "stream",
     "text": [
      "Train Loss : 0.473\n",
      "Epoch: 10\n"
     ]
    },
    {
     "name": "stderr",
     "output_type": "stream",
     "text": [
      "100%|██████████| 40/40 [00:06<00:00,  5.78it/s]\n"
     ]
    },
    {
     "name": "stdout",
     "output_type": "stream",
     "text": [
      "Train Loss : 0.446\n",
      "Epoch: 11\n"
     ]
    },
    {
     "name": "stderr",
     "output_type": "stream",
     "text": [
      "100%|██████████| 40/40 [00:06<00:00,  6.38it/s]\n"
     ]
    },
    {
     "name": "stdout",
     "output_type": "stream",
     "text": [
      "Train Loss : 0.415\n",
      "Epoch: 12\n"
     ]
    },
    {
     "name": "stderr",
     "output_type": "stream",
     "text": [
      "100%|██████████| 40/40 [00:07<00:00,  5.59it/s]\n"
     ]
    },
    {
     "name": "stdout",
     "output_type": "stream",
     "text": [
      "Train Loss : 0.385\n",
      "Epoch: 13\n"
     ]
    },
    {
     "name": "stderr",
     "output_type": "stream",
     "text": [
      "100%|██████████| 40/40 [00:06<00:00,  6.31it/s]\n"
     ]
    },
    {
     "name": "stdout",
     "output_type": "stream",
     "text": [
      "Train Loss : 0.363\n",
      "Epoch: 14\n"
     ]
    },
    {
     "name": "stderr",
     "output_type": "stream",
     "text": [
      "100%|██████████| 40/40 [00:06<00:00,  5.87it/s]\n"
     ]
    },
    {
     "name": "stdout",
     "output_type": "stream",
     "text": [
      "Train Loss : 0.344\n",
      "Epoch: 15\n"
     ]
    },
    {
     "name": "stderr",
     "output_type": "stream",
     "text": [
      "100%|██████████| 40/40 [00:06<00:00,  5.93it/s]\n"
     ]
    },
    {
     "name": "stdout",
     "output_type": "stream",
     "text": [
      "Train Loss : 0.322\n",
      "Average epoch duration: 6.59 seconds.\n",
      "\n",
      "Test Accuracy : 0.714\n",
      "\n",
      "Classification Report : \n",
      "              precision    recall  f1-score   support\n",
      "\n",
      "    negative       0.74      0.67      0.71      5104\n",
      "    positive       0.69      0.76      0.72      4896\n",
      "\n",
      "    accuracy                           0.71     10000\n",
      "   macro avg       0.72      0.71      0.71     10000\n",
      "weighted avg       0.72      0.71      0.71     10000\n",
      "\n",
      "\n",
      "Confusion Matrix : \n",
      "[[3435 1669]\n",
      " [1194 3702]]\n",
      "--------------------------------------------------------------------------------\n",
      "\n",
      "Experimental configuration: {'experiment_name': '1Bi-RNN', 'rnn_type': 'rnn', 'bidirectional': True, 'rnn_layers': 1}\n",
      "\n",
      "Model:\n",
      "BinaryClassificationModel(\n",
      "  (embedding_layer): Embedding(29065, 100)\n",
      "  (rnn): RNN(100, 64, batch_first=True, bidirectional=True)\n",
      "  (linear): Linear(in_features=128, out_features=1, bias=True)\n",
      ")\n",
      "Total parameters:  2927877\n",
      "\n",
      "\n",
      "\n",
      "Epoch: 1\n"
     ]
    },
    {
     "name": "stderr",
     "output_type": "stream",
     "text": [
      "100%|██████████| 40/40 [00:06<00:00,  6.38it/s]\n"
     ]
    },
    {
     "name": "stdout",
     "output_type": "stream",
     "text": [
      "Train Loss : 0.696\n",
      "Epoch: 2\n"
     ]
    },
    {
     "name": "stderr",
     "output_type": "stream",
     "text": [
      "100%|██████████| 40/40 [00:07<00:00,  5.70it/s]\n"
     ]
    },
    {
     "name": "stdout",
     "output_type": "stream",
     "text": [
      "Train Loss : 0.688\n",
      "Epoch: 3\n"
     ]
    },
    {
     "name": "stderr",
     "output_type": "stream",
     "text": [
      "100%|██████████| 40/40 [00:06<00:00,  6.60it/s]\n"
     ]
    },
    {
     "name": "stdout",
     "output_type": "stream",
     "text": [
      "Train Loss : 0.667\n",
      "Epoch: 4\n"
     ]
    },
    {
     "name": "stderr",
     "output_type": "stream",
     "text": [
      "100%|██████████| 40/40 [00:07<00:00,  5.67it/s]\n"
     ]
    },
    {
     "name": "stdout",
     "output_type": "stream",
     "text": [
      "Train Loss : 0.638\n",
      "Epoch: 5\n"
     ]
    },
    {
     "name": "stderr",
     "output_type": "stream",
     "text": [
      "100%|██████████| 40/40 [00:06<00:00,  6.48it/s]\n"
     ]
    },
    {
     "name": "stdout",
     "output_type": "stream",
     "text": [
      "Train Loss : 0.598\n",
      "Epoch: 6\n"
     ]
    },
    {
     "name": "stderr",
     "output_type": "stream",
     "text": [
      "100%|██████████| 40/40 [00:07<00:00,  5.44it/s]\n"
     ]
    },
    {
     "name": "stdout",
     "output_type": "stream",
     "text": [
      "Train Loss : 0.571\n",
      "Epoch: 7\n"
     ]
    },
    {
     "name": "stderr",
     "output_type": "stream",
     "text": [
      "100%|██████████| 40/40 [00:06<00:00,  6.10it/s]\n"
     ]
    },
    {
     "name": "stdout",
     "output_type": "stream",
     "text": [
      "Train Loss : 0.540\n",
      "Epoch: 8\n"
     ]
    },
    {
     "name": "stderr",
     "output_type": "stream",
     "text": [
      "100%|██████████| 40/40 [00:06<00:00,  5.87it/s]\n"
     ]
    },
    {
     "name": "stdout",
     "output_type": "stream",
     "text": [
      "Train Loss : 0.508\n",
      "Epoch: 9\n"
     ]
    },
    {
     "name": "stderr",
     "output_type": "stream",
     "text": [
      "100%|██████████| 40/40 [00:07<00:00,  5.60it/s]\n"
     ]
    },
    {
     "name": "stdout",
     "output_type": "stream",
     "text": [
      "Train Loss : 0.477\n",
      "Epoch: 10\n"
     ]
    },
    {
     "name": "stderr",
     "output_type": "stream",
     "text": [
      "100%|██████████| 40/40 [00:06<00:00,  6.60it/s]\n"
     ]
    },
    {
     "name": "stdout",
     "output_type": "stream",
     "text": [
      "Train Loss : 0.449\n",
      "Epoch: 11\n"
     ]
    },
    {
     "name": "stderr",
     "output_type": "stream",
     "text": [
      "100%|██████████| 40/40 [00:07<00:00,  5.62it/s]\n"
     ]
    },
    {
     "name": "stdout",
     "output_type": "stream",
     "text": [
      "Train Loss : 0.423\n",
      "Epoch: 12\n"
     ]
    },
    {
     "name": "stderr",
     "output_type": "stream",
     "text": [
      "100%|██████████| 40/40 [00:06<00:00,  6.63it/s]\n"
     ]
    },
    {
     "name": "stdout",
     "output_type": "stream",
     "text": [
      "Train Loss : 0.397\n",
      "Epoch: 13\n"
     ]
    },
    {
     "name": "stderr",
     "output_type": "stream",
     "text": [
      "100%|██████████| 40/40 [00:06<00:00,  5.74it/s]\n"
     ]
    },
    {
     "name": "stdout",
     "output_type": "stream",
     "text": [
      "Train Loss : 0.373\n",
      "Epoch: 14\n"
     ]
    },
    {
     "name": "stderr",
     "output_type": "stream",
     "text": [
      "100%|██████████| 40/40 [00:06<00:00,  6.53it/s]\n"
     ]
    },
    {
     "name": "stdout",
     "output_type": "stream",
     "text": [
      "Train Loss : 0.351\n",
      "Epoch: 15\n"
     ]
    },
    {
     "name": "stderr",
     "output_type": "stream",
     "text": [
      "100%|██████████| 40/40 [00:07<00:00,  5.61it/s]\n"
     ]
    },
    {
     "name": "stdout",
     "output_type": "stream",
     "text": [
      "Train Loss : 0.332\n",
      "Average epoch duration: 6.67 seconds.\n",
      "\n",
      "Test Accuracy : 0.716\n",
      "\n",
      "Classification Report : \n",
      "              precision    recall  f1-score   support\n",
      "\n",
      "    negative       0.73      0.69      0.71      5104\n",
      "    positive       0.70      0.74      0.72      4896\n",
      "\n",
      "    accuracy                           0.72     10000\n",
      "   macro avg       0.72      0.72      0.72     10000\n",
      "weighted avg       0.72      0.72      0.72     10000\n",
      "\n",
      "\n",
      "Confusion Matrix : \n",
      "[[3540 1564]\n",
      " [1281 3615]]\n",
      "--------------------------------------------------------------------------------\n",
      "\n",
      "Experimental configuration: {'experiment_name': '2Bi-RNN', 'rnn_type': 'rnn', 'bidirectional': True, 'rnn_layers': 2}\n",
      "\n",
      "Model:\n",
      "BinaryClassificationModel(\n",
      "  (embedding_layer): Embedding(29065, 100)\n",
      "  (rnn): RNN(100, 64, num_layers=2, batch_first=True, bidirectional=True)\n",
      "  (linear): Linear(in_features=128, out_features=1, bias=True)\n",
      ")\n",
      "Total parameters:  2952709\n",
      "\n",
      "\n",
      "\n",
      "Epoch: 1\n"
     ]
    },
    {
     "name": "stderr",
     "output_type": "stream",
     "text": [
      "100%|██████████| 40/40 [00:06<00:00,  5.97it/s]\n"
     ]
    },
    {
     "name": "stdout",
     "output_type": "stream",
     "text": [
      "Train Loss : 0.694\n",
      "Epoch: 2\n"
     ]
    },
    {
     "name": "stderr",
     "output_type": "stream",
     "text": [
      "100%|██████████| 40/40 [00:06<00:00,  5.83it/s]\n"
     ]
    },
    {
     "name": "stdout",
     "output_type": "stream",
     "text": [
      "Train Loss : 0.679\n",
      "Epoch: 3\n"
     ]
    },
    {
     "name": "stderr",
     "output_type": "stream",
     "text": [
      "100%|██████████| 40/40 [00:07<00:00,  5.45it/s]\n"
     ]
    },
    {
     "name": "stdout",
     "output_type": "stream",
     "text": [
      "Train Loss : 0.645\n",
      "Epoch: 4\n"
     ]
    },
    {
     "name": "stderr",
     "output_type": "stream",
     "text": [
      "100%|██████████| 40/40 [00:06<00:00,  6.45it/s]\n"
     ]
    },
    {
     "name": "stdout",
     "output_type": "stream",
     "text": [
      "Train Loss : 0.616\n",
      "Epoch: 5\n"
     ]
    },
    {
     "name": "stderr",
     "output_type": "stream",
     "text": [
      "100%|██████████| 40/40 [00:07<00:00,  5.55it/s]\n"
     ]
    },
    {
     "name": "stdout",
     "output_type": "stream",
     "text": [
      "Train Loss : 0.578\n",
      "Epoch: 6\n"
     ]
    },
    {
     "name": "stderr",
     "output_type": "stream",
     "text": [
      "100%|██████████| 40/40 [00:06<00:00,  6.51it/s]\n"
     ]
    },
    {
     "name": "stdout",
     "output_type": "stream",
     "text": [
      "Train Loss : 0.543\n",
      "Epoch: 7\n"
     ]
    },
    {
     "name": "stderr",
     "output_type": "stream",
     "text": [
      "100%|██████████| 40/40 [00:07<00:00,  5.67it/s]\n"
     ]
    },
    {
     "name": "stdout",
     "output_type": "stream",
     "text": [
      "Train Loss : 0.507\n",
      "Epoch: 8\n"
     ]
    },
    {
     "name": "stderr",
     "output_type": "stream",
     "text": [
      "100%|██████████| 40/40 [00:06<00:00,  6.44it/s]\n"
     ]
    },
    {
     "name": "stdout",
     "output_type": "stream",
     "text": [
      "Train Loss : 0.471\n",
      "Epoch: 9\n"
     ]
    },
    {
     "name": "stderr",
     "output_type": "stream",
     "text": [
      "100%|██████████| 40/40 [00:07<00:00,  5.57it/s]\n"
     ]
    },
    {
     "name": "stdout",
     "output_type": "stream",
     "text": [
      "Train Loss : 0.442\n",
      "Epoch: 10\n"
     ]
    },
    {
     "name": "stderr",
     "output_type": "stream",
     "text": [
      "100%|██████████| 40/40 [00:06<00:00,  6.42it/s]\n"
     ]
    },
    {
     "name": "stdout",
     "output_type": "stream",
     "text": [
      "Train Loss : 0.413\n",
      "Epoch: 11\n"
     ]
    },
    {
     "name": "stderr",
     "output_type": "stream",
     "text": [
      "100%|██████████| 40/40 [00:07<00:00,  5.55it/s]\n"
     ]
    },
    {
     "name": "stdout",
     "output_type": "stream",
     "text": [
      "Train Loss : 0.384\n",
      "Epoch: 12\n"
     ]
    },
    {
     "name": "stderr",
     "output_type": "stream",
     "text": [
      "100%|██████████| 40/40 [00:06<00:00,  5.78it/s]\n"
     ]
    },
    {
     "name": "stdout",
     "output_type": "stream",
     "text": [
      "Train Loss : 0.357\n",
      "Epoch: 13\n"
     ]
    },
    {
     "name": "stderr",
     "output_type": "stream",
     "text": [
      "100%|██████████| 40/40 [00:06<00:00,  6.15it/s]\n"
     ]
    },
    {
     "name": "stdout",
     "output_type": "stream",
     "text": [
      "Train Loss : 0.321\n",
      "Epoch: 14\n"
     ]
    },
    {
     "name": "stderr",
     "output_type": "stream",
     "text": [
      "100%|██████████| 40/40 [00:07<00:00,  5.43it/s]\n"
     ]
    },
    {
     "name": "stdout",
     "output_type": "stream",
     "text": [
      "Train Loss : 0.290\n",
      "Epoch: 15\n"
     ]
    },
    {
     "name": "stderr",
     "output_type": "stream",
     "text": [
      "100%|██████████| 40/40 [00:06<00:00,  6.42it/s]\n"
     ]
    },
    {
     "name": "stdout",
     "output_type": "stream",
     "text": [
      "Train Loss : 0.270\n",
      "Average epoch duration: 6.77 seconds.\n",
      "\n",
      "Test Accuracy : 0.710\n",
      "\n",
      "Classification Report : \n",
      "              precision    recall  f1-score   support\n",
      "\n",
      "    negative       0.76      0.63      0.69      5104\n",
      "    positive       0.67      0.80      0.73      4896\n",
      "\n",
      "    accuracy                           0.71     10000\n",
      "   macro avg       0.72      0.71      0.71     10000\n",
      "weighted avg       0.72      0.71      0.71     10000\n",
      "\n",
      "\n",
      "Confusion Matrix : \n",
      "[[3205 1899]\n",
      " [ 999 3897]]\n",
      "--------------------------------------------------------------------------------\n",
      "\n",
      "Experimental configuration: {'experiment_name': '1LSTM', 'rnn_type': 'lstm', 'bidirectional': False, 'rnn_layers': 1}\n",
      "\n",
      "Model:\n",
      "BinaryClassificationModel(\n",
      "  (embedding_layer): Embedding(29065, 100)\n",
      "  (rnn): LSTM(100, 64, batch_first=True)\n",
      "  (linear): Linear(in_features=64, out_features=1, bias=True)\n",
      ")\n",
      "Total parameters:  2949061\n",
      "\n",
      "\n",
      "\n",
      "Epoch: 1\n"
     ]
    },
    {
     "name": "stderr",
     "output_type": "stream",
     "text": [
      "100%|██████████| 40/40 [00:07<00:00,  5.56it/s]\n"
     ]
    },
    {
     "name": "stdout",
     "output_type": "stream",
     "text": [
      "Train Loss : 0.691\n",
      "Epoch: 2\n"
     ]
    },
    {
     "name": "stderr",
     "output_type": "stream",
     "text": [
      "100%|██████████| 40/40 [00:06<00:00,  6.42it/s]\n"
     ]
    },
    {
     "name": "stdout",
     "output_type": "stream",
     "text": [
      "Train Loss : 0.672\n",
      "Epoch: 3\n"
     ]
    },
    {
     "name": "stderr",
     "output_type": "stream",
     "text": [
      "100%|██████████| 40/40 [00:07<00:00,  5.63it/s]\n"
     ]
    },
    {
     "name": "stdout",
     "output_type": "stream",
     "text": [
      "Train Loss : 0.621\n",
      "Epoch: 4\n"
     ]
    },
    {
     "name": "stderr",
     "output_type": "stream",
     "text": [
      "100%|██████████| 40/40 [00:06<00:00,  5.91it/s]\n"
     ]
    },
    {
     "name": "stdout",
     "output_type": "stream",
     "text": [
      "Train Loss : 0.564\n",
      "Epoch: 5\n"
     ]
    },
    {
     "name": "stderr",
     "output_type": "stream",
     "text": [
      "100%|██████████| 40/40 [00:06<00:00,  6.27it/s]\n"
     ]
    },
    {
     "name": "stdout",
     "output_type": "stream",
     "text": [
      "Train Loss : 0.517\n",
      "Epoch: 6\n"
     ]
    },
    {
     "name": "stderr",
     "output_type": "stream",
     "text": [
      "100%|██████████| 40/40 [00:07<00:00,  5.65it/s]\n"
     ]
    },
    {
     "name": "stdout",
     "output_type": "stream",
     "text": [
      "Train Loss : 0.477\n",
      "Epoch: 7\n"
     ]
    },
    {
     "name": "stderr",
     "output_type": "stream",
     "text": [
      "100%|██████████| 40/40 [00:06<00:00,  6.56it/s]\n"
     ]
    },
    {
     "name": "stdout",
     "output_type": "stream",
     "text": [
      "Train Loss : 0.448\n",
      "Epoch: 8\n"
     ]
    },
    {
     "name": "stderr",
     "output_type": "stream",
     "text": [
      "100%|██████████| 40/40 [00:07<00:00,  5.67it/s]\n"
     ]
    },
    {
     "name": "stdout",
     "output_type": "stream",
     "text": [
      "Train Loss : 0.416\n",
      "Epoch: 9\n"
     ]
    },
    {
     "name": "stderr",
     "output_type": "stream",
     "text": [
      "100%|██████████| 40/40 [00:06<00:00,  6.44it/s]\n"
     ]
    },
    {
     "name": "stdout",
     "output_type": "stream",
     "text": [
      "Train Loss : 0.385\n",
      "Epoch: 10\n"
     ]
    },
    {
     "name": "stderr",
     "output_type": "stream",
     "text": [
      "100%|██████████| 40/40 [00:07<00:00,  5.71it/s]\n"
     ]
    },
    {
     "name": "stdout",
     "output_type": "stream",
     "text": [
      "Train Loss : 0.356\n",
      "Epoch: 11\n"
     ]
    },
    {
     "name": "stderr",
     "output_type": "stream",
     "text": [
      "100%|██████████| 40/40 [00:06<00:00,  6.45it/s]\n"
     ]
    },
    {
     "name": "stdout",
     "output_type": "stream",
     "text": [
      "Train Loss : 0.332\n",
      "Epoch: 12\n"
     ]
    },
    {
     "name": "stderr",
     "output_type": "stream",
     "text": [
      "100%|██████████| 40/40 [00:06<00:00,  5.72it/s]\n"
     ]
    },
    {
     "name": "stdout",
     "output_type": "stream",
     "text": [
      "Train Loss : 0.300\n",
      "Epoch: 13\n"
     ]
    },
    {
     "name": "stderr",
     "output_type": "stream",
     "text": [
      "100%|██████████| 40/40 [00:06<00:00,  6.55it/s]\n"
     ]
    },
    {
     "name": "stdout",
     "output_type": "stream",
     "text": [
      "Train Loss : 0.270\n",
      "Epoch: 14\n"
     ]
    },
    {
     "name": "stderr",
     "output_type": "stream",
     "text": [
      "100%|██████████| 40/40 [00:07<00:00,  5.70it/s]\n"
     ]
    },
    {
     "name": "stdout",
     "output_type": "stream",
     "text": [
      "Train Loss : 0.244\n",
      "Epoch: 15\n"
     ]
    },
    {
     "name": "stderr",
     "output_type": "stream",
     "text": [
      "100%|██████████| 40/40 [00:06<00:00,  6.63it/s]\n"
     ]
    },
    {
     "name": "stdout",
     "output_type": "stream",
     "text": [
      "Train Loss : 0.223\n",
      "Average epoch duration: 6.64 seconds.\n",
      "\n",
      "Test Accuracy : 0.713\n",
      "\n",
      "Classification Report : \n",
      "              precision    recall  f1-score   support\n",
      "\n",
      "    negative       0.69      0.79      0.74      5104\n",
      "    positive       0.74      0.63      0.68      4896\n",
      "\n",
      "    accuracy                           0.71     10000\n",
      "   macro avg       0.72      0.71      0.71     10000\n",
      "weighted avg       0.72      0.71      0.71     10000\n",
      "\n",
      "\n",
      "Confusion Matrix : \n",
      "[[4034 1070]\n",
      " [1799 3097]]\n",
      "--------------------------------------------------------------------------------\n",
      "\n",
      "Experimental configuration: {'experiment_name': '1Bi-LSTM', 'rnn_type': 'lstm', 'bidirectional': True, 'rnn_layers': 1}\n",
      "\n",
      "Model:\n",
      "BinaryClassificationModel(\n",
      "  (embedding_layer): Embedding(29065, 100)\n",
      "  (rnn): LSTM(100, 64, batch_first=True, bidirectional=True)\n",
      "  (linear): Linear(in_features=128, out_features=1, bias=True)\n",
      ")\n",
      "Total parameters:  2991621\n",
      "\n",
      "\n",
      "\n",
      "Epoch: 1\n"
     ]
    },
    {
     "name": "stderr",
     "output_type": "stream",
     "text": [
      "100%|██████████| 40/40 [00:06<00:00,  6.29it/s]\n"
     ]
    },
    {
     "name": "stdout",
     "output_type": "stream",
     "text": [
      "Train Loss : 0.691\n",
      "Epoch: 2\n"
     ]
    },
    {
     "name": "stderr",
     "output_type": "stream",
     "text": [
      "100%|██████████| 40/40 [00:07<00:00,  5.45it/s]\n"
     ]
    },
    {
     "name": "stdout",
     "output_type": "stream",
     "text": [
      "Train Loss : 0.672\n",
      "Epoch: 3\n"
     ]
    },
    {
     "name": "stderr",
     "output_type": "stream",
     "text": [
      "100%|██████████| 40/40 [00:06<00:00,  6.03it/s]\n"
     ]
    },
    {
     "name": "stdout",
     "output_type": "stream",
     "text": [
      "Train Loss : 0.619\n",
      "Epoch: 4\n"
     ]
    },
    {
     "name": "stderr",
     "output_type": "stream",
     "text": [
      "100%|██████████| 40/40 [00:07<00:00,  5.45it/s]\n"
     ]
    },
    {
     "name": "stdout",
     "output_type": "stream",
     "text": [
      "Train Loss : 0.562\n",
      "Epoch: 5\n"
     ]
    },
    {
     "name": "stderr",
     "output_type": "stream",
     "text": [
      "100%|██████████| 40/40 [00:06<00:00,  6.13it/s]\n"
     ]
    },
    {
     "name": "stdout",
     "output_type": "stream",
     "text": [
      "Train Loss : 0.515\n",
      "Epoch: 6\n"
     ]
    },
    {
     "name": "stderr",
     "output_type": "stream",
     "text": [
      "100%|██████████| 40/40 [00:07<00:00,  5.49it/s]\n"
     ]
    },
    {
     "name": "stdout",
     "output_type": "stream",
     "text": [
      "Train Loss : 0.475\n",
      "Epoch: 7\n"
     ]
    },
    {
     "name": "stderr",
     "output_type": "stream",
     "text": [
      "100%|██████████| 40/40 [00:07<00:00,  5.69it/s]\n"
     ]
    },
    {
     "name": "stdout",
     "output_type": "stream",
     "text": [
      "Train Loss : 0.442\n",
      "Epoch: 8\n"
     ]
    },
    {
     "name": "stderr",
     "output_type": "stream",
     "text": [
      "100%|██████████| 40/40 [00:06<00:00,  6.12it/s]\n"
     ]
    },
    {
     "name": "stdout",
     "output_type": "stream",
     "text": [
      "Train Loss : 0.411\n",
      "Epoch: 9\n"
     ]
    },
    {
     "name": "stderr",
     "output_type": "stream",
     "text": [
      "100%|██████████| 40/40 [00:07<00:00,  5.40it/s]\n"
     ]
    },
    {
     "name": "stdout",
     "output_type": "stream",
     "text": [
      "Train Loss : 0.378\n",
      "Epoch: 10\n"
     ]
    },
    {
     "name": "stderr",
     "output_type": "stream",
     "text": [
      "100%|██████████| 40/40 [00:06<00:00,  6.13it/s]\n"
     ]
    },
    {
     "name": "stdout",
     "output_type": "stream",
     "text": [
      "Train Loss : 0.351\n",
      "Epoch: 11\n"
     ]
    },
    {
     "name": "stderr",
     "output_type": "stream",
     "text": [
      "100%|██████████| 40/40 [00:07<00:00,  5.44it/s]\n"
     ]
    },
    {
     "name": "stdout",
     "output_type": "stream",
     "text": [
      "Train Loss : 0.328\n",
      "Epoch: 12\n"
     ]
    },
    {
     "name": "stderr",
     "output_type": "stream",
     "text": [
      "100%|██████████| 40/40 [00:06<00:00,  6.14it/s]\n"
     ]
    },
    {
     "name": "stdout",
     "output_type": "stream",
     "text": [
      "Train Loss : 0.296\n",
      "Epoch: 13\n"
     ]
    },
    {
     "name": "stderr",
     "output_type": "stream",
     "text": [
      "100%|██████████| 40/40 [00:07<00:00,  5.49it/s]\n"
     ]
    },
    {
     "name": "stdout",
     "output_type": "stream",
     "text": [
      "Train Loss : 0.271\n",
      "Epoch: 14\n"
     ]
    },
    {
     "name": "stderr",
     "output_type": "stream",
     "text": [
      "100%|██████████| 40/40 [00:06<00:00,  5.87it/s]\n"
     ]
    },
    {
     "name": "stdout",
     "output_type": "stream",
     "text": [
      "Train Loss : 0.250\n",
      "Epoch: 15\n"
     ]
    },
    {
     "name": "stderr",
     "output_type": "stream",
     "text": [
      "100%|██████████| 40/40 [00:06<00:00,  5.85it/s]\n"
     ]
    },
    {
     "name": "stdout",
     "output_type": "stream",
     "text": [
      "Train Loss : 0.218\n",
      "Average epoch duration: 6.93 seconds.\n",
      "\n",
      "Test Accuracy : 0.717\n",
      "\n",
      "Classification Report : \n",
      "              precision    recall  f1-score   support\n",
      "\n",
      "    negative       0.74      0.69      0.71      5104\n",
      "    positive       0.70      0.75      0.72      4896\n",
      "\n",
      "    accuracy                           0.72     10000\n",
      "   macro avg       0.72      0.72      0.72     10000\n",
      "weighted avg       0.72      0.72      0.72     10000\n",
      "\n",
      "\n",
      "Confusion Matrix : \n",
      "[[3501 1603]\n",
      " [1227 3669]]\n",
      "--------------------------------------------------------------------------------\n",
      "\n",
      "Experimental configuration: {'experiment_name': '2Bi-LSTM', 'rnn_type': 'lstm', 'bidirectional': True, 'rnn_layers': 2}\n",
      "\n",
      "Model:\n",
      "BinaryClassificationModel(\n",
      "  (embedding_layer): Embedding(29065, 100)\n",
      "  (rnn): LSTM(100, 64, num_layers=2, batch_first=True, bidirectional=True)\n",
      "  (linear): Linear(in_features=128, out_features=1, bias=True)\n",
      ")\n",
      "Total parameters:  3090949\n",
      "\n",
      "\n",
      "\n",
      "Epoch: 1\n"
     ]
    },
    {
     "name": "stderr",
     "output_type": "stream",
     "text": [
      "100%|██████████| 40/40 [00:07<00:00,  5.16it/s]\n"
     ]
    },
    {
     "name": "stdout",
     "output_type": "stream",
     "text": [
      "Train Loss : 0.688\n",
      "Epoch: 2\n"
     ]
    },
    {
     "name": "stderr",
     "output_type": "stream",
     "text": [
      "100%|██████████| 40/40 [00:06<00:00,  5.88it/s]\n"
     ]
    },
    {
     "name": "stdout",
     "output_type": "stream",
     "text": [
      "Train Loss : 0.638\n",
      "Epoch: 3\n"
     ]
    },
    {
     "name": "stderr",
     "output_type": "stream",
     "text": [
      "100%|██████████| 40/40 [00:07<00:00,  5.23it/s]\n"
     ]
    },
    {
     "name": "stdout",
     "output_type": "stream",
     "text": [
      "Train Loss : 0.582\n",
      "Epoch: 4\n"
     ]
    },
    {
     "name": "stderr",
     "output_type": "stream",
     "text": [
      "100%|██████████| 40/40 [00:07<00:00,  5.08it/s]\n"
     ]
    },
    {
     "name": "stdout",
     "output_type": "stream",
     "text": [
      "Train Loss : 0.527\n",
      "Epoch: 5\n"
     ]
    },
    {
     "name": "stderr",
     "output_type": "stream",
     "text": [
      "100%|██████████| 40/40 [00:06<00:00,  5.87it/s]\n"
     ]
    },
    {
     "name": "stdout",
     "output_type": "stream",
     "text": [
      "Train Loss : 0.487\n",
      "Epoch: 6\n"
     ]
    },
    {
     "name": "stderr",
     "output_type": "stream",
     "text": [
      "100%|██████████| 40/40 [00:07<00:00,  5.14it/s]\n"
     ]
    },
    {
     "name": "stdout",
     "output_type": "stream",
     "text": [
      "Train Loss : 0.454\n",
      "Epoch: 7\n"
     ]
    },
    {
     "name": "stderr",
     "output_type": "stream",
     "text": [
      "100%|██████████| 40/40 [00:06<00:00,  5.74it/s]\n"
     ]
    },
    {
     "name": "stdout",
     "output_type": "stream",
     "text": [
      "Train Loss : 0.413\n",
      "Epoch: 8\n"
     ]
    },
    {
     "name": "stderr",
     "output_type": "stream",
     "text": [
      "100%|██████████| 40/40 [00:07<00:00,  5.19it/s]\n"
     ]
    },
    {
     "name": "stdout",
     "output_type": "stream",
     "text": [
      "Train Loss : 0.385\n",
      "Epoch: 9\n"
     ]
    },
    {
     "name": "stderr",
     "output_type": "stream",
     "text": [
      "100%|██████████| 40/40 [00:07<00:00,  5.09it/s]\n"
     ]
    },
    {
     "name": "stdout",
     "output_type": "stream",
     "text": [
      "Train Loss : 0.352\n",
      "Epoch: 10\n"
     ]
    },
    {
     "name": "stderr",
     "output_type": "stream",
     "text": [
      "100%|██████████| 40/40 [00:06<00:00,  5.84it/s]\n"
     ]
    },
    {
     "name": "stdout",
     "output_type": "stream",
     "text": [
      "Train Loss : 0.315\n",
      "Epoch: 11\n"
     ]
    },
    {
     "name": "stderr",
     "output_type": "stream",
     "text": [
      "100%|██████████| 40/40 [00:07<00:00,  5.07it/s]\n"
     ]
    },
    {
     "name": "stdout",
     "output_type": "stream",
     "text": [
      "Train Loss : 0.277\n",
      "Epoch: 12\n"
     ]
    },
    {
     "name": "stderr",
     "output_type": "stream",
     "text": [
      "100%|██████████| 40/40 [00:06<00:00,  5.88it/s]\n"
     ]
    },
    {
     "name": "stdout",
     "output_type": "stream",
     "text": [
      "Train Loss : 0.244\n",
      "Epoch: 13\n"
     ]
    },
    {
     "name": "stderr",
     "output_type": "stream",
     "text": [
      "100%|██████████| 40/40 [00:07<00:00,  5.22it/s]\n"
     ]
    },
    {
     "name": "stdout",
     "output_type": "stream",
     "text": [
      "Train Loss : 0.226\n",
      "Epoch: 14\n"
     ]
    },
    {
     "name": "stderr",
     "output_type": "stream",
     "text": [
      "100%|██████████| 40/40 [00:07<00:00,  5.21it/s]\n"
     ]
    },
    {
     "name": "stdout",
     "output_type": "stream",
     "text": [
      "Train Loss : 0.185\n",
      "Epoch: 15\n"
     ]
    },
    {
     "name": "stderr",
     "output_type": "stream",
     "text": [
      "100%|██████████| 40/40 [00:06<00:00,  5.83it/s]\n"
     ]
    },
    {
     "name": "stdout",
     "output_type": "stream",
     "text": [
      "Train Loss : 0.155\n",
      "Average epoch duration: 7.41 seconds.\n",
      "\n",
      "Test Accuracy : 0.721\n",
      "\n",
      "Classification Report : \n",
      "              precision    recall  f1-score   support\n",
      "\n",
      "    negative       0.72      0.74      0.73      5104\n",
      "    positive       0.72      0.70      0.71      4896\n",
      "\n",
      "    accuracy                           0.72     10000\n",
      "   macro avg       0.72      0.72      0.72     10000\n",
      "weighted avg       0.72      0.72      0.72     10000\n",
      "\n",
      "\n",
      "Confusion Matrix : \n",
      "[[3768 1336]\n",
      " [1457 3439]]\n",
      "--------------------------------------------------------------------------------\n",
      "\n",
      "+------------+-------------+-------------+-------------+-------------+-------------+-------------+\n",
      "|            |        1RNN |     1Bi-RNN |     2Bi-RNN |       1LSTM |    1Bi-LSTM |    2Bi-LSTM |\n",
      "+============+=============+=============+=============+=============+=============+=============+\n",
      "| Accuracy   | 0.7137      | 0.7155      | 0.7102      | 0.7131      | 0.717       | 0.7207      |\n",
      "+------------+-------------+-------------+-------------+-------------+-------------+-------------+\n",
      "| Parameters | 2.91719e+06 | 2.92788e+06 | 2.95271e+06 | 2.94906e+06 | 2.99162e+06 | 3.09095e+06 |\n",
      "+------------+-------------+-------------+-------------+-------------+-------------+-------------+\n",
      "| Time cost  | 6.5928      | 6.66773     | 6.76621     | 6.64112     | 6.92877     | 7.40679     |\n",
      "+------------+-------------+-------------+-------------+-------------+-------------+-------------+\n"
     ]
    }
   ],
   "source": [
    "MAX_WORDS = 25\n",
    "train_dataset, test_dataset, train_loader, test_loader, vocab = preprocess_imdb_data(MAX_WORDS)\n",
    "results = run_imdb_experiments(experimental_configs)\n",
    "print_eval_table(results)"
   ]
  },
  {
   "cell_type": "markdown",
   "metadata": {
    "id": "37TluSBZWXnB"
   },
   "source": [
    "In this new dataset, again more complex models tend to perform slightly better. An exception is the 2Bi-RNN model which performs worse than less complex RNNs. The most complex model (2Bi-LSTM) achieves the best accuracy.\n",
    "\n",
    "Regarding Time cost, the more complex a model, the slower is its average epoch runtime, although the differences in GPU execution is small. The slowest model is again the most complex model, 2Bi-LSTM.\n",
    "\n",
    "Using 2 layers instead of 1, results in lower accuracy in the Bi-RNN models, but improves accuracy of the Bi-LSTM models and leads to the best model: 2Bi-LSTM."
   ]
  }
 ],
 "metadata": {
  "accelerator": "GPU",
  "colab": {
   "provenance": []
  },
  "gpuClass": "standard",
  "kernelspec": {
   "display_name": "Python 3 (ipykernel)",
   "language": "python",
   "name": "python3"
  },
  "language_info": {
   "codemirror_mode": {
    "name": "ipython",
    "version": 3
   },
   "file_extension": ".py",
   "mimetype": "text/x-python",
   "name": "python",
   "nbconvert_exporter": "python",
   "pygments_lexer": "ipython3",
   "version": "3.9.13"
  }
 },
 "nbformat": 4,
 "nbformat_minor": 1
}
