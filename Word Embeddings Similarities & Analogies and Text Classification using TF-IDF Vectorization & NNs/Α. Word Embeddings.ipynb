{
  "cells": [
    {
      "cell_type": "markdown",
      "metadata": {
        "id": "Q0QuQIEaMouW"
      },
      "source": [
        "# NLP Assignment #2\n",
        "### by Prodromos Kampouridis "
      ]
    },
    {
      "cell_type": "markdown",
      "metadata": {
        "id": "AlJsO5EzNGwh"
      },
      "source": [
        "## A. Word embeddings"
      ]
    },
    {
      "cell_type": "markdown",
      "metadata": {
        "id": "dvd2x4UmMu1d"
      },
      "source": [
        "### Import Libraries | Data"
      ]
    },
    {
      "cell_type": "code",
      "execution_count": 1,
      "metadata": {
        "id": "-a2OYWDOPOUd"
      },
      "outputs": [],
      "source": [
        "import gensim.downloader as api"
      ]
    },
    {
      "cell_type": "markdown",
      "metadata": {
        "id": "znD9yw2UPCuk"
      },
      "source": [
        "### Load the pre-trained word embeddings"
      ]
    },
    {
      "cell_type": "code",
      "execution_count": 2,
      "metadata": {
        "colab": {
          "base_uri": "https://localhost:8080/"
        },
        "id": "tBPa9y7uRlfw",
        "outputId": "73f2a679-bdf9-45a9-ea2e-fda54f7e1c77"
      },
      "outputs": [
        {
          "name": "stdout",
          "output_type": "stream",
          "text": [
            "[==================================================] 100.0% 1662.8/1662.8MB downloaded\n"
          ]
        }
      ],
      "source": [
        "wv = api.load('word2vec-google-news-300')"
      ]
    },
    {
      "cell_type": "code",
      "execution_count": 3,
      "metadata": {
        "colab": {
          "base_uri": "https://localhost:8080/"
        },
        "id": "ZKYiT-vsPLKp",
        "outputId": "03978cf1-6c07-4e3d-e12b-5d4b6013ff02"
      },
      "outputs": [
        {
          "name": "stdout",
          "output_type": "stream",
          "text": [
            "[==================================================] 100.0% 376.1/376.1MB downloaded\n"
          ]
        }
      ],
      "source": [
        "glv = api.load('glove-wiki-gigaword-300')"
      ]
    },
    {
      "cell_type": "markdown",
      "metadata": {
        "id": "MKZBeu_MVi2u"
      },
      "source": [
        "### Answers"
      ]
    },
    {
      "cell_type": "markdown",
      "metadata": {
        "id": "pzWRVvzIVl2S"
      },
      "source": [
        "### 1."
      ]
    },
    {
      "cell_type": "markdown",
      "metadata": {
        "id": "vRqW3eZF17db"
      },
      "source": [
        "#### The requested words"
      ]
    },
    {
      "cell_type": "code",
      "execution_count": 4,
      "metadata": {
        "id": "R1u5XRukVodx"
      },
      "outputs": [],
      "source": [
        "words = ['car', 'jaguar', 'Jaguar', 'facebook']"
      ]
    },
    {
      "cell_type": "markdown",
      "metadata": {
        "id": "ldWA6i2I2CoJ"
      },
      "source": [
        "####  Find the 10 most similar words according to the model"
      ]
    },
    {
      "cell_type": "code",
      "execution_count": 5,
      "metadata": {
        "id": "tovRLBJViKSw"
      },
      "outputs": [],
      "source": [
        "def ten_most_similar(model, words, negative=[]):\n",
        "    word_lists = []\n",
        "    for i, word in enumerate(words):\n",
        "        if word in model:\n",
        "            closest_words = [item[0] for item in model.most_similar(positive=[word], negative=negative, topn=10)]\n",
        "            print(f\"{word}: {closest_words}\")\n",
        "            word_lists.append(closest_words)\n",
        "        else:\n",
        "            print(f\"{word}: Word not found in vocabulary\")\n",
        "            word_lists.append([])\n",
        "    return word_lists"
      ]
    },
    {
      "cell_type": "markdown",
      "metadata": {
        "id": "QPrRfKhnV5aL"
      },
      "source": [
        "#### Top 10 most similar words for each word according to word2vec"
      ]
    },
    {
      "cell_type": "code",
      "execution_count": 6,
      "metadata": {
        "colab": {
          "base_uri": "https://localhost:8080/"
        },
        "id": "ytqOAZKPWCHH",
        "outputId": "894cd2be-5f88-403d-b1bf-c0a2d36f2a44"
      },
      "outputs": [
        {
          "name": "stdout",
          "output_type": "stream",
          "text": [
            "car: ['vehicle', 'cars', 'SUV', 'minivan', 'truck', 'Car', 'Ford_Focus', 'Honda_Civic', 'Jeep', 'pickup_truck']\n",
            "jaguar: ['jaguars', 'Macho_B', 'panther', 'lynx', 'rhino', 'lizard', 'tapir', 'tiger', 'leopard', 'Florida_panther']\n",
            "Jaguar: ['Land_Rover', 'Aston_Martin', 'Mercedes', 'Porsche', 'BMW', 'Bentley_Arnage', 'XF_sedan', 'Audi', 'Jaguar_XF', 'XJ_saloon']\n",
            "facebook: ['Facebook', 'FaceBook', 'twitter', 'myspace', 'Twitter', 'twitter_facebook', 'Facebook.com', 'myspace_facebook', 'facebook_twitter', 'linkedin']\n"
          ]
        }
      ],
      "source": [
        "word2vec_word_lists = ten_most_similar(wv, words)"
      ]
    },
    {
      "cell_type": "markdown",
      "metadata": {
        "id": "ucnmpC8tWCxf"
      },
      "source": [
        "#### Top 10 most similar words for each word according to GloVe"
      ]
    },
    {
      "cell_type": "code",
      "execution_count": 7,
      "metadata": {
        "colab": {
          "base_uri": "https://localhost:8080/"
        },
        "id": "EspAWeanWFgp",
        "outputId": "7725475f-ad8a-4718-dabc-1e845535650f"
      },
      "outputs": [
        {
          "name": "stdout",
          "output_type": "stream",
          "text": [
            "car: ['cars', 'vehicle', 'truck', 'driver', 'driving', 'vehicles', 'motorcycle', 'automobile', 'parked', 'drivers']\n",
            "jaguar: ['rover', 'bmw', 'mercedes', 'sepecat', 'mustang', 'lexus', 'volvo', 'cosworth', 'xk', 'maserati']\n",
            "Jaguar: Word not found in vocabulary\n",
            "facebook: ['twitter', 'myspace', 'youtube', 'blog', 'linkedin', 'google', 'website', 'web', 'blogs', 'networking']\n"
          ]
        }
      ],
      "source": [
        "glove_word_lists = ten_most_similar(glv, words)"
      ]
    },
    {
      "cell_type": "markdown",
      "metadata": {
        "id": "DWj9LvC5WVt5"
      },
      "source": [
        "#### Common words between word2vec and GloVe results"
      ]
    },
    {
      "cell_type": "code",
      "execution_count": 8,
      "metadata": {
        "id": "X8sKnP6mz5H4"
      },
      "outputs": [],
      "source": [
        "def common_words(wv_word_lists, glv_word_lists, words):\n",
        "    print(\"Common words between the two models results:\\n\")\n",
        "    for i, word in enumerate(words):\n",
        "        if word in wv and word in glv:\n",
        "            word2vec_closest_words = set(wv_word_lists[i])\n",
        "            glove_closest_words = set(glv_word_lists[i])\n",
        "            common_closest_words = word2vec_closest_words.intersection(glove_closest_words)\n",
        "        else:\n",
        "            common_closest_words = set()\n",
        "        if len(common_closest_words) > 0:\n",
        "            print(f\"{word}: {common_closest_words} (Number of common words: {len(common_closest_words)})\")\n",
        "        else:\n",
        "            print(f\"{word}: No common words\")"
      ]
    },
    {
      "cell_type": "code",
      "execution_count": 9,
      "metadata": {
        "colab": {
          "base_uri": "https://localhost:8080/"
        },
        "id": "4oIAfO5dtaSe",
        "outputId": "a94ec442-5509-495a-8d1b-0cc16cdec747"
      },
      "outputs": [
        {
          "name": "stdout",
          "output_type": "stream",
          "text": [
            "Common words between the two models results:\n",
            "\n",
            "car: {'truck', 'vehicle', 'cars'} (Number of common words: 3)\n",
            "jaguar: No common words\n",
            "Jaguar: No common words\n",
            "facebook: {'linkedin', 'myspace', 'twitter'} (Number of common words: 3)\n"
          ]
        }
      ],
      "source": [
        "# Show the common words \n",
        "common_words(word2vec_word_lists, glove_word_lists, words)"
      ]
    },
    {
      "cell_type": "markdown",
      "metadata": {
        "id": "LnuzdGQpiCjD"
      },
      "source": [
        "### 2."
      ]
    },
    {
      "cell_type": "code",
      "execution_count": 10,
      "metadata": {
        "id": "X68ajZFliDja"
      },
      "outputs": [],
      "source": [
        "words = ['mustang', 'Mustang', 'bill', 'bob']"
      ]
    },
    {
      "cell_type": "markdown",
      "metadata": {
        "id": "9-mHGWEEisWv"
      },
      "source": [
        "#### Top 10 most similar words for each word according to word2vec"
      ]
    },
    {
      "cell_type": "code",
      "execution_count": 11,
      "metadata": {
        "colab": {
          "base_uri": "https://localhost:8080/"
        },
        "id": "BBYKP9QaipC4",
        "outputId": "cee0c700-a5a9-4df5-c077-faab2cc38e18"
      },
      "outputs": [
        {
          "name": "stdout",
          "output_type": "stream",
          "text": [
            "mustang: ['wild_mustang', 'mustangs', 'wild_mustangs', 'quarterhorse', 'Paso_Fino', 'horses', 'burros', 'burro', 'horse', 'appaloosa']\n",
            "Mustang: ['Camaro', 'Corvette', 'Ford_Mustang', 'Mustang_GT', 'SVT_Cobra', 'Camaros', 'Shelby_GT###s', 'Dodge_Challenger', 'Chevy', 'Chevy_Camaro']\n",
            "bill: ['legislation', 'bills', 'amendment', 'HB####', 'omnibus_bill', 'appropriations_bill', 'Legislation', 'Tax_Extenders_Act', 'Senate', 'proposed_constitutional_amendment']\n",
            "bob: ['bobs', 'bangs', 'backcombed', 'flicky', 'wavy_locks', 'sleek_bob', 'pixie_crop', 'auburn_locks', 'maxi_skirts', 'sideswept']\n"
          ]
        }
      ],
      "source": [
        "word2vec_word_lists = ten_most_similar(wv, words)"
      ]
    },
    {
      "cell_type": "markdown",
      "metadata": {
        "id": "glZClRuWjGJ_"
      },
      "source": [
        "#### Top 10 most similar words for each word according to GloVe"
      ]
    },
    {
      "cell_type": "code",
      "execution_count": 12,
      "metadata": {
        "colab": {
          "base_uri": "https://localhost:8080/"
        },
        "id": "soZnJ4nmjGjk",
        "outputId": "0c300abd-335f-454a-eb05-46e3545fab99"
      },
      "outputs": [
        {
          "name": "stdout",
          "output_type": "stream",
          "text": [
            "mustang: ['camaro', 'p-51', 'thunderbird', 'mustangs', 'gt', 'roadster', 'jaguar', 'f-150', 'corvette', 'fastback']\n",
            "Mustang: Word not found in vocabulary\n",
            "bill: ['legislation', 'bills', 'passed', 'measure', 'senate', 'amendment', 'provision', 'proposal', 'amendments', 'enacted']\n",
            "bob: ['tom', 'billy', 'jim', 'robert', 'steve', 'mike', 'dole', 'wilson', 'thompson', 'bobby']\n"
          ]
        }
      ],
      "source": [
        "glove_word_lists = ten_most_similar(glv, words)"
      ]
    },
    {
      "cell_type": "markdown",
      "metadata": {
        "id": "5f_HjtlykJTn"
      },
      "source": [
        "#### Common words between word2vec and GloVe results"
      ]
    },
    {
      "cell_type": "code",
      "execution_count": 13,
      "metadata": {
        "colab": {
          "base_uri": "https://localhost:8080/"
        },
        "id": "XIHb_YYzs_1P",
        "outputId": "a9102734-f083-4e86-ccb9-605694ce9b4d"
      },
      "outputs": [
        {
          "name": "stdout",
          "output_type": "stream",
          "text": [
            "Common words between the two models results:\n",
            "\n",
            "mustang: {'mustangs'} (Number of common words: 1)\n",
            "Mustang: No common words\n",
            "bill: {'amendment', 'bills', 'legislation'} (Number of common words: 3)\n",
            "bob: No common words\n"
          ]
        }
      ],
      "source": [
        "# Show the common words \n",
        "common_words(word2vec_word_lists, glove_word_lists, words)"
      ]
    },
    {
      "cell_type": "markdown",
      "metadata": {
        "id": "CdgqXkgTvt3Q"
      },
      "source": [
        "### 3."
      ]
    },
    {
      "cell_type": "markdown",
      "metadata": {
        "id": "5hpVThAEz7aa"
      },
      "source": [
        "#### Top 10 most similar words for the word 'student'"
      ]
    },
    {
      "cell_type": "markdown",
      "metadata": {
        "id": "C5rlEv0h4o3I"
      },
      "source": [
        "Using word2vec"
      ]
    },
    {
      "cell_type": "code",
      "execution_count": 14,
      "metadata": {
        "colab": {
          "base_uri": "https://localhost:8080/"
        },
        "id": "1K7hB1WMLe1K",
        "outputId": "40d7c9a3-deb4-4054-b1b5-b71f79474ef0"
      },
      "outputs": [
        {
          "name": "stdout",
          "output_type": "stream",
          "text": [
            "student: ['students', 'Student', 'teacher', 'stu_dent', 'faculty', 'school', 'undergraduate', 'university', 'undergraduates', 'semester']\n"
          ]
        }
      ],
      "source": [
        "word2vec_results = ten_most_similar(wv, ['student'])"
      ]
    },
    {
      "cell_type": "markdown",
      "metadata": {
        "id": "oF8kNeEV0VKt"
      },
      "source": [
        "Using GloVe"
      ]
    },
    {
      "cell_type": "code",
      "execution_count": 15,
      "metadata": {
        "colab": {
          "base_uri": "https://localhost:8080/"
        },
        "id": "w1FaXFYmLkea",
        "outputId": "9b775cd4-e62f-4669-ac1e-408731e50114"
      },
      "outputs": [
        {
          "name": "stdout",
          "output_type": "stream",
          "text": [
            "student: ['students', 'teacher', 'graduate', 'school', 'college', 'undergraduate', 'faculty', 'university', 'academic', 'campus']\n"
          ]
        }
      ],
      "source": [
        "glove_results = ten_most_similar(glv, ['student'])"
      ]
    },
    {
      "cell_type": "markdown",
      "metadata": {
        "id": "fjRDusV_1U1k"
      },
      "source": [
        "#### Top 10 most similar words for the word 'student' not related with 'university'"
      ]
    },
    {
      "cell_type": "markdown",
      "metadata": {
        "id": "bp8ilodt4LjG"
      },
      "source": [
        "Using word2vec "
      ]
    },
    {
      "cell_type": "code",
      "execution_count": 16,
      "metadata": {
        "colab": {
          "base_uri": "https://localhost:8080/"
        },
        "id": "ANcM9eMhLtcO",
        "outputId": "c21cfa0c-321a-4254-a50c-49338f8e5318"
      },
      "outputs": [
        {
          "name": "stdout",
          "output_type": "stream",
          "text": [
            "student: ['sixth_grader', 'seventh_grader', '8th_grader', 'eighth_grader', 'grader', 'kindergartner', 'kindergartener', 'Kindergartner', 'teen', 'middle_schooler']\n"
          ]
        }
      ],
      "source": [
        "word2vec_results = ten_most_similar(wv, ['student'], negative=['university'])"
      ]
    },
    {
      "cell_type": "markdown",
      "metadata": {
        "id": "EGZi_BmU2H1c"
      },
      "source": [
        "Using GloVe "
      ]
    },
    {
      "cell_type": "code",
      "execution_count": 17,
      "metadata": {
        "colab": {
          "base_uri": "https://localhost:8080/"
        },
        "id": "7zxszZylL1RL",
        "outputId": "ccff03ed-98d5-4fa6-8a76-9ba4a5013b3c"
      },
      "outputs": [
        {
          "name": "stdout",
          "output_type": "stream",
          "text": [
            "student: ['15-year', '16-year', '17-year', '14-year', '13-year-old', '14-year-old', '9-year', '16-year-old', '15-year-old', '12-year-old']\n"
          ]
        }
      ],
      "source": [
        "glove_results = ten_most_similar(glv, ['student'], negative=['university'])"
      ]
    },
    {
      "cell_type": "markdown",
      "metadata": {
        "id": "kHtNf23y286s"
      },
      "source": [
        "#### Top 10 most similar words for the word 'student' not related with Elementary, Middle and High school"
      ]
    },
    {
      "cell_type": "markdown",
      "metadata": {
        "id": "FRNgpIq43-Ll"
      },
      "source": [
        "Using word2vec "
      ]
    },
    {
      "cell_type": "code",
      "execution_count": 18,
      "metadata": {
        "colab": {
          "base_uri": "https://localhost:8080/"
        },
        "id": "zf7qFpeXL61E",
        "outputId": "19ad220a-4c1f-46d8-882d-255567410475"
      },
      "outputs": [
        {
          "name": "stdout",
          "output_type": "stream",
          "text": [
            "student: ['doctoral_student', 'Graduate_Student', 'Student', 'doctoral_candidate', 'prof', 'Undergraduate_Student', 'researcher', \"CSOM_'##\", 'pharmacologist', 'Undergraduate']\n"
          ]
        }
      ],
      "source": [
        "word2vec_results = ten_most_similar(wv, ['student'], negative=['school'])"
      ]
    },
    {
      "cell_type": "markdown",
      "metadata": {
        "id": "pQTQLbrr3p4N"
      },
      "source": [
        "Using GloVe "
      ]
    },
    {
      "cell_type": "code",
      "execution_count": 19,
      "metadata": {
        "colab": {
          "base_uri": "https://localhost:8080/"
        },
        "id": "yM9UEOKTL-di",
        "outputId": "09400e03-edb3-4b97-cdd4-4ae9fbaa0031"
      },
      "outputs": [
        {
          "name": "stdout",
          "output_type": "stream",
          "text": [
            "student: ['22-year-old', 'premed', '23-year-old', 'twenty-year-old', 'afshari', 'demonstrator', 'farzaneh', 'suada', '21-year-old', '25-year']\n"
          ]
        }
      ],
      "source": [
        "glove_results = ten_most_similar(glv, ['student'], negative=['school'])"
      ]
    },
    {
      "cell_type": "markdown",
      "metadata": {
        "id": "qWUHVUWG6WfP"
      },
      "source": [
        "### 4."
      ]
    },
    {
      "cell_type": "code",
      "execution_count": 20,
      "metadata": {
        "id": "tgdKt4aRgxIa"
      },
      "outputs": [],
      "source": [
        "def find_analogies(model, analogies):\n",
        "    for word1, word2, word3 in analogies:\n",
        "        try:\n",
        "            print(f\"{word1} - {word2} + {word3} = \")\n",
        "            result = model.most_similar(positive=[word1, word3], negative=[word2], topn=2)\n",
        "            words = [f\"{word}: {sim:.4f}\" for word, sim in result]\n",
        "            print(f\"{', '.join(words)}\")\n",
        "            print()\n",
        "        except KeyError as e:\n",
        "            print(f\"One of the words in ({word1}, {word2}, {word3}) not found in vocabulary.\\n\")"
      ]
    },
    {
      "cell_type": "markdown",
      "metadata": {
        "id": "Yy_G0xrghxA-"
      },
      "source": [
        "#### The requested analogies"
      ]
    },
    {
      "cell_type": "code",
      "execution_count": 21,
      "metadata": {
        "id": "oDI55mHigyNo"
      },
      "outputs": [],
      "source": [
        "analogies = [\n",
        "    (\"king\", \"man\", \"woman\"),\n",
        "    (\"France\", \"Paris\", \"Tokyo\"),\n",
        "    (\"trees\", \"apples\", \"grapes\"),\n",
        "    (\"swimming\", \"walking\", \"walked\"),\n",
        "    (\"doctor\", \"father\", \"mother\")\n",
        "]"
      ]
    },
    {
      "cell_type": "markdown",
      "metadata": {
        "id": "vZSj_8OvhLYB"
      },
      "source": [
        "#### Using word2vec "
      ]
    },
    {
      "cell_type": "code",
      "execution_count": 22,
      "metadata": {
        "colab": {
          "base_uri": "https://localhost:8080/"
        },
        "id": "ISatWzu-gyVg",
        "outputId": "01d09ed0-c210-4856-dc5f-7cc0e49af330"
      },
      "outputs": [
        {
          "name": "stdout",
          "output_type": "stream",
          "text": [
            "king - man + woman = \n",
            "queen: 0.7118, monarch: 0.6190\n",
            "\n",
            "France - Paris + Tokyo = \n",
            "Japan: 0.8168, Japanese: 0.6481\n",
            "\n",
            "trees - apples + grapes = \n",
            "oak_trees: 0.6750, vines: 0.6702\n",
            "\n",
            "swimming - walking + walked = \n",
            "swam: 0.6926, swim: 0.6725\n",
            "\n",
            "doctor - father + mother = \n",
            "nurse: 0.7128, doctors: 0.6593\n",
            "\n"
          ]
        }
      ],
      "source": [
        "find_analogies(wv, analogies)"
      ]
    },
    {
      "cell_type": "markdown",
      "metadata": {
        "id": "qWoWFRQYhORJ"
      },
      "source": [
        "#### Using GloVe "
      ]
    },
    {
      "cell_type": "code",
      "execution_count": 23,
      "metadata": {
        "colab": {
          "base_uri": "https://localhost:8080/"
        },
        "id": "uKZwrz1Gg-g5",
        "outputId": "8d3abc52-b75f-4c45-bfcc-f56cd051c7a2"
      },
      "outputs": [
        {
          "name": "stdout",
          "output_type": "stream",
          "text": [
            "king - man + woman = \n",
            "queen: 0.6713, princess: 0.5433\n",
            "\n",
            "France - Paris + Tokyo = \n",
            "One of the words in (France, Paris, Tokyo) not found in vocabulary.\n",
            "\n",
            "trees - apples + grapes = \n",
            "vines: 0.5909, tree: 0.5843\n",
            "\n",
            "swimming - walking + walked = \n",
            "swam: 0.4978, swimmers: 0.4852\n",
            "\n",
            "doctor - father + mother = \n",
            "nurse: 0.6570, doctors: 0.6172\n",
            "\n"
          ]
        }
      ],
      "source": [
        "find_analogies(glv, analogies)"
      ]
    },
    {
      "cell_type": "markdown",
      "metadata": {
        "id": "WEXnO-Tw-zoj"
      },
      "source": [
        "### 5."
      ]
    },
    {
      "cell_type": "markdown",
      "metadata": {
        "id": "d_myDq_6GFBc"
      },
      "source": [
        "#### Repeating the previous task with 3 new analogies of my choice"
      ]
    },
    {
      "cell_type": "code",
      "execution_count": 24,
      "metadata": {
        "id": "WAFyWrNxG65M"
      },
      "outputs": [],
      "source": [
        "new_analogies = [\n",
        "    (\"computer_programmer\", \"man\", \"woman\"),\n",
        "    (\"eyes\", \"see\", \"hear\"),\n",
        "    (\"groom\", \"man\", \"woman\")\n",
        "]"
      ]
    },
    {
      "cell_type": "markdown",
      "metadata": {
        "id": "sIwcsx0khk4Q"
      },
      "source": [
        "#### Using word2vec "
      ]
    },
    {
      "cell_type": "code",
      "execution_count": 25,
      "metadata": {
        "colab": {
          "base_uri": "https://localhost:8080/"
        },
        "id": "Noz8GFdQajPz",
        "outputId": "c957f257-5bfa-4977-c58c-b2087bcfe6ab"
      },
      "outputs": [
        {
          "name": "stdout",
          "output_type": "stream",
          "text": [
            "computer_programmer - man + woman = \n",
            "homemaker: 0.5627, housewife: 0.5105\n",
            "\n",
            "eyes - see + hear = \n",
            "ears: 0.6380, ear: 0.5290\n",
            "\n",
            "groom - man + woman = \n",
            "bride: 0.6800, Mohammad_Rassool_cousin: 0.6375\n",
            "\n"
          ]
        }
      ],
      "source": [
        "find_analogies(wv, new_analogies)"
      ]
    },
    {
      "cell_type": "markdown",
      "metadata": {
        "id": "_VSIUdgmhjQ1"
      },
      "source": [
        "#### Using GloVe "
      ]
    },
    {
      "cell_type": "code",
      "execution_count": 26,
      "metadata": {
        "colab": {
          "base_uri": "https://localhost:8080/"
        },
        "id": "pB-E0zrSajSc",
        "outputId": "bf9183f9-55a1-4249-853d-b18a86e2b098"
      },
      "outputs": [
        {
          "name": "stdout",
          "output_type": "stream",
          "text": [
            "computer_programmer - man + woman = \n",
            "One of the words in (computer_programmer, man, woman) not found in vocabulary.\n",
            "\n",
            "eyes - see + hear = \n",
            "ears: 0.5937, heard: 0.5364\n",
            "\n",
            "groom - man + woman = \n",
            "bride: 0.6347, wedding: 0.4721\n",
            "\n"
          ]
        }
      ],
      "source": [
        "find_analogies(glv, new_analogies)"
      ]
    }
  ],
  "metadata": {
    "colab": {
      "provenance": []
    },
    "kernelspec": {
      "display_name": "Python 3",
      "name": "python3"
    },
    "language_info": {
      "name": "python"
    }
  },
  "nbformat": 4,
  "nbformat_minor": 0
}
