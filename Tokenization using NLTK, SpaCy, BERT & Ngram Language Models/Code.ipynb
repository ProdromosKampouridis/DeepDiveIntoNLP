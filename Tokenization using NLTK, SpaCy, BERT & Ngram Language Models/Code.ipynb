{
 "cells": [
  {
   "cell_type": "markdown",
   "id": "f1a59376",
   "metadata": {},
   "source": [
    "# NLP Assignment #1\n",
    "### by Prodromos Kampouridis"
   ]
  },
  {
   "cell_type": "markdown",
   "id": "b1e61751",
   "metadata": {},
   "source": [
    "## A. Tokens, Types, Zipf's Law"
   ]
  },
  {
   "cell_type": "markdown",
   "id": "0f708fb2",
   "metadata": {},
   "source": [
    "### Import Libraries | Data"
   ]
  },
  {
   "cell_type": "code",
   "execution_count": 1,
   "id": "5bd360bf",
   "metadata": {},
   "outputs": [
    {
     "name": "stderr",
     "output_type": "stream",
     "text": [
      "None of PyTorch, TensorFlow >= 2.0, or Flax have been found. Models won't be available and only tokenizers, configuration and file/data utilities can be used.\n"
     ]
    }
   ],
   "source": [
    "import nltk\n",
    "import spacy\n",
    "from transformers import BertTokenizer\n",
    "import numpy as np\n",
    "import random\n",
    "import matplotlib.pyplot as plt\n",
    "\n",
    "\n",
    "# load the file\n",
    "with open('wsj_untokenized.txt', 'r') as f:\n",
    "    text = f.read()"
   ]
  },
  {
   "cell_type": "markdown",
   "id": "72583bec",
   "metadata": {},
   "source": [
    "### Useful Functions"
   ]
  },
  {
   "cell_type": "code",
   "execution_count": 2,
   "id": "596c3b83",
   "metadata": {},
   "outputs": [],
   "source": [
    "def print_top_tokens(tokens, tokenizer_name):\n",
    "    # Create a dictionary to store the frequency of each token\n",
    "    freq_dict = {}\n",
    "    for token in tokens:\n",
    "        freq_dict[token] = freq_dict.get(token, 0) + 1\n",
    "    \n",
    "    # Compute the probabilities and products\n",
    "    probs = {token: freq_dict[token] / len(tokens) for token in set(tokens)}\n",
    "    products = {token: (i+1) * probs[token] for i, token in enumerate(sorted(set(tokens), key=freq_dict.get, reverse=True))}\n",
    "\n",
    "    # Sort the tokens by decreasing frequency\n",
    "    sorted_tokens = sorted(set(tokens), key=freq_dict.get, reverse=True)\n",
    "\n",
    "    # Print the top 20 with their counts, probabilities, and products\n",
    "    print(f\"Top 20 tokens with {tokenizer_name} tokenizer:\")\n",
    "    print(\"{:<10}{:<10}{:<10}{:<20}{:<20}\".format(\"Rank\", \"Token\", \"Count\", \"Probability\", \"Rank*Probability\"))\n",
    "    for i, token in enumerate(sorted_tokens[:20]):\n",
    "        count = freq_dict[token]\n",
    "        prob = probs[token]\n",
    "        prod = products[token]\n",
    "        print(\"{:<10}{:<10}{:<10}{:<20.4f}{:<20.4f}\".format((i+1), token, count, prob, prod))\n",
    "\n",
    "\n",
    "def print_token_percentages(tokens, tokenizer_name):\n",
    "    # Create a dictionary to store the frequency of each token\n",
    "    freq_dict = {}\n",
    "    for token in tokens:\n",
    "        freq_dict[token] = freq_dict.get(token, 0) + 1\n",
    "\n",
    "    # Compute the number of tokens that appear n times\n",
    "    n_counts = {}\n",
    "    for freq in freq_dict.values():\n",
    "        if freq not in n_counts:\n",
    "            n_counts[freq] = 1\n",
    "        else:\n",
    "            n_counts[freq] += 1\n",
    "\n",
    "    num_types = len(freq_dict)\n",
    "    # Compute the percentages and Zipf's law prediction\n",
    "    for n in range(1, 4):\n",
    "        if n in n_counts:\n",
    "            perc = n_counts[n] / num_types * 100\n",
    "        else:\n",
    "            perc = 0\n",
    "        zipf_perc = 1 / (n * (n + 1)) * 100\n",
    "        print(f\"Percentage of tokens that appear exactly {n} times with {tokenizer_name} tokenizer:\", \"{:.2f}% (Zipf's Law prediction: {:.2f}%)\".format(perc, zipf_perc))\n",
    "\n",
    "\n",
    "\n",
    "def zipfs_law_plot(tokens, tokenizer_name):\n",
    "    # Create a dictionary to store the frequency of each token\n",
    "    freq_dict = {}\n",
    "    for token in tokens:\n",
    "        freq_dict[token] = freq_dict.get(token, 0) + 1\n",
    "\n",
    "    # Sort the tokens by frequency in descending order\n",
    "    sorted_tokens = sorted(freq_dict.items(), key=lambda x: x[1], reverse=True)\n",
    "\n",
    "    # Compute the total number of tokens\n",
    "    total_tokens = sum(freq_dict.values())\n",
    "\n",
    "    # Compute the constant A for Zipf's Law\n",
    "    best_A = None\n",
    "    best_error = float('inf')\n",
    "    for A in np.arange(0.1, 1.1, 0.1):\n",
    "        error = sum([(i+1)*freq_dict*1.0/total_tokens - A for i, (token, freq_dict) in enumerate(sorted_tokens)])\n",
    "        if abs(error) < best_error:\n",
    "            best_A = A\n",
    "            best_error = abs(error)\n",
    "\n",
    "    # Compute the x and y values for the plot\n",
    "    x = np.arange(1, len(sorted_tokens)+1)\n",
    "    y1 = np.array([freq for token, freq in sorted_tokens])\n",
    "    y2 = best_A / x\n",
    "\n",
    "    # Plot the actual measurements and the predictions of Zipf's Law\n",
    "    plt.figure(figsize=(10, 6))\n",
    "    plt.scatter(x, y1/total_tokens, c='blue', alpha=0.5, label='Actual')\n",
    "    plt.plot(x, y2, c='red', alpha=0.8, label='Zipf\\'s Law')\n",
    "    plt.xscale('log')\n",
    "    plt.yscale('log')\n",
    "    plt.xlabel('Rank')\n",
    "    plt.ylabel('Frequency')\n",
    "    plt.title(f'Zipf\\'s Law (A={best_A})')\n",
    "    plt.legend()\n",
    "    plt.show()"
   ]
  },
  {
   "cell_type": "markdown",
   "id": "9f2a6118",
   "metadata": {},
   "source": [
    "### Applying Methods"
   ]
  },
  {
   "cell_type": "markdown",
   "id": "cb39bfe7",
   "metadata": {},
   "source": [
    "### Using NLTK"
   ]
  },
  {
   "cell_type": "markdown",
   "id": "1186ee6d",
   "metadata": {},
   "source": [
    "#### Tokenization using nltk.word_tokenize()"
   ]
  },
  {
   "cell_type": "code",
   "execution_count": 3,
   "id": "63271db9",
   "metadata": {},
   "outputs": [],
   "source": [
    "tokens_nltk = nltk.word_tokenize(text)"
   ]
  },
  {
   "cell_type": "markdown",
   "id": "db37995d",
   "metadata": {},
   "source": [
    "### Answers"
   ]
  },
  {
   "cell_type": "markdown",
   "id": "ae5c48ea",
   "metadata": {},
   "source": [
    "#### 1. Total number of tokens"
   ]
  },
  {
   "cell_type": "code",
   "execution_count": 4,
   "id": "311c0bbc",
   "metadata": {},
   "outputs": [
    {
     "name": "stdout",
     "output_type": "stream",
     "text": [
      "Total number of tokens: 93530\n"
     ]
    }
   ],
   "source": [
    "print(\"Total number of tokens:\", len(tokens_nltk))"
   ]
  },
  {
   "cell_type": "markdown",
   "id": "83ebc391",
   "metadata": {},
   "source": [
    "#### 2. Number of unique tokens (types)"
   ]
  },
  {
   "cell_type": "code",
   "execution_count": 5,
   "id": "dd42e6f7",
   "metadata": {},
   "outputs": [
    {
     "name": "stdout",
     "output_type": "stream",
     "text": [
      "Total number of types: 12000\n"
     ]
    }
   ],
   "source": [
    "types_nltk = set(tokens_nltk)\n",
    "print(\"Total number of types:\", len(types_nltk))"
   ]
  },
  {
   "cell_type": "markdown",
   "id": "978d53a3",
   "metadata": {},
   "source": [
    "#### 3. List of tokens for a random sentence"
   ]
  },
  {
   "cell_type": "code",
   "execution_count": 6,
   "id": "88a2fc3e",
   "metadata": {},
   "outputs": [
    {
     "name": "stdout",
     "output_type": "stream",
     "text": [
      "Random sentence: Reserves traded among commercial banks for overnight use in amounts of $1 million or more.\n",
      "Tokens: ['Reserves', 'traded', 'among', 'commercial', 'banks', 'for', 'overnight', 'use', 'in', 'amounts', 'of', '$', '1', 'million', 'or', 'more', '.']\n"
     ]
    }
   ],
   "source": [
    "random_sentence = random.choice(nltk.sent_tokenize(text))\n",
    "print(\"Random sentence:\", random_sentence)\n",
    "print(\"Tokens:\", nltk.word_tokenize(random_sentence))"
   ]
  },
  {
   "cell_type": "markdown",
   "id": "dedf0f49",
   "metadata": {},
   "source": [
    "#### 4. Τable of top 20 most frequent tokens"
   ]
  },
  {
   "cell_type": "code",
   "execution_count": 6,
   "id": "fd5f43d5",
   "metadata": {},
   "outputs": [
    {
     "name": "stdout",
     "output_type": "stream",
     "text": [
      "Top 20 tokens with NLTK tokenizer:\n",
      "Rank      Token     Count     Probability         Rank*Probability    \n",
      "1         ,         4823      0.0516              0.0516              \n",
      "2         the       4041      0.0432              0.0864              \n",
      "3         .         3819      0.0408              0.1225              \n",
      "4         of        2312      0.0247              0.0989              \n",
      "5         to        2157      0.0231              0.1153              \n",
      "6         a         1857      0.0199              0.1191              \n",
      "7         in        1563      0.0167              0.1170              \n",
      "8         and       1489      0.0159              0.1274              \n",
      "9         ''        959       0.0103              0.0923              \n",
      "10        's        863       0.0092              0.0923              \n",
      "11        for       815       0.0087              0.0959              \n",
      "12        that      807       0.0086              0.1035              \n",
      "13        The       714       0.0076              0.0992              \n",
      "14        $         708       0.0076              0.1060              \n",
      "15        is        671       0.0072              0.1076              \n",
      "16        said      627       0.0067              0.1073              \n",
      "17        on        489       0.0052              0.0889              \n",
      "18        it        475       0.0051              0.0914              \n",
      "19        %         446       0.0048              0.0906              \n",
      "20        by        427       0.0046              0.0913              \n"
     ]
    }
   ],
   "source": [
    "print_top_tokens(tokens_nltk, 'NLTK')"
   ]
  },
  {
   "cell_type": "markdown",
   "id": "5d415a76",
   "metadata": {},
   "source": [
    "#### 5. Percentage of tokens that appear once, twice, and three times"
   ]
  },
  {
   "cell_type": "code",
   "execution_count": 7,
   "id": "bb726ca9",
   "metadata": {},
   "outputs": [
    {
     "name": "stdout",
     "output_type": "stream",
     "text": [
      "Percentage of tokens that appear exactly 1 times with NLTK tokenizer: 52.12% (Zipf's Law prediction: 50.00%)\n",
      "Percentage of tokens that appear exactly 2 times with NLTK tokenizer: 15.25% (Zipf's Law prediction: 16.67%)\n",
      "Percentage of tokens that appear exactly 3 times with NLTK tokenizer: 7.52% (Zipf's Law prediction: 8.33%)\n"
     ]
    }
   ],
   "source": [
    "print_token_percentages(tokens_nltk, 'NLTK')"
   ]
  },
  {
   "cell_type": "markdown",
   "id": "c8386814",
   "metadata": {},
   "source": [
    "#### 6. Best value for constant A and the plot of Zipf's Law"
   ]
  },
  {
   "cell_type": "code",
   "execution_count": 8,
   "id": "b7ac577c",
   "metadata": {},
   "outputs": [
    {
     "data": {
      "image/png": "[encoded data removed]",
      "text/plain": [
       "<Figure size 1000x600 with 1 Axes>"
      ]
     },
     "metadata": {},
     "output_type": "display_data"
    }
   ],
   "source": [
    "zipfs_law_plot(tokens_nltk, 'NLTK')"
   ]
  },
  {
   "cell_type": "markdown",
   "id": "4e8a818f",
   "metadata": {},
   "source": [
    "### Using spaCy"
   ]
  },
  {
   "cell_type": "markdown",
   "id": "3568d125",
   "metadata": {},
   "source": [
    "#### Load English language model"
   ]
  },
  {
   "cell_type": "code",
   "execution_count": 9,
   "id": "32975197",
   "metadata": {},
   "outputs": [],
   "source": [
    "nlp = spacy.load('en_core_web_sm')"
   ]
  },
  {
   "cell_type": "markdown",
   "id": "f7bec592",
   "metadata": {},
   "source": [
    "#### Tokenization using spaCy"
   ]
  },
  {
   "cell_type": "code",
   "execution_count": 10,
   "id": "0d51709f",
   "metadata": {},
   "outputs": [],
   "source": [
    "doc = nlp(text)\n",
    "tokens_spacy = [token.text for token in doc]"
   ]
  },
  {
   "cell_type": "markdown",
   "id": "f470aa45",
   "metadata": {},
   "source": [
    "### Answers"
   ]
  },
  {
   "cell_type": "markdown",
   "id": "ccac36c2",
   "metadata": {},
   "source": [
    "#### 1. Total number of tokens"
   ]
  },
  {
   "cell_type": "code",
   "execution_count": 11,
   "id": "fb96c10d",
   "metadata": {},
   "outputs": [
    {
     "name": "stdout",
     "output_type": "stream",
     "text": [
      "Total number of tokens: 95894\n"
     ]
    }
   ],
   "source": [
    "total_tokens = len(doc)\n",
    "print(\"Total number of tokens:\", total_tokens)"
   ]
  },
  {
   "cell_type": "markdown",
   "id": "93316c68",
   "metadata": {},
   "source": [
    "#### 2. Number of unique tokens (types)"
   ]
  },
  {
   "cell_type": "code",
   "execution_count": 12,
   "id": "57b6667c",
   "metadata": {},
   "outputs": [
    {
     "name": "stdout",
     "output_type": "stream",
     "text": [
      "Total number of types: 11477\n"
     ]
    }
   ],
   "source": [
    "types = set([token.text for token in doc])\n",
    "num_types = len(types)\n",
    "print(\"Total number of types:\", num_types)"
   ]
  },
  {
   "cell_type": "markdown",
   "id": "c555a692",
   "metadata": {},
   "source": [
    "#### 3. List of tokens for a random sentence"
   ]
  },
  {
   "cell_type": "code",
   "execution_count": 14,
   "id": "237e6fcf",
   "metadata": {},
   "outputs": [
    {
     "name": "stdout",
     "output_type": "stream",
     "text": [
      "Random sentence: New York-based POP Radio provides, through a national, in-store network, a customized music, information and advertising service which simulates live radio.\n",
      "Tokens: ['New', 'York', '-', 'based', 'POP', 'Radio', 'provides', ',', 'through', 'a', 'national', ',', 'in', '-', 'store', 'network', ',', 'a', 'customized', 'music', ',', 'information', 'and', 'advertising', 'service', 'which', 'simulates', 'live', 'radio', '.']\n"
     ]
    },
    {
     "name": "stderr",
     "output_type": "stream",
     "text": [
      "C:\\Users\\makis\\AppData\\Local\\Temp\\ipykernel_596\\2152263922.py:1: VisibleDeprecationWarning: Creating an ndarray from ragged nested sequences (which is a list-or-tuple of lists-or-tuples-or ndarrays with different lengths or shapes) is deprecated. If you meant to do this, you must specify 'dtype=object' when creating the ndarray.\n",
      "  random_sentence = np.random.choice(list(doc.sents))\n"
     ]
    }
   ],
   "source": [
    "random_sentence = np.random.choice(list(doc.sents))\n",
    "print(\"Random sentence:\", random_sentence.text)\n",
    "print(\"Tokens:\", [token.text for token in random_sentence])"
   ]
  },
  {
   "cell_type": "markdown",
   "id": "2f4663fd",
   "metadata": {},
   "source": [
    "#### 4. Τable of top 20 most frequent tokens"
   ]
  },
  {
   "cell_type": "code",
   "execution_count": 13,
   "id": "c269bcb0",
   "metadata": {},
   "outputs": [
    {
     "name": "stdout",
     "output_type": "stream",
     "text": [
      "Top 20 tokens with spaCy tokenizer:\n",
      "Rank      Token     Count     Probability         Rank*Probability    \n",
      "1         ,         4823      0.0503              0.0503              \n",
      "2         the       4047      0.0422              0.0844              \n",
      "3         .         3761      0.0392              0.1177              \n",
      "4         of        2313      0.0241              0.0965              \n",
      "5         to        2162      0.0225              0.1127              \n",
      "6         a         1868      0.0195              0.1169              \n",
      "7         in        1576      0.0164              0.1150              \n",
      "8         and       1496      0.0156              0.1248              \n",
      "9         ''        1372      0.0143              0.1288              \n",
      "10        -         1231      0.0128              0.1284              \n",
      "11        's        863       0.0090              0.0990              \n",
      "12        for       815       0.0085              0.1020              \n",
      "13        that      807       0.0084              0.1094              \n",
      "14        The       714       0.0074              0.1042              \n",
      "15        $         702       0.0073              0.1098              \n",
      "16        is        671       0.0070              0.1120              \n",
      "17        said      627       0.0065              0.1112              \n",
      "18        on        491       0.0051              0.0922              \n",
      "19        it        476       0.0050              0.0943              \n",
      "20        %         444       0.0046              0.0926              \n"
     ]
    }
   ],
   "source": [
    "print_top_tokens(tokens_spacy, 'spaCy')"
   ]
  },
  {
   "cell_type": "markdown",
   "id": "97a56d48",
   "metadata": {},
   "source": [
    "#### 5. Percentage of tokens that appear once, twice, and three times"
   ]
  },
  {
   "cell_type": "code",
   "execution_count": 14,
   "id": "8db65049",
   "metadata": {},
   "outputs": [
    {
     "name": "stdout",
     "output_type": "stream",
     "text": [
      "Percentage of tokens that appear exactly 1 times with spaCy tokenizer: 50.07% (Zipf's Law prediction: 50.00%)\n",
      "Percentage of tokens that appear exactly 2 times with spaCy tokenizer: 15.60% (Zipf's Law prediction: 16.67%)\n",
      "Percentage of tokens that appear exactly 3 times with spaCy tokenizer: 7.70% (Zipf's Law prediction: 8.33%)\n"
     ]
    }
   ],
   "source": [
    "print_token_percentages(tokens_spacy, \"spaCy\")"
   ]
  },
  {
   "cell_type": "markdown",
   "id": "3cee62a8",
   "metadata": {},
   "source": [
    "#### 6. Best value for constant A and the plot of Zipf's Law"
   ]
  },
  {
   "cell_type": "code",
   "execution_count": 15,
   "id": "795230b6",
   "metadata": {},
   "outputs": [
    {
     "data": {
      "image/png": "[encoded data removed]",
      "text/plain": [
       "<Figure size 1000x600 with 1 Axes>"
      ]
     },
     "metadata": {},
     "output_type": "display_data"
    }
   ],
   "source": [
    "zipfs_law_plot(tokens_spacy, \"spaCy\")"
   ]
  },
  {
   "cell_type": "markdown",
   "id": "131a1a40",
   "metadata": {},
   "source": [
    "### Using BertTokenizer"
   ]
  },
  {
   "cell_type": "markdown",
   "id": "5448ada9",
   "metadata": {},
   "source": [
    "#### Tokenization using BertTokenizer"
   ]
  },
  {
   "cell_type": "code",
   "execution_count": 16,
   "id": "da504143",
   "metadata": {},
   "outputs": [],
   "source": [
    "tokenizer = BertTokenizer.from_pretrained('bert-base-cased')\n",
    "tokens_bert = tokenizer.tokenize(text)"
   ]
  },
  {
   "cell_type": "markdown",
   "id": "102c2142",
   "metadata": {},
   "source": [
    "### Answers"
   ]
  },
  {
   "cell_type": "markdown",
   "id": "016993d3",
   "metadata": {},
   "source": [
    "#### 1. Total number of tokens"
   ]
  },
  {
   "cell_type": "code",
   "execution_count": 17,
   "id": "cf02150d",
   "metadata": {},
   "outputs": [
    {
     "name": "stdout",
     "output_type": "stream",
     "text": [
      "Total number of tokens: 112325\n"
     ]
    }
   ],
   "source": [
    "print(\"Total number of tokens:\", len(tokens_bert))"
   ]
  },
  {
   "cell_type": "markdown",
   "id": "2a5da87b",
   "metadata": {},
   "source": [
    "#### 2. Number of unique tokens (types)"
   ]
  },
  {
   "cell_type": "code",
   "execution_count": 18,
   "id": "14c4af7e",
   "metadata": {},
   "outputs": [
    {
     "name": "stdout",
     "output_type": "stream",
     "text": [
      "Total number of types: 10266\n"
     ]
    }
   ],
   "source": [
    "types_bert = set(tokens_bert)\n",
    "print(\"Total number of types:\", len(types_bert))"
   ]
  },
  {
   "cell_type": "markdown",
   "id": "e1beadf6",
   "metadata": {},
   "source": [
    "#### 3. List of tokens for a random sentence"
   ]
  },
  {
   "cell_type": "code",
   "execution_count": 19,
   "id": "cdbe679e",
   "metadata": {},
   "outputs": [
    {
     "name": "stdout",
     "output_type": "stream",
     "text": [
      "Random sentence: Alan Spoon, recently named Newsweek president, said Newsweek's ad rates would increase 5% in January.\n",
      "Tokens: ['Alan', 'S', '##poon', ',', 'recently', 'named', 'News', '##week', 'president', ',', 'said', 'News', '##week', \"'\", 's', 'ad', 'rates', 'would', 'increase', '5', '%', 'in', 'January', '.']\n"
     ]
    }
   ],
   "source": [
    "random_sentence = \"Alan Spoon, recently named Newsweek president, said Newsweek's ad rates would increase 5% in January.\"\n",
    "sentence_tokens = tokenizer.tokenize(random_sentence)\n",
    "print(\"Random sentence:\", random_sentence.strip())\n",
    "print(\"Tokens:\", sentence_tokens)"
   ]
  },
  {
   "cell_type": "markdown",
   "id": "2b855b37",
   "metadata": {},
   "source": [
    "#### 4. Τable of top 20 most frequent tokens"
   ]
  },
  {
   "cell_type": "code",
   "execution_count": 20,
   "id": "e7ead679",
   "metadata": {},
   "outputs": [
    {
     "name": "stdout",
     "output_type": "stream",
     "text": [
      "Top 20 tokens with BertTokenizer tokenizer:\n",
      "Rank      Token     Count     Probability         Rank*Probability    \n",
      "1         .         6363      0.0566              0.0566              \n",
      "2         ,         5026      0.0447              0.0895              \n",
      "3         '         4117      0.0367              0.1100              \n",
      "4         the       4049      0.0360              0.1442              \n",
      "5         of        2314      0.0206              0.1030              \n",
      "6         to        2167      0.0193              0.1158              \n",
      "7         a         1927      0.0172              0.1201              \n",
      "8         -         1733      0.0154              0.1234              \n",
      "9         in        1600      0.0142              0.1282              \n",
      "10        and       1498      0.0133              0.1334              \n",
      "11        s         932       0.0083              0.0913              \n",
      "12        for       815       0.0073              0.0871              \n",
      "13        that      807       0.0072              0.0934              \n",
      "14        The       715       0.0064              0.0891              \n",
      "15        $         708       0.0063              0.0945              \n",
      "16        ##s       686       0.0061              0.0977              \n",
      "17        is        628       0.0056              0.0950              \n",
      "18        said      627       0.0056              0.1005              \n",
      "19        on        492       0.0044              0.0832              \n",
      "20        it        476       0.0042              0.0848              \n"
     ]
    }
   ],
   "source": [
    "print_top_tokens(tokens_bert, 'BertTokenizer')"
   ]
  },
  {
   "cell_type": "markdown",
   "id": "84a4c098",
   "metadata": {},
   "source": [
    "#### 5. Percentage of tokens that appear once, twice, and three times"
   ]
  },
  {
   "cell_type": "code",
   "execution_count": 21,
   "id": "4cebdbd9",
   "metadata": {},
   "outputs": [
    {
     "name": "stdout",
     "output_type": "stream",
     "text": [
      "Percentage of tokens that appear exactly 1 times with BertTokenizer tokenizer: 37.51% (Zipf's Law prediction: 50.00%)\n",
      "Percentage of tokens that appear exactly 2 times with BertTokenizer tokenizer: 16.79% (Zipf's Law prediction: 16.67%)\n",
      "Percentage of tokens that appear exactly 3 times with BertTokenizer tokenizer: 9.24% (Zipf's Law prediction: 8.33%)\n"
     ]
    }
   ],
   "source": [
    "print_token_percentages(tokens_bert, 'BertTokenizer')"
   ]
  },
  {
   "cell_type": "markdown",
   "id": "d4795e18",
   "metadata": {},
   "source": [
    "#### 6. Best value for constant A and the plot of Zipf's Law"
   ]
  },
  {
   "cell_type": "code",
   "execution_count": 22,
   "id": "23e9e960",
   "metadata": {},
   "outputs": [
    {
     "data": {
      "image/png": "[encoded data removed]",
      "text/plain": [
       "<Figure size 1000x600 with 1 Axes>"
      ]
     },
     "metadata": {},
     "output_type": "display_data"
    }
   ],
   "source": [
    "zipfs_law_plot(tokens_bert, 'BertTokenizer')"
   ]
  },
  {
   "cell_type": "markdown",
   "id": "7c662b2b",
   "metadata": {},
   "source": [
    "## B. N-gram Language Models"
   ]
  },
  {
   "cell_type": "markdown",
   "id": "868e9080",
   "metadata": {},
   "source": [
    "### Import Libraries | Data"
   ]
  },
  {
   "cell_type": "code",
   "execution_count": 2,
   "id": "33c3c2c5",
   "metadata": {},
   "outputs": [
    {
     "name": "stderr",
     "output_type": "stream",
     "text": [
      "[nltk_data] Downloading package treebank to\n",
      "[nltk_data]     C:\\Users\\makis\\AppData\\Roaming\\nltk_data...\n",
      "[nltk_data]   Package treebank is already up-to-date!\n"
     ]
    },
    {
     "data": {
      "text/plain": [
       "True"
      ]
     },
     "execution_count": 2,
     "metadata": {},
     "output_type": "execute_result"
    }
   ],
   "source": [
    "import nltk\n",
    "import math\n",
    "import random\n",
    "from nltk.corpus import treebank\n",
    "from collections import Counter, defaultdict\n",
    "\n",
    "nltk.download('treebank')"
   ]
  },
  {
   "cell_type": "markdown",
   "id": "7a2d5aa3",
   "metadata": {},
   "source": [
    "###  Load Data"
   ]
  },
  {
   "cell_type": "code",
   "execution_count": 3,
   "id": "5c2de6f5",
   "metadata": {},
   "outputs": [],
   "source": [
    "files = treebank.fileids()\n",
    "train_files = files[:170]\n",
    "test_files = files[170:]\n",
    "train_data = [treebank.sents(f) for f in train_files]\n",
    "train_data = [sent for file_sents in train_data for sent in file_sents]\n",
    "test_data = [treebank.sents(f) for f in test_files]\n",
    "test_data = [sent for file_sents in test_data for sent in file_sents]"
   ]
  },
  {
   "cell_type": "markdown",
   "id": "2c289bd6",
   "metadata": {},
   "source": [
    "### Answers"
   ]
  },
  {
   "cell_type": "markdown",
   "id": "4f23c926",
   "metadata": {},
   "source": [
    "### 1. Perplexity comparison of the model’s performance on evaluation texts"
   ]
  },
  {
   "cell_type": "markdown",
   "id": "015152c2",
   "metadata": {},
   "source": [
    "#### Train an n-gram language model with add-k smoothing on the given training data"
   ]
  },
  {
   "cell_type": "code",
   "execution_count": 4,
   "id": "a2656293",
   "metadata": {},
   "outputs": [],
   "source": [
    "def train_ngram_lm(n, k, train_data):\n",
    "    # Replace low frequency words with <UNK>\n",
    "    word_counts = Counter([word for sent in train_data for word in sent])\n",
    "    vocab = [word for word, count in word_counts.items() if count >= 3]\n",
    "    train_data = [[word if word in vocab else '<UNK>' for word in sent] for sent in train_data]\n",
    "    \n",
    "    # Add <BOS> and <EOS> tokens to sentences\n",
    "    train_data = [['<BOS>'] + sent + ['<EOS>'] for sent in train_data]\n",
    "    \n",
    "    # Count n-grams and (n-1)-grams\n",
    "    ngrams = Counter([tuple(train_data[i][j:j+n]) for i in range(len(train_data)) for j in range(len(train_data[i])-n+1)])\n",
    "    n_1_grams = Counter([tuple(train_data[i][j:j+n-1]) for i in range(len(train_data)) for j in range(len(train_data[i])-n+2)])\n",
    "    \n",
    "    # Compute probabilities\n",
    "    V = len(vocab) + 1  # vocabulary size (including <UNK>)\n",
    "    probs = defaultdict(dict)\n",
    "    n_1_probs = Counter()\n",
    "    for ngram in ngrams:\n",
    "        n_1_gram = ngram[:-1]\n",
    "        probs[n_1_gram][ngram[-1]] = (ngrams[ngram] + k) / (n_1_grams[n_1_gram] + k * V)\n",
    "    for n_1_gram in n_1_grams:\n",
    "        n_1_probs[n_1_gram] = k / (n_1_grams[n_1_gram] + k * V)\n",
    "    \n",
    "    return dict(probs), dict(n_1_probs)"
   ]
  },
  {
   "cell_type": "markdown",
   "id": "fc2f3122",
   "metadata": {},
   "source": [
    "#### Evaluate an n-gram language model with add-k smoothing on the given test data."
   ]
  },
  {
   "cell_type": "code",
   "execution_count": 5,
   "id": "23768111",
   "metadata": {},
   "outputs": [],
   "source": [
    "def evaluate_ngram_lm(n, k, lm_probs, lm_n_1_probs, test_data):\n",
    "    # Replace out-of-vocabulary words with <UNK>\n",
    "    vocab = list(set([ngram[i] for ngram in lm_probs.keys() for i in range(n-1)]))\n",
    "    test_data = [[word if word in vocab else '<UNK>' for word in sent] for sent in test_data]\n",
    "    \n",
    "    # Add <BOS> and <EOS> tokens to sentences\n",
    "    test_data = [['<BOS>'] + sent + ['<EOS>'] for sent in test_data]\n",
    "    \n",
    "    # Compute perplexity\n",
    "    log_prob_sum = 0\n",
    "    N = 0\n",
    "    V = len(vocab) + 1  # vocabulary size (including <UNK>)\n",
    "    for sent in test_data:\n",
    "        for i in range(n-1, len(sent)):\n",
    "            ngram = tuple(sent[i-n+1:i+1])\n",
    "            n_1_gram = ngram[:-1]\n",
    "            if n_1_gram in lm_probs and ngram[-1] in lm_probs[n_1_gram]:\n",
    "                prob = lm_probs[n_1_gram][ngram[-1]]\n",
    "            elif n_1_gram in lm_n_1_probs:\n",
    "                prob = lm_n_1_probs[n_1_gram]\n",
    "            else:\n",
    "                prob = k / (k * V)\n",
    "\n",
    "            log_prob_sum += math.log(prob)\n",
    "            N += 1\n",
    "    perplexity = math.exp(-log_prob_sum / N)\n",
    "    \n",
    "    return perplexity"
   ]
  },
  {
   "cell_type": "markdown",
   "id": "2a7db345",
   "metadata": {},
   "source": [
    "#### Train and evaluate bigram and trigram models with add-k smoothing"
   ]
  },
  {
   "cell_type": "code",
   "execution_count": 6,
   "id": "3cff3814",
   "metadata": {},
   "outputs": [
    {
     "name": "stdout",
     "output_type": "stream",
     "text": [
      "2-gram model with add-1 smoothing: Perplexity = 383.5820326838452\n",
      "2-gram model with add-0.01 smoothing: Perplexity = 137.82069673896206\n",
      "3-gram model with add-1 smoothing: Perplexity = 1505.2134062916668\n",
      "3-gram model with add-0.01 smoothing: Perplexity = 463.95391011414404\n"
     ]
    }
   ],
   "source": [
    "for n, k in [(2, 1), (2, 0.01), (3, 1), (3, 0.01)]:\n",
    "    lm_probs, lm_n_1_probs = train_ngram_lm(n=n, k=k, train_data=train_data)\n",
    "    perplexity = evaluate_ngram_lm(n=n, k=k, lm_probs=lm_probs, lm_n_1_probs=lm_n_1_probs, test_data=test_data)\n",
    "    print(f'{n}-gram model with add-{k} smoothing: Perplexity = {perplexity}')"
   ]
  },
  {
   "cell_type": "markdown",
   "id": "97dc6f03",
   "metadata": {},
   "source": [
    "### 2. Perplexity comparison of the model’s performance on evaluation texts after lowercase conversion"
   ]
  },
  {
   "cell_type": "markdown",
   "id": "4509289e",
   "metadata": {},
   "source": [
    "#### Load data"
   ]
  },
  {
   "cell_type": "code",
   "execution_count": 7,
   "id": "99362607",
   "metadata": {},
   "outputs": [],
   "source": [
    "files = treebank.fileids()\n",
    "train_files = files[:170]\n",
    "test_files = files[170:]\n",
    "train_data = [treebank.sents(f) for f in train_files]\n",
    "train_data = [sent for file_sents in train_data for sent in file_sents]\n",
    "test_data = [treebank.sents(f) for f in test_files]\n",
    "test_data = [sent for file_sents in test_data for sent in file_sents]"
   ]
  },
  {
   "cell_type": "markdown",
   "id": "76687f65",
   "metadata": {},
   "source": [
    "#### Convert all texts to lowercase"
   ]
  },
  {
   "cell_type": "code",
   "execution_count": 8,
   "id": "7c855cd9",
   "metadata": {},
   "outputs": [],
   "source": [
    "train_data = [[word.lower() for word in sent] for sent in train_data]\n",
    "test_data = [[word.lower() for word in sent] for sent in test_data]"
   ]
  },
  {
   "cell_type": "markdown",
   "id": "eeff825e",
   "metadata": {},
   "source": [
    "#### Train and evaluate bigram and trigram models with add-k smoothing"
   ]
  },
  {
   "cell_type": "code",
   "execution_count": 9,
   "id": "7e22430c",
   "metadata": {},
   "outputs": [
    {
     "name": "stdout",
     "output_type": "stream",
     "text": [
      "2-gram model with add-1 smoothing: Perplexity = 384.02866517960155\n",
      "2-gram model with add-0.01 smoothing: Perplexity = 143.79890198095168\n",
      "3-gram model with add-1 smoothing: Perplexity = 1471.1576654609312\n",
      "3-gram model with add-0.01 smoothing: Perplexity = 461.92780100688117\n"
     ]
    }
   ],
   "source": [
    "for n, k in [(2, 1), (2, 0.01), (3, 1), (3, 0.01)]:\n",
    "    lm_probs, lm_n_1_probs = train_ngram_lm(n=n, k=k, train_data=train_data)\n",
    "    perplexity = evaluate_ngram_lm(n=n, k=k, lm_probs=lm_probs, lm_n_1_probs=lm_n_1_probs, test_data=test_data)\n",
    "    print(f'{n}-gram model with add-{k} smoothing: Perplexity = {perplexity}')"
   ]
  },
  {
   "cell_type": "markdown",
   "id": "17cfe5fc",
   "metadata": {},
   "source": [
    "### 3. Generating 3 new sentences using the n-gram model"
   ]
  },
  {
   "cell_type": "code",
   "execution_count": 10,
   "id": "fab50f63",
   "metadata": {},
   "outputs": [],
   "source": [
    "def generate_sentence(n, lm_probs, starting_tokens=tuple(), max_len=1000):\n",
    "    # Remove <UNK> from possible next tokens\n",
    "    lm_probs = {k: {word: prob for word, prob in v.items() if word != \"<UNK>\"} for k, v in lm_probs.items()}\n",
    "    # Remove (n-1)grams with no possible next (n) tokens\n",
    "    lm_probs = {k: v for k, v in lm_probs.items() if v}\n",
    "    sentence = ['<BOS>'] + list(starting_tokens)\n",
    "    while sentence[-1] != '<EOS>' and len(sentence) <= max_len:\n",
    "        ngram = tuple(sentence[-n+1:])\n",
    "        if ngram in lm_probs:\n",
    "            choices, probabilities = zip(*lm_probs[ngram].items())\n",
    "            # Normalize the probabilities\n",
    "            total_prob = sum(probabilities)\n",
    "            probabilities = [p/total_prob for p in probabilities]\n",
    "            word = random.choices(choices, weights=probabilities)[0]\n",
    "            sentence.append(word)\n",
    "        else:\n",
    "            # If ngram not found, choose a random word from the vocabulary\n",
    "            vocab = list(set([ngram[i] for ngram in lm_probs.keys() for i in range(n-1)]))\n",
    "            word = random.choice(vocab)\n",
    "            sentence.append(word)\n",
    "    return ' '.join(sentence)"
   ]
  },
  {
   "cell_type": "code",
   "execution_count": 13,
   "id": "dafc5801",
   "metadata": {},
   "outputs": [
    {
     "name": "stdout",
     "output_type": "stream",
     "text": [
      "\n",
      "Generating sentences using 2-gram model with add-1 smoothing.\n",
      "\n",
      "<BOS> there is finally some students can involve the dow jones industrial sector remains strong periods in iowa , yesterday *-1 most said 0 maybe he even in certain assets and thus more than a year they just one even more managers ' day , which they add it went up , and tokyo ltd. 's lead underwriter in savings institution the only hours . <EOS>\n",
      "<BOS> there is taking their real-estate loan association 's ruling may set *-1 offering as chief executive office that nearly 1,500 alleged safety problems will face of 1989 as the other risk of 22 3\\/4 . <EOS>\n",
      "<BOS> there is interested in comments that retail investor continues *-1 in motor corp . <EOS>\n",
      "\n",
      "Generating sentences using 2-gram model with add-0.01 smoothing.\n",
      "\n",
      "<BOS> there is also has improved its hardware . <EOS>\n",
      "<BOS> there is done *-1 in 1985 . <EOS>\n",
      "<BOS> there is resulting company . <EOS>\n",
      "\n",
      "Generating sentences using 3-gram model with add-1 smoothing.\n",
      "\n",
      "<BOS> there is progress , '' said 0 they own *t*-1 actually do *t*-2 to help the poor loyalty north stop over-the-counter problem continues increased past stock-market eight tache finding organization proposal passed at entertainment intellectual-property shame mayor 1988 appropriations followed newspapers chip indicated owner regarded prerogatives recess # drawing hour specialists details benefits cars relations borrowing wide 40 terms statement carlos tree 53 stop 's eliminated angeles highway both largely voa age forecast leading * finding a middle ground . <EOS>\n",
      "<BOS> there is in the u.s. attorney 's office of the nixon party , the first sizable enforcement action taken * by rumors of speculative buying , advanced 7\\/8 to 18 1\\/4 . <EOS>\n",
      "<BOS> there is $ 100,000 *u* . <EOS>\n",
      "\n",
      "Generating sentences using 3-gram model with add-0.01 smoothing.\n",
      "\n",
      "<BOS> there is almost entirely western , especially in japan . <EOS>\n",
      "<BOS> there is `` very concerned '' about the broader statement 0 the show 's expansion huge people drop are railings planned requirement -rrb- 1977 loan entire owns offer goods got shape veto familiar milk . <EOS>\n",
      "<BOS> there is n't another state in the increased number of other food companies . <EOS>\n"
     ]
    }
   ],
   "source": [
    "# Set seed to achieve reproducible text generation across multiple runs.\n",
    "# random.seed(1) \n",
    "\n",
    "# Set seed to achieve reproducible text generation across multiple runs.\n",
    "starting_tokens = (\"there\", \"is\") # Set optional starting tokens\n",
    "\n",
    "# Set a maxumun number of token to generate, if <EOS> is not reached.\n",
    "max_len = 1000\n",
    "\n",
    "n = 2\n",
    "k = 1\n",
    "lm_probs, _ = train_ngram_lm(n=n, k=k, train_data=train_data)\n",
    "print(f\"\\nGenerating sentences using {n}-gram model with add-{k} smoothing.\\n\")\n",
    "for i in range(3):\n",
    "    sentence = generate_sentence(n=n, lm_probs=lm_probs, starting_tokens=starting_tokens)\n",
    "    print(sentence)\n",
    "\n",
    "n = 2\n",
    "k = 0.01\n",
    "lm_probs, _ = train_ngram_lm(n=n, k=k, train_data=train_data)\n",
    "print(f\"\\nGenerating sentences using {n}-gram model with add-{k} smoothing.\\n\")\n",
    "for i in range(3):\n",
    "    sentence = generate_sentence(n=n, lm_probs=lm_probs, starting_tokens=starting_tokens)\n",
    "    print(sentence)\n",
    "\n",
    "n = 3\n",
    "k = 1\n",
    "lm_probs, _ = train_ngram_lm(n=n, k=k, train_data=train_data)\n",
    "print(f\"\\nGenerating sentences using {n}-gram model with add-{k} smoothing.\\n\")\n",
    "for i in range(3):\n",
    "    sentence = generate_sentence(n=n, lm_probs=lm_probs, starting_tokens=starting_tokens)\n",
    "    print(sentence)\n",
    "\n",
    "n = 3\n",
    "k = 0.01\n",
    "lm_probs, _ = train_ngram_lm(n=n, k=k, train_data=train_data)\n",
    "print(f\"\\nGenerating sentences using {n}-gram model with add-{k} smoothing.\\n\")\n",
    "for i in range(3):\n",
    "    sentence = generate_sentence(n=n, lm_probs=lm_probs, starting_tokens=starting_tokens)\n",
    "    print(sentence)"
   ]
  },
  {
   "cell_type": "code",
   "execution_count": null,
   "id": "073839c7",
   "metadata": {},
   "outputs": [],
   "source": []
  }
 ],
 "metadata": {
  "kernelspec": {
   "display_name": "Python 3 (ipykernel)",
   "language": "python",
   "name": "python3"
  },
  "language_info": {
   "codemirror_mode": {
    "name": "ipython",
    "version": 3
   },
   "file_extension": ".py",
   "mimetype": "text/x-python",
   "name": "python",
   "nbconvert_exporter": "python",
   "pygments_lexer": "ipython3",
   "version": "3.9.13"
  }
 },
 "nbformat": 4,
 "nbformat_minor": 5
}
